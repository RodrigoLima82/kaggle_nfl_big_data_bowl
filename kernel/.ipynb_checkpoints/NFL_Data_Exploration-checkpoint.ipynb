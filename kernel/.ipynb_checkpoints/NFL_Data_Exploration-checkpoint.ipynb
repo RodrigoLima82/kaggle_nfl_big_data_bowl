{
 "cells": [
  {
   "cell_type": "markdown",
   "metadata": {},
   "source": [
    "# Kaggle\n",
    "## Competition NFL Big Data Bowl"
   ]
  },
  {
   "cell_type": "code",
   "execution_count": 1,
   "metadata": {
    "_cell_guid": "b1076dfc-b9ad-4769-8c92-a6c4dae69d19",
    "_kg_hide-input": true,
    "_uuid": "8f2839f25d086af736a60e9eeb907d3b93b6e0e5"
   },
   "outputs": [],
   "source": [
    "# Carregando os pacotes\n",
    "import numpy as np \n",
    "import pandas as pd \n",
    "import seaborn as sns\n",
    "import matplotlib.pyplot as plt\n",
    "%matplotlib inline\n",
    "\n",
    "# Statistic lib\n",
    "from scipy import stats\n",
    "from scipy.stats import skew, norm\n",
    "from scipy.stats import randint as sp_randint\n",
    "from scipy.stats import uniform as sp_uniform\n",
    "\n",
    "import warnings\n",
    "warnings.filterwarnings('ignore')\n",
    "import gc\n",
    "gc.enable()"
   ]
  },
  {
   "cell_type": "code",
   "execution_count": 2,
   "metadata": {
    "_kg_hide-input": true,
    "_uuid": "f5fdc987f79035336b408413b3b3111d1b48fd2a"
   },
   "outputs": [
    {
     "name": "stdout",
     "output_type": "stream",
     "text": [
      "Data is ready !!\n"
     ]
    }
   ],
   "source": [
    "# Carregando os dados de treino\n",
    "train = pd.read_csv('../data/train.csv')\n",
    "print (\"Data is ready !!\")"
   ]
  },
  {
   "cell_type": "markdown",
   "metadata": {
    "_kg_hide-output": true,
    "_uuid": "c49cf65c83506e6f1cdbf049770740c224b2f710"
   },
   "source": [
    "# Data exploration"
   ]
  },
  {
   "cell_type": "code",
   "execution_count": 3,
   "metadata": {
    "_uuid": "b09576a89afcccb0ace8841e1b4a14142054ed1b"
   },
   "outputs": [
    {
     "data": {
      "text/html": [
       "<div>\n",
       "<style scoped>\n",
       "    .dataframe tbody tr th:only-of-type {\n",
       "        vertical-align: middle;\n",
       "    }\n",
       "\n",
       "    .dataframe tbody tr th {\n",
       "        vertical-align: top;\n",
       "    }\n",
       "\n",
       "    .dataframe thead th {\n",
       "        text-align: right;\n",
       "    }\n",
       "</style>\n",
       "<table border=\"1\" class=\"dataframe\">\n",
       "  <thead>\n",
       "    <tr style=\"text-align: right;\">\n",
       "      <th></th>\n",
       "      <th>GameId</th>\n",
       "      <th>PlayId</th>\n",
       "      <th>Team</th>\n",
       "      <th>X</th>\n",
       "      <th>Y</th>\n",
       "      <th>S</th>\n",
       "      <th>A</th>\n",
       "      <th>Dis</th>\n",
       "      <th>Orientation</th>\n",
       "      <th>Dir</th>\n",
       "      <th>...</th>\n",
       "      <th>Week</th>\n",
       "      <th>Stadium</th>\n",
       "      <th>Location</th>\n",
       "      <th>StadiumType</th>\n",
       "      <th>Turf</th>\n",
       "      <th>GameWeather</th>\n",
       "      <th>Temperature</th>\n",
       "      <th>Humidity</th>\n",
       "      <th>WindSpeed</th>\n",
       "      <th>WindDirection</th>\n",
       "    </tr>\n",
       "  </thead>\n",
       "  <tbody>\n",
       "    <tr>\n",
       "      <th>0</th>\n",
       "      <td>2017090700</td>\n",
       "      <td>20170907000118</td>\n",
       "      <td>away</td>\n",
       "      <td>73.91</td>\n",
       "      <td>34.84</td>\n",
       "      <td>1.69</td>\n",
       "      <td>1.13</td>\n",
       "      <td>0.40</td>\n",
       "      <td>81.99</td>\n",
       "      <td>177.18</td>\n",
       "      <td>...</td>\n",
       "      <td>1</td>\n",
       "      <td>Gillette Stadium</td>\n",
       "      <td>Foxborough, MA</td>\n",
       "      <td>Outdoor</td>\n",
       "      <td>Field Turf</td>\n",
       "      <td>Clear and warm</td>\n",
       "      <td>63.0</td>\n",
       "      <td>77.0</td>\n",
       "      <td>8</td>\n",
       "      <td>SW</td>\n",
       "    </tr>\n",
       "    <tr>\n",
       "      <th>1</th>\n",
       "      <td>2017090700</td>\n",
       "      <td>20170907000118</td>\n",
       "      <td>away</td>\n",
       "      <td>74.67</td>\n",
       "      <td>32.64</td>\n",
       "      <td>0.42</td>\n",
       "      <td>1.35</td>\n",
       "      <td>0.01</td>\n",
       "      <td>27.61</td>\n",
       "      <td>198.70</td>\n",
       "      <td>...</td>\n",
       "      <td>1</td>\n",
       "      <td>Gillette Stadium</td>\n",
       "      <td>Foxborough, MA</td>\n",
       "      <td>Outdoor</td>\n",
       "      <td>Field Turf</td>\n",
       "      <td>Clear and warm</td>\n",
       "      <td>63.0</td>\n",
       "      <td>77.0</td>\n",
       "      <td>8</td>\n",
       "      <td>SW</td>\n",
       "    </tr>\n",
       "    <tr>\n",
       "      <th>2</th>\n",
       "      <td>2017090700</td>\n",
       "      <td>20170907000118</td>\n",
       "      <td>away</td>\n",
       "      <td>74.00</td>\n",
       "      <td>33.20</td>\n",
       "      <td>1.22</td>\n",
       "      <td>0.59</td>\n",
       "      <td>0.31</td>\n",
       "      <td>3.01</td>\n",
       "      <td>202.73</td>\n",
       "      <td>...</td>\n",
       "      <td>1</td>\n",
       "      <td>Gillette Stadium</td>\n",
       "      <td>Foxborough, MA</td>\n",
       "      <td>Outdoor</td>\n",
       "      <td>Field Turf</td>\n",
       "      <td>Clear and warm</td>\n",
       "      <td>63.0</td>\n",
       "      <td>77.0</td>\n",
       "      <td>8</td>\n",
       "      <td>SW</td>\n",
       "    </tr>\n",
       "    <tr>\n",
       "      <th>3</th>\n",
       "      <td>2017090700</td>\n",
       "      <td>20170907000118</td>\n",
       "      <td>away</td>\n",
       "      <td>71.46</td>\n",
       "      <td>27.70</td>\n",
       "      <td>0.42</td>\n",
       "      <td>0.54</td>\n",
       "      <td>0.02</td>\n",
       "      <td>359.77</td>\n",
       "      <td>105.64</td>\n",
       "      <td>...</td>\n",
       "      <td>1</td>\n",
       "      <td>Gillette Stadium</td>\n",
       "      <td>Foxborough, MA</td>\n",
       "      <td>Outdoor</td>\n",
       "      <td>Field Turf</td>\n",
       "      <td>Clear and warm</td>\n",
       "      <td>63.0</td>\n",
       "      <td>77.0</td>\n",
       "      <td>8</td>\n",
       "      <td>SW</td>\n",
       "    </tr>\n",
       "    <tr>\n",
       "      <th>4</th>\n",
       "      <td>2017090700</td>\n",
       "      <td>20170907000118</td>\n",
       "      <td>away</td>\n",
       "      <td>69.32</td>\n",
       "      <td>35.42</td>\n",
       "      <td>1.82</td>\n",
       "      <td>2.43</td>\n",
       "      <td>0.16</td>\n",
       "      <td>12.63</td>\n",
       "      <td>164.31</td>\n",
       "      <td>...</td>\n",
       "      <td>1</td>\n",
       "      <td>Gillette Stadium</td>\n",
       "      <td>Foxborough, MA</td>\n",
       "      <td>Outdoor</td>\n",
       "      <td>Field Turf</td>\n",
       "      <td>Clear and warm</td>\n",
       "      <td>63.0</td>\n",
       "      <td>77.0</td>\n",
       "      <td>8</td>\n",
       "      <td>SW</td>\n",
       "    </tr>\n",
       "  </tbody>\n",
       "</table>\n",
       "<p>5 rows × 49 columns</p>\n",
       "</div>"
      ],
      "text/plain": [
       "       GameId          PlayId  Team      X      Y     S     A   Dis  \\\n",
       "0  2017090700  20170907000118  away  73.91  34.84  1.69  1.13  0.40   \n",
       "1  2017090700  20170907000118  away  74.67  32.64  0.42  1.35  0.01   \n",
       "2  2017090700  20170907000118  away  74.00  33.20  1.22  0.59  0.31   \n",
       "3  2017090700  20170907000118  away  71.46  27.70  0.42  0.54  0.02   \n",
       "4  2017090700  20170907000118  away  69.32  35.42  1.82  2.43  0.16   \n",
       "\n",
       "   Orientation     Dir  ...  Week           Stadium        Location  \\\n",
       "0        81.99  177.18  ...     1  Gillette Stadium  Foxborough, MA   \n",
       "1        27.61  198.70  ...     1  Gillette Stadium  Foxborough, MA   \n",
       "2         3.01  202.73  ...     1  Gillette Stadium  Foxborough, MA   \n",
       "3       359.77  105.64  ...     1  Gillette Stadium  Foxborough, MA   \n",
       "4        12.63  164.31  ...     1  Gillette Stadium  Foxborough, MA   \n",
       "\n",
       "   StadiumType        Turf     GameWeather Temperature Humidity  WindSpeed  \\\n",
       "0      Outdoor  Field Turf  Clear and warm        63.0     77.0          8   \n",
       "1      Outdoor  Field Turf  Clear and warm        63.0     77.0          8   \n",
       "2      Outdoor  Field Turf  Clear and warm        63.0     77.0          8   \n",
       "3      Outdoor  Field Turf  Clear and warm        63.0     77.0          8   \n",
       "4      Outdoor  Field Turf  Clear and warm        63.0     77.0          8   \n",
       "\n",
       "   WindDirection  \n",
       "0             SW  \n",
       "1             SW  \n",
       "2             SW  \n",
       "3             SW  \n",
       "4             SW  \n",
       "\n",
       "[5 rows x 49 columns]"
      ]
     },
     "execution_count": 3,
     "metadata": {},
     "output_type": "execute_result"
    }
   ],
   "source": [
    "# Visualizando os primeiros registros do dataset\n",
    "train.head()"
   ]
  },
  {
   "cell_type": "code",
   "execution_count": 4,
   "metadata": {
    "_uuid": "ae7e4ecb648eb745fe29ced1f41e63c682fefeef"
   },
   "outputs": [
    {
     "data": {
      "text/plain": [
       "GameId                      int64\n",
       "PlayId                      int64\n",
       "Team                       object\n",
       "X                         float64\n",
       "Y                         float64\n",
       "S                         float64\n",
       "A                         float64\n",
       "Dis                       float64\n",
       "Orientation               float64\n",
       "Dir                       float64\n",
       "NflId                       int64\n",
       "DisplayName                object\n",
       "JerseyNumber                int64\n",
       "Season                      int64\n",
       "YardLine                    int64\n",
       "Quarter                     int64\n",
       "GameClock                  object\n",
       "PossessionTeam             object\n",
       "Down                        int64\n",
       "Distance                    int64\n",
       "FieldPosition              object\n",
       "HomeScoreBeforePlay         int64\n",
       "VisitorScoreBeforePlay      int64\n",
       "NflIdRusher                 int64\n",
       "OffenseFormation           object\n",
       "OffensePersonnel           object\n",
       "DefendersInTheBox         float64\n",
       "DefensePersonnel           object\n",
       "PlayDirection              object\n",
       "TimeHandoff                object\n",
       "TimeSnap                   object\n",
       "Yards                       int64\n",
       "PlayerHeight               object\n",
       "PlayerWeight                int64\n",
       "PlayerBirthDate            object\n",
       "PlayerCollegeName          object\n",
       "Position                   object\n",
       "HomeTeamAbbr               object\n",
       "VisitorTeamAbbr            object\n",
       "Week                        int64\n",
       "Stadium                    object\n",
       "Location                   object\n",
       "StadiumType                object\n",
       "Turf                       object\n",
       "GameWeather                object\n",
       "Temperature               float64\n",
       "Humidity                  float64\n",
       "WindSpeed                  object\n",
       "WindDirection              object\n",
       "dtype: object"
      ]
     },
     "execution_count": 4,
     "metadata": {},
     "output_type": "execute_result"
    }
   ],
   "source": [
    "# Visualizando os tipos das features\n",
    "train.dtypes"
   ]
  },
  {
   "cell_type": "code",
   "execution_count": 5,
   "metadata": {
    "_uuid": "a82a4fcfd7b086e5dfd2dabf56bf631c176a6eb1"
   },
   "outputs": [
    {
     "data": {
      "text/html": [
       "<div>\n",
       "<style scoped>\n",
       "    .dataframe tbody tr th:only-of-type {\n",
       "        vertical-align: middle;\n",
       "    }\n",
       "\n",
       "    .dataframe tbody tr th {\n",
       "        vertical-align: top;\n",
       "    }\n",
       "\n",
       "    .dataframe thead th {\n",
       "        text-align: right;\n",
       "    }\n",
       "</style>\n",
       "<table border=\"1\" class=\"dataframe\">\n",
       "  <thead>\n",
       "    <tr style=\"text-align: right;\">\n",
       "      <th></th>\n",
       "      <th>count</th>\n",
       "      <th>mean</th>\n",
       "      <th>std</th>\n",
       "      <th>min</th>\n",
       "      <th>25%</th>\n",
       "      <th>50%</th>\n",
       "      <th>75%</th>\n",
       "      <th>max</th>\n",
       "    </tr>\n",
       "  </thead>\n",
       "  <tbody>\n",
       "    <tr>\n",
       "      <th>GameId</th>\n",
       "      <td>509762.0</td>\n",
       "      <td>2.017594e+09</td>\n",
       "      <td>4.997098e+05</td>\n",
       "      <td>2.017091e+09</td>\n",
       "      <td>2.017111e+09</td>\n",
       "      <td>2.017123e+09</td>\n",
       "      <td>2.018110e+09</td>\n",
       "      <td>2.018123e+09</td>\n",
       "    </tr>\n",
       "    <tr>\n",
       "      <th>PlayId</th>\n",
       "      <td>509762.0</td>\n",
       "      <td>2.017594e+13</td>\n",
       "      <td>4.997098e+09</td>\n",
       "      <td>2.017091e+13</td>\n",
       "      <td>2.017111e+13</td>\n",
       "      <td>2.017123e+13</td>\n",
       "      <td>2.018110e+13</td>\n",
       "      <td>2.018123e+13</td>\n",
       "    </tr>\n",
       "    <tr>\n",
       "      <th>X</th>\n",
       "      <td>509762.0</td>\n",
       "      <td>6.004030e+01</td>\n",
       "      <td>2.543526e+01</td>\n",
       "      <td>6.600000e-01</td>\n",
       "      <td>3.909000e+01</td>\n",
       "      <td>6.029000e+01</td>\n",
       "      <td>8.097000e+01</td>\n",
       "      <td>1.168400e+02</td>\n",
       "    </tr>\n",
       "    <tr>\n",
       "      <th>Y</th>\n",
       "      <td>509762.0</td>\n",
       "      <td>2.678354e+01</td>\n",
       "      <td>7.238206e+00</td>\n",
       "      <td>1.850000e+00</td>\n",
       "      <td>2.273000e+01</td>\n",
       "      <td>2.679000e+01</td>\n",
       "      <td>3.086000e+01</td>\n",
       "      <td>5.645000e+01</td>\n",
       "    </tr>\n",
       "    <tr>\n",
       "      <th>S</th>\n",
       "      <td>509762.0</td>\n",
       "      <td>2.591912e+00</td>\n",
       "      <td>1.383601e+00</td>\n",
       "      <td>0.000000e+00</td>\n",
       "      <td>1.500000e+00</td>\n",
       "      <td>2.470000e+00</td>\n",
       "      <td>3.560000e+00</td>\n",
       "      <td>9.410000e+00</td>\n",
       "    </tr>\n",
       "    <tr>\n",
       "      <th>A</th>\n",
       "      <td>509762.0</td>\n",
       "      <td>1.683176e+00</td>\n",
       "      <td>9.764122e-01</td>\n",
       "      <td>0.000000e+00</td>\n",
       "      <td>9.400000e-01</td>\n",
       "      <td>1.540000e+00</td>\n",
       "      <td>2.290000e+00</td>\n",
       "      <td>1.471000e+01</td>\n",
       "    </tr>\n",
       "    <tr>\n",
       "      <th>Dis</th>\n",
       "      <td>509762.0</td>\n",
       "      <td>2.794058e-01</td>\n",
       "      <td>1.454822e-01</td>\n",
       "      <td>0.000000e+00</td>\n",
       "      <td>1.700000e-01</td>\n",
       "      <td>2.700000e-01</td>\n",
       "      <td>3.900000e-01</td>\n",
       "      <td>1.390000e+00</td>\n",
       "    </tr>\n",
       "    <tr>\n",
       "      <th>Orientation</th>\n",
       "      <td>509744.0</td>\n",
       "      <td>1.802478e+02</td>\n",
       "      <td>1.042983e+02</td>\n",
       "      <td>0.000000e+00</td>\n",
       "      <td>9.063000e+01</td>\n",
       "      <td>1.797000e+02</td>\n",
       "      <td>2.704000e+02</td>\n",
       "      <td>3.600000e+02</td>\n",
       "    </tr>\n",
       "    <tr>\n",
       "      <th>Dir</th>\n",
       "      <td>509748.0</td>\n",
       "      <td>1.799339e+02</td>\n",
       "      <td>1.063195e+02</td>\n",
       "      <td>0.000000e+00</td>\n",
       "      <td>8.983000e+01</td>\n",
       "      <td>1.800900e+02</td>\n",
       "      <td>2.701900e+02</td>\n",
       "      <td>3.600000e+02</td>\n",
       "    </tr>\n",
       "    <tr>\n",
       "      <th>NflId</th>\n",
       "      <td>509762.0</td>\n",
       "      <td>2.344703e+06</td>\n",
       "      <td>6.418871e+05</td>\n",
       "      <td>2.220000e+02</td>\n",
       "      <td>2.532865e+06</td>\n",
       "      <td>2.543765e+06</td>\n",
       "      <td>2.555343e+06</td>\n",
       "      <td>2.561671e+06</td>\n",
       "    </tr>\n",
       "    <tr>\n",
       "      <th>JerseyNumber</th>\n",
       "      <td>509762.0</td>\n",
       "      <td>5.418798e+01</td>\n",
       "      <td>2.837936e+01</td>\n",
       "      <td>1.000000e+00</td>\n",
       "      <td>2.600000e+01</td>\n",
       "      <td>5.600000e+01</td>\n",
       "      <td>7.800000e+01</td>\n",
       "      <td>9.900000e+01</td>\n",
       "    </tr>\n",
       "    <tr>\n",
       "      <th>Season</th>\n",
       "      <td>509762.0</td>\n",
       "      <td>2.017486e+03</td>\n",
       "      <td>4.998162e-01</td>\n",
       "      <td>2.017000e+03</td>\n",
       "      <td>2.017000e+03</td>\n",
       "      <td>2.017000e+03</td>\n",
       "      <td>2.018000e+03</td>\n",
       "      <td>2.018000e+03</td>\n",
       "    </tr>\n",
       "    <tr>\n",
       "      <th>YardLine</th>\n",
       "      <td>509762.0</td>\n",
       "      <td>2.836874e+01</td>\n",
       "      <td>1.301092e+01</td>\n",
       "      <td>1.000000e+00</td>\n",
       "      <td>2.000000e+01</td>\n",
       "      <td>2.900000e+01</td>\n",
       "      <td>3.900000e+01</td>\n",
       "      <td>5.000000e+01</td>\n",
       "    </tr>\n",
       "    <tr>\n",
       "      <th>Quarter</th>\n",
       "      <td>509762.0</td>\n",
       "      <td>2.504639e+00</td>\n",
       "      <td>1.144105e+00</td>\n",
       "      <td>1.000000e+00</td>\n",
       "      <td>1.000000e+00</td>\n",
       "      <td>3.000000e+00</td>\n",
       "      <td>4.000000e+00</td>\n",
       "      <td>5.000000e+00</td>\n",
       "    </tr>\n",
       "    <tr>\n",
       "      <th>Down</th>\n",
       "      <td>509762.0</td>\n",
       "      <td>1.520651e+00</td>\n",
       "      <td>6.749873e-01</td>\n",
       "      <td>1.000000e+00</td>\n",
       "      <td>1.000000e+00</td>\n",
       "      <td>1.000000e+00</td>\n",
       "      <td>2.000000e+00</td>\n",
       "      <td>4.000000e+00</td>\n",
       "    </tr>\n",
       "    <tr>\n",
       "      <th>Distance</th>\n",
       "      <td>509762.0</td>\n",
       "      <td>8.329248e+00</td>\n",
       "      <td>3.795208e+00</td>\n",
       "      <td>1.000000e+00</td>\n",
       "      <td>6.000000e+00</td>\n",
       "      <td>1.000000e+01</td>\n",
       "      <td>1.000000e+01</td>\n",
       "      <td>4.000000e+01</td>\n",
       "    </tr>\n",
       "    <tr>\n",
       "      <th>HomeScoreBeforePlay</th>\n",
       "      <td>509762.0</td>\n",
       "      <td>1.114807e+01</td>\n",
       "      <td>1.027710e+01</td>\n",
       "      <td>0.000000e+00</td>\n",
       "      <td>3.000000e+00</td>\n",
       "      <td>9.000000e+00</td>\n",
       "      <td>1.700000e+01</td>\n",
       "      <td>5.700000e+01</td>\n",
       "    </tr>\n",
       "    <tr>\n",
       "      <th>VisitorScoreBeforePlay</th>\n",
       "      <td>509762.0</td>\n",
       "      <td>9.501057e+00</td>\n",
       "      <td>9.366413e+00</td>\n",
       "      <td>0.000000e+00</td>\n",
       "      <td>0.000000e+00</td>\n",
       "      <td>7.000000e+00</td>\n",
       "      <td>1.400000e+01</td>\n",
       "      <td>5.100000e+01</td>\n",
       "    </tr>\n",
       "    <tr>\n",
       "      <th>NflIdRusher</th>\n",
       "      <td>509762.0</td>\n",
       "      <td>2.419204e+06</td>\n",
       "      <td>5.357783e+05</td>\n",
       "      <td>2.340000e+02</td>\n",
       "      <td>2.540011e+06</td>\n",
       "      <td>2.552582e+06</td>\n",
       "      <td>2.557976e+06</td>\n",
       "      <td>2.561468e+06</td>\n",
       "    </tr>\n",
       "    <tr>\n",
       "      <th>DefendersInTheBox</th>\n",
       "      <td>509696.0</td>\n",
       "      <td>6.943025e+00</td>\n",
       "      <td>9.911303e-01</td>\n",
       "      <td>1.000000e+00</td>\n",
       "      <td>6.000000e+00</td>\n",
       "      <td>7.000000e+00</td>\n",
       "      <td>8.000000e+00</td>\n",
       "      <td>1.100000e+01</td>\n",
       "    </tr>\n",
       "    <tr>\n",
       "      <th>Yards</th>\n",
       "      <td>509762.0</td>\n",
       "      <td>4.212334e+00</td>\n",
       "      <td>6.436167e+00</td>\n",
       "      <td>-1.400000e+01</td>\n",
       "      <td>1.000000e+00</td>\n",
       "      <td>3.000000e+00</td>\n",
       "      <td>6.000000e+00</td>\n",
       "      <td>9.900000e+01</td>\n",
       "    </tr>\n",
       "    <tr>\n",
       "      <th>PlayerWeight</th>\n",
       "      <td>509762.0</td>\n",
       "      <td>2.535544e+02</td>\n",
       "      <td>4.836739e+01</td>\n",
       "      <td>1.530000e+02</td>\n",
       "      <td>2.100000e+02</td>\n",
       "      <td>2.450000e+02</td>\n",
       "      <td>3.050000e+02</td>\n",
       "      <td>3.800000e+02</td>\n",
       "    </tr>\n",
       "    <tr>\n",
       "      <th>Week</th>\n",
       "      <td>509762.0</td>\n",
       "      <td>9.096370e+00</td>\n",
       "      <td>5.000984e+00</td>\n",
       "      <td>1.000000e+00</td>\n",
       "      <td>5.000000e+00</td>\n",
       "      <td>9.000000e+00</td>\n",
       "      <td>1.400000e+01</td>\n",
       "      <td>1.700000e+01</td>\n",
       "    </tr>\n",
       "    <tr>\n",
       "      <th>Temperature</th>\n",
       "      <td>461230.0</td>\n",
       "      <td>6.043644e+01</td>\n",
       "      <td>1.757029e+01</td>\n",
       "      <td>9.000000e+00</td>\n",
       "      <td>4.800000e+01</td>\n",
       "      <td>6.200000e+01</td>\n",
       "      <td>7.300000e+01</td>\n",
       "      <td>9.700000e+01</td>\n",
       "    </tr>\n",
       "    <tr>\n",
       "      <th>Humidity</th>\n",
       "      <td>503602.0</td>\n",
       "      <td>5.564606e+01</td>\n",
       "      <td>2.543098e+01</td>\n",
       "      <td>0.000000e+00</td>\n",
       "      <td>4.300000e+01</td>\n",
       "      <td>5.900000e+01</td>\n",
       "      <td>7.100000e+01</td>\n",
       "      <td>1.000000e+02</td>\n",
       "    </tr>\n",
       "  </tbody>\n",
       "</table>\n",
       "</div>"
      ],
      "text/plain": [
       "                           count          mean           std           min  \\\n",
       "GameId                  509762.0  2.017594e+09  4.997098e+05  2.017091e+09   \n",
       "PlayId                  509762.0  2.017594e+13  4.997098e+09  2.017091e+13   \n",
       "X                       509762.0  6.004030e+01  2.543526e+01  6.600000e-01   \n",
       "Y                       509762.0  2.678354e+01  7.238206e+00  1.850000e+00   \n",
       "S                       509762.0  2.591912e+00  1.383601e+00  0.000000e+00   \n",
       "A                       509762.0  1.683176e+00  9.764122e-01  0.000000e+00   \n",
       "Dis                     509762.0  2.794058e-01  1.454822e-01  0.000000e+00   \n",
       "Orientation             509744.0  1.802478e+02  1.042983e+02  0.000000e+00   \n",
       "Dir                     509748.0  1.799339e+02  1.063195e+02  0.000000e+00   \n",
       "NflId                   509762.0  2.344703e+06  6.418871e+05  2.220000e+02   \n",
       "JerseyNumber            509762.0  5.418798e+01  2.837936e+01  1.000000e+00   \n",
       "Season                  509762.0  2.017486e+03  4.998162e-01  2.017000e+03   \n",
       "YardLine                509762.0  2.836874e+01  1.301092e+01  1.000000e+00   \n",
       "Quarter                 509762.0  2.504639e+00  1.144105e+00  1.000000e+00   \n",
       "Down                    509762.0  1.520651e+00  6.749873e-01  1.000000e+00   \n",
       "Distance                509762.0  8.329248e+00  3.795208e+00  1.000000e+00   \n",
       "HomeScoreBeforePlay     509762.0  1.114807e+01  1.027710e+01  0.000000e+00   \n",
       "VisitorScoreBeforePlay  509762.0  9.501057e+00  9.366413e+00  0.000000e+00   \n",
       "NflIdRusher             509762.0  2.419204e+06  5.357783e+05  2.340000e+02   \n",
       "DefendersInTheBox       509696.0  6.943025e+00  9.911303e-01  1.000000e+00   \n",
       "Yards                   509762.0  4.212334e+00  6.436167e+00 -1.400000e+01   \n",
       "PlayerWeight            509762.0  2.535544e+02  4.836739e+01  1.530000e+02   \n",
       "Week                    509762.0  9.096370e+00  5.000984e+00  1.000000e+00   \n",
       "Temperature             461230.0  6.043644e+01  1.757029e+01  9.000000e+00   \n",
       "Humidity                503602.0  5.564606e+01  2.543098e+01  0.000000e+00   \n",
       "\n",
       "                                 25%           50%           75%           max  \n",
       "GameId                  2.017111e+09  2.017123e+09  2.018110e+09  2.018123e+09  \n",
       "PlayId                  2.017111e+13  2.017123e+13  2.018110e+13  2.018123e+13  \n",
       "X                       3.909000e+01  6.029000e+01  8.097000e+01  1.168400e+02  \n",
       "Y                       2.273000e+01  2.679000e+01  3.086000e+01  5.645000e+01  \n",
       "S                       1.500000e+00  2.470000e+00  3.560000e+00  9.410000e+00  \n",
       "A                       9.400000e-01  1.540000e+00  2.290000e+00  1.471000e+01  \n",
       "Dis                     1.700000e-01  2.700000e-01  3.900000e-01  1.390000e+00  \n",
       "Orientation             9.063000e+01  1.797000e+02  2.704000e+02  3.600000e+02  \n",
       "Dir                     8.983000e+01  1.800900e+02  2.701900e+02  3.600000e+02  \n",
       "NflId                   2.532865e+06  2.543765e+06  2.555343e+06  2.561671e+06  \n",
       "JerseyNumber            2.600000e+01  5.600000e+01  7.800000e+01  9.900000e+01  \n",
       "Season                  2.017000e+03  2.017000e+03  2.018000e+03  2.018000e+03  \n",
       "YardLine                2.000000e+01  2.900000e+01  3.900000e+01  5.000000e+01  \n",
       "Quarter                 1.000000e+00  3.000000e+00  4.000000e+00  5.000000e+00  \n",
       "Down                    1.000000e+00  1.000000e+00  2.000000e+00  4.000000e+00  \n",
       "Distance                6.000000e+00  1.000000e+01  1.000000e+01  4.000000e+01  \n",
       "HomeScoreBeforePlay     3.000000e+00  9.000000e+00  1.700000e+01  5.700000e+01  \n",
       "VisitorScoreBeforePlay  0.000000e+00  7.000000e+00  1.400000e+01  5.100000e+01  \n",
       "NflIdRusher             2.540011e+06  2.552582e+06  2.557976e+06  2.561468e+06  \n",
       "DefendersInTheBox       6.000000e+00  7.000000e+00  8.000000e+00  1.100000e+01  \n",
       "Yards                   1.000000e+00  3.000000e+00  6.000000e+00  9.900000e+01  \n",
       "PlayerWeight            2.100000e+02  2.450000e+02  3.050000e+02  3.800000e+02  \n",
       "Week                    5.000000e+00  9.000000e+00  1.400000e+01  1.700000e+01  \n",
       "Temperature             4.800000e+01  6.200000e+01  7.300000e+01  9.700000e+01  \n",
       "Humidity                4.300000e+01  5.900000e+01  7.100000e+01  1.000000e+02  "
      ]
     },
     "execution_count": 5,
     "metadata": {},
     "output_type": "execute_result"
    }
   ],
   "source": [
    "# Visualizando dados estatisticos das variaveis numericas\n",
    "train.describe().T"
   ]
  },
  {
   "cell_type": "code",
   "execution_count": 6,
   "metadata": {
    "_kg_hide-input": true,
    "_uuid": "bfc230e8283491c2cfe124b6c5c2a08f7560a14a"
   },
   "outputs": [],
   "source": [
    "def percent_missing(df):\n",
    "    data = pd.DataFrame(df)\n",
    "    df_cols = list(pd.DataFrame(data))\n",
    "    dict_x = {}\n",
    "    for i in range(0, len(df_cols)):\n",
    "        dict_x.update({df_cols[i]: round(data[df_cols[i]].isnull().mean()*100,2)})\n",
    "    \n",
    "    return dict_x"
   ]
  },
  {
   "cell_type": "code",
   "execution_count": 7,
   "metadata": {
    "_kg_hide-input": true,
    "_uuid": "a4bdd12a7223d80e2d4c6c9be217935a5b80d526"
   },
   "outputs": [
    {
     "name": "stdout",
     "output_type": "stream",
     "text": [
      "Percent of missing data\n"
     ]
    },
    {
     "data": {
      "text/plain": [
       "[('WindDirection', 15.74),\n",
       " ('WindSpeed', 13.23),\n",
       " ('Temperature', 9.52),\n",
       " ('GameWeather', 8.56),\n",
       " ('StadiumType', 6.46),\n",
       " ('FieldPosition', 1.26),\n",
       " ('Humidity', 1.21),\n",
       " ('OffenseFormation', 0.02),\n",
       " ('DefendersInTheBox', 0.01),\n",
       " ('GameId', 0.0),\n",
       " ('PlayId', 0.0),\n",
       " ('Team', 0.0),\n",
       " ('X', 0.0),\n",
       " ('Y', 0.0),\n",
       " ('S', 0.0),\n",
       " ('A', 0.0),\n",
       " ('Dis', 0.0),\n",
       " ('Orientation', 0.0),\n",
       " ('Dir', 0.0),\n",
       " ('NflId', 0.0),\n",
       " ('DisplayName', 0.0),\n",
       " ('JerseyNumber', 0.0),\n",
       " ('Season', 0.0),\n",
       " ('YardLine', 0.0),\n",
       " ('Quarter', 0.0),\n",
       " ('GameClock', 0.0),\n",
       " ('PossessionTeam', 0.0),\n",
       " ('Down', 0.0),\n",
       " ('Distance', 0.0),\n",
       " ('HomeScoreBeforePlay', 0.0),\n",
       " ('VisitorScoreBeforePlay', 0.0),\n",
       " ('NflIdRusher', 0.0),\n",
       " ('OffensePersonnel', 0.0),\n",
       " ('DefensePersonnel', 0.0),\n",
       " ('PlayDirection', 0.0),\n",
       " ('TimeHandoff', 0.0),\n",
       " ('TimeSnap', 0.0),\n",
       " ('Yards', 0.0),\n",
       " ('PlayerHeight', 0.0),\n",
       " ('PlayerWeight', 0.0),\n",
       " ('PlayerBirthDate', 0.0),\n",
       " ('PlayerCollegeName', 0.0),\n",
       " ('Position', 0.0),\n",
       " ('HomeTeamAbbr', 0.0),\n",
       " ('VisitorTeamAbbr', 0.0),\n",
       " ('Week', 0.0),\n",
       " ('Stadium', 0.0),\n",
       " ('Location', 0.0),\n",
       " ('Turf', 0.0)]"
      ]
     },
     "execution_count": 7,
     "metadata": {},
     "output_type": "execute_result"
    }
   ],
   "source": [
    "# Verificando as colunas com dados missing do dataset de treino\n",
    "missing = percent_missing(train)\n",
    "df_miss = sorted(missing.items(), key=lambda x: x[1], reverse=True)\n",
    "print('Percent of missing data')\n",
    "df_miss[0:50]"
   ]
  },
  {
   "cell_type": "code",
   "execution_count": 8,
   "metadata": {},
   "outputs": [
    {
     "data": {
      "image/png": "[encoded data removed]",
      "text/plain": [
       "<Figure size 576x504 with 1 Axes>"
      ]
     },
     "metadata": {},
     "output_type": "display_data"
    }
   ],
   "source": [
    "# Setup do plot\n",
    "sns.set_style(\"white\")\n",
    "f, ax = plt.subplots(figsize=(8, 7))\n",
    "sns.set_color_codes(palette='deep')\n",
    "\n",
    "# Identificando os valores missing\n",
    "missing = round(train.isnull().mean()*100,2)\n",
    "missing = missing[missing > 0]\n",
    "missing.sort_values(inplace=True)\n",
    "missing.plot.bar(color=\"b\")\n",
    "\n",
    "# Visual presentation\n",
    "ax.xaxis.grid(False)\n",
    "ax.set(ylabel=\"Percent of missing values\")\n",
    "ax.set(xlabel=\"Features\")\n",
    "ax.set(title=\"Percent missing data by feature\")\n",
    "sns.despine(trim=True, left=True)"
   ]
  },
  {
   "cell_type": "markdown",
   "metadata": {},
   "source": [
    "## Analisando Correlacoes"
   ]
  },
  {
   "cell_type": "code",
   "execution_count": 9,
   "metadata": {},
   "outputs": [
    {
     "data": {
      "text/plain": [
       "<matplotlib.axes._subplots.AxesSubplot at 0x1a1ec03160>"
      ]
     },
     "execution_count": 9,
     "metadata": {},
     "output_type": "execute_result"
    },
    {
     "data": {
      "image/png": "[encoded data removed]",
      "text/plain": [
       "<Figure size 1296x1296 with 2 Axes>"
      ]
     },
     "metadata": {},
     "output_type": "display_data"
    }
   ],
   "source": [
    "# Correlação de Pearson\n",
    "cor_mat = train.corr(method = 'pearson')\n",
    "\n",
    "# Visualizando o grafico de heatmap\n",
    "f, ax = plt.subplots(figsize=(18, 18))\n",
    "sns.heatmap(cor_mat,linewidths=.5,fmt= '.1f',ax=ax,square=True,cbar=True,annot=True)"
   ]
  },
  {
   "cell_type": "markdown",
   "metadata": {},
   "source": [
    "### Analisando a variavel target 'Yards'"
   ]
  },
  {
   "cell_type": "code",
   "execution_count": 10,
   "metadata": {},
   "outputs": [
    {
     "data": {
      "text/plain": [
       "count    509762.000000\n",
       "mean          4.212334\n",
       "std           6.436167\n",
       "min         -14.000000\n",
       "25%           1.000000\n",
       "50%           3.000000\n",
       "75%           6.000000\n",
       "max          99.000000\n",
       "Name: Yards, dtype: float64"
      ]
     },
     "execution_count": 10,
     "metadata": {},
     "output_type": "execute_result"
    }
   ],
   "source": [
    "# the yardage gained on the play (you are predicting this)\n",
    "train['Yards'].describe()"
   ]
  },
  {
   "cell_type": "code",
   "execution_count": 11,
   "metadata": {},
   "outputs": [
    {
     "data": {
      "image/png": "[encoded data removed]",
      "text/plain": [
       "<Figure size 864x576 with 1 Axes>"
      ]
     },
     "metadata": {},
     "output_type": "display_data"
    }
   ],
   "source": [
    "# Analisando a variavel target 'Yards'\n",
    "sns.set_style(\"white\")\n",
    "sns.set_color_codes(palette='deep')\n",
    "f, ax = plt.subplots(figsize=(12, 8))\n",
    "\n",
    "# Fit a normal distribution\n",
    "mu, std = norm.fit(train[\"Yards\"])\n",
    "\n",
    "# Verificando a distribuicao de frequencia da variavel Yards\n",
    "sns.distplot(train[\"Yards\"], color=\"b\", fit = stats.norm)\n",
    "ax.xaxis.grid(False)\n",
    "ax.set(ylabel=\"Frequency\")\n",
    "ax.set(xlabel=\"Yards\")\n",
    "ax.set(title=\"Yards distribution: mu = %.2f,  std = %.2f\" % (mu, std))\n",
    "sns.despine(trim=True, left=True)\n",
    "\n",
    "# Adicionando Skewness e Kurtosis\n",
    "ax.text(x=1.1, y=1, transform=ax.transAxes, s=\"Skewness: %f\" % train[\"Yards\"].skew(),\\\n",
    "        fontweight='demibold', fontsize=10, verticalalignment='top', horizontalalignment='right',\\\n",
    "        backgroundcolor='white', color='xkcd:poo brown')\n",
    "ax.text(x=1.1, y=0.95, transform=ax.transAxes, s=\"Kurtosis: %f\" % train[\"Yards\"].kurt(),\\\n",
    "        fontweight='demibold', fontsize=10, verticalalignment='top', horizontalalignment='right',\\\n",
    "        backgroundcolor='white', color='xkcd:dried blood')\n",
    "\n",
    "plt.show()"
   ]
  },
  {
   "cell_type": "markdown",
   "metadata": {},
   "source": [
    "### Analisando as variaveis gerais do JOGO"
   ]
  },
  {
   "cell_type": "code",
   "execution_count": 12,
   "metadata": {},
   "outputs": [
    {
     "data": {
      "text/plain": [
       "2017    261800\n",
       "2018    247962\n",
       "Name: Season, dtype: int64"
      ]
     },
     "execution_count": 12,
     "metadata": {},
     "output_type": "execute_result"
    }
   ],
   "source": [
    "# year of the season\n",
    "train['Season'].value_counts()"
   ]
  },
  {
   "cell_type": "code",
   "execution_count": 13,
   "metadata": {
    "scrolled": true
   },
   "outputs": [
    {
     "data": {
      "text/plain": [
       "14    32692\n",
       "17    32516\n",
       "15    32428\n",
       "16    31746\n",
       "13    31636\n",
       "3     31482\n",
       "4     30954\n",
       "1     30558\n",
       "2     30316\n",
       "12    30052\n",
       "6     29524\n",
       "7     29084\n",
       "5     28886\n",
       "10    28358\n",
       "8     27412\n",
       "11    26862\n",
       "9     25256\n",
       "Name: Week, dtype: int64"
      ]
     },
     "execution_count": 13,
     "metadata": {},
     "output_type": "execute_result"
    }
   ],
   "source": [
    "# week into the season\n",
    "train['Week'].value_counts()"
   ]
  },
  {
   "cell_type": "code",
   "execution_count": 14,
   "metadata": {
    "scrolled": true
   },
   "outputs": [
    {
     "data": {
      "text/plain": [
       "Outdoor                   267696\n",
       "Outdoors                   67474\n",
       "Indoors                    40854\n",
       "Dome                       17336\n",
       "Indoor                     16148\n",
       "Retractable Roof           15884\n",
       "Open                        9614\n",
       "Retr. Roof-Closed           7172\n",
       "Retr. Roof - Closed         6446\n",
       "Domed, closed               5918\n",
       "Domed, open                 2684\n",
       "Closed Dome                 2134\n",
       "Dome, closed                1826\n",
       "Domed                       1826\n",
       "Oudoor                      1188\n",
       "Indoor, Roof Closed         1056\n",
       "Retr. Roof Closed           1056\n",
       "Retr. Roof-Open              990\n",
       "Outddors                     968\n",
       "Bowl                         968\n",
       "Heinz Field                  902\n",
       "Outdoor Retr Roof-Open       880\n",
       "Retr. Roof - Open            880\n",
       "Outdor                       858\n",
       "Indoor, Open Roof            858\n",
       "Ourdoor                      858\n",
       "Outside                      814\n",
       "Cloudy                       770\n",
       "Domed, Open                  770\n",
       "Name: StadiumType, dtype: int64"
      ]
     },
     "execution_count": 14,
     "metadata": {},
     "output_type": "execute_result"
    }
   ],
   "source": [
    "# description of the stadium environment\n",
    "train['StadiumType'].value_counts()"
   ]
  },
  {
   "cell_type": "code",
   "execution_count": 15,
   "metadata": {
    "scrolled": true
   },
   "outputs": [
    {
     "data": {
      "text/plain": [
       "MetLife Stadium                        21054\n",
       "Levis Stadium                          17402\n",
       "Gillette Stadium                       17248\n",
       "New Era Field                          17204\n",
       "Lucas Oil Stadium                      16544\n",
       "U.S. Bank Stadium                      16170\n",
       "AT&T Stadium                           15950\n",
       "Nissan Stadium                         15862\n",
       "Mercedes-Benz Superdome                15554\n",
       "Paul Brown Stadium                     15444\n",
       "FedExField                             15356\n",
       "Arrowhead Stadium                      15334\n",
       "Soldier Field                          15334\n",
       "Ford Field                             15246\n",
       "Heinz Field                            14850\n",
       "Raymond James Stadium                  14696\n",
       "StubHub Center                         14630\n",
       "CenturyLink Field                      14586\n",
       "Hard Rock Stadium                      14564\n",
       "Lincoln Financial Field                14476\n",
       "Mercedes-Benz Stadium                  14388\n",
       "Lambeau Field                          14300\n",
       "Bank of America Stadium                14036\n",
       "Oakland-Alameda County Coliseum        13706\n",
       "Los Angeles Memorial Coliseum          13662\n",
       "NRG Stadium                            11968\n",
       "MetLife                                11682\n",
       "M&T Bank Stadium                       11000\n",
       "State Farm Stadium                      8822\n",
       "Sports Authority Field at Mile High     8536\n",
       "FirstEnergy Stadium                     7722\n",
       "University of Phoenix Stadium           7612\n",
       "Broncos Stadium at Mile High            6952\n",
       "TIAA Bank Field                         6446\n",
       "M&T Stadium                             5016\n",
       "Wembley Stadium                         4576\n",
       "FirstEnergy                             4246\n",
       "EverBank Field                          4246\n",
       "NRG                                     3916\n",
       "Everbank Field                          3432\n",
       "First Energy Stadium                    1694\n",
       "CenturyField                            1254\n",
       "FirstEnergyStadium                      1166\n",
       "Paul Brown Stdium                       1144\n",
       "CenturyLink                             1122\n",
       "Twickenham Stadium                      1100\n",
       "M & T Bank Stadium                      1078\n",
       "Los Angeles Memorial Coliesum           1012\n",
       "Lambeau field                           1012\n",
       "Broncos Stadium At Mile High             990\n",
       "Twickenham                               968\n",
       "Estadio Azteca                           902\n",
       "Mercedes-Benz Dome                       858\n",
       "Oakland Alameda-County Coliseum          858\n",
       "Metlife Stadium                          836\n",
       "Name: Stadium, dtype: int64"
      ]
     },
     "execution_count": 15,
     "metadata": {},
     "output_type": "execute_result"
    }
   ],
   "source": [
    "# stadium where the game is being played\n",
    "train['Stadium'].value_counts()"
   ]
  },
  {
   "cell_type": "code",
   "execution_count": 16,
   "metadata": {
    "scrolled": true
   },
   "outputs": [
    {
     "data": {
      "text/plain": [
       "East Rutherford, NJ          30096\n",
       "Santa Clara, CA              17402\n",
       "Indianapolis, Ind.           16544\n",
       "Denver, CO                   16478\n",
       "Glendale, AZ                 16434\n",
       "Minneapolis, MN              16170\n",
       "Baltimore, Md.               16016\n",
       "Nashville, TN                15862\n",
       "Orchard Park NY              15488\n",
       "Landover, MD                 15356\n",
       "Green Bay, WI                15312\n",
       "Atlanta, GA                  15246\n",
       "Arlington, Texas             15246\n",
       "Foxborough, MA               15224\n",
       "Tampa, FL                    14696\n",
       "Carson, CA                   14630\n",
       "Seattle, WA                  14630\n",
       "Oakland, CA                  14564\n",
       "Chicago, IL                  14498\n",
       "Cincinnati, Ohio             14476\n",
       "Kansas City, MO              14190\n",
       "Los Angeles, Calif.          13706\n",
       "Miami Gardens, Fla.          13486\n",
       "Pittsburgh                   13178\n",
       "Philadelphia, Pa.            13156\n",
       "Jacksonville, FL             11352\n",
       "New Orleans, LA              11110\n",
       "Detroit                      10670\n",
       "Houston, TX                   9746\n",
       "Charlotte, North Carolina     8844\n",
       "Cleveland, Ohio               8316\n",
       "Houston, Texas                6138\n",
       "London, England               5676\n",
       "Charlotte, NC                 5192\n",
       "Detroit, MI                   4576\n",
       "Cleveland,Ohio                3476\n",
       "New Orleans, La.              3300\n",
       "Seattle                       2332\n",
       "Cincinnati, OH                2112\n",
       "Foxborough, Ma                2024\n",
       "East Rutherford, N.J.         2024\n",
       "Orchard Park, NY              1716\n",
       "Pittsburgh, PA                1672\n",
       "E. Rutherford, NJ             1452\n",
       "Philadelphia, PA              1320\n",
       "Cleveland Ohio                1166\n",
       "Kansas City,  MO              1144\n",
       "New Orleans                   1144\n",
       "Baltimore, Maryland           1078\n",
       "Miami Gardens, FLA            1078\n",
       "Cleveland                     1034\n",
       "London                         968\n",
       "Los Angeles, CA                968\n",
       "Jacksonville Florida           968\n",
       "Jacksonville, Florida          902\n",
       "Mexico City                    902\n",
       "Jacksonville, Fl               902\n",
       "Cleveland, OH                  836\n",
       "Chicago. IL                    836\n",
       "Arlington, TX                  704\n",
       "Name: Location, dtype: int64"
      ]
     },
     "execution_count": 16,
     "metadata": {},
     "output_type": "execute_result"
    }
   ],
   "source": [
    "# city where the game is being player\n",
    "train['Location'].value_counts()"
   ]
  },
  {
   "cell_type": "code",
   "execution_count": 17,
   "metadata": {
    "scrolled": true
   },
   "outputs": [
    {
     "data": {
      "text/plain": [
       "Grass                     166276\n",
       "Natural Grass             107096\n",
       "Field Turf                 47674\n",
       "Artificial                 44484\n",
       "FieldTurf                  33198\n",
       "UBU Speed Series-S5-M      32890\n",
       "A-Turf Titan               17204\n",
       "UBU Sports Speed S5-M       8558\n",
       "FieldTurf360                8272\n",
       "DD GrassMaster              8074\n",
       "Twenty-Four/Seven Turf      8030\n",
       "SISGrass                    7238\n",
       "FieldTurf 360               6974\n",
       "Natural grass               4796\n",
       "Artifical                   3894\n",
       "Natural                     1628\n",
       "Field turf                   990\n",
       "Naturall Grass               858\n",
       "natural grass                814\n",
       "grass                        814\n",
       "Name: Turf, dtype: int64"
      ]
     },
     "execution_count": 17,
     "metadata": {},
     "output_type": "execute_result"
    }
   ],
   "source": [
    "# description of the field surface\n",
    "train['Turf'].value_counts()"
   ]
  },
  {
   "cell_type": "code",
   "execution_count": 18,
   "metadata": {
    "scrolled": true
   },
   "outputs": [
    {
     "data": {
      "text/plain": [
       "2017121000    1870\n",
       "2017101501    1628\n",
       "2017100108    1452\n",
       "2017092100    1386\n",
       "2017091002    1386\n",
       "2017110504    1386\n",
       "2018111807    1386\n",
       "2018100700    1342\n",
       "2018123014    1342\n",
       "2018090901    1342\n",
       "2018111106    1320\n",
       "2017121400    1298\n",
       "2018122308    1276\n",
       "2017091005    1254\n",
       "2017100809    1254\n",
       "2018102500    1254\n",
       "2018092000    1254\n",
       "2018100711    1254\n",
       "2018120207    1254\n",
       "2017100101    1232\n",
       "2017123103    1232\n",
       "2018123015    1232\n",
       "2017100900    1232\n",
       "2017100102    1232\n",
       "2017091711    1232\n",
       "2018090905    1232\n",
       "2018093008    1232\n",
       "2017123107    1232\n",
       "2018102808    1210\n",
       "2017100807    1210\n",
       "              ... \n",
       "2018112200     770\n",
       "2018112509     748\n",
       "2018102900     748\n",
       "2018093012     748\n",
       "2018090910     748\n",
       "2017091003     726\n",
       "2017091008     726\n",
       "2017111600     726\n",
       "2018093007     726\n",
       "2018101401     726\n",
       "2018123009     704\n",
       "2018120209     704\n",
       "2018092307     704\n",
       "2018123003     704\n",
       "2018091613     704\n",
       "2018102801     704\n",
       "2018122310     704\n",
       "2018111900     682\n",
       "2018122309     682\n",
       "2018122313     682\n",
       "2018091605     682\n",
       "2018102800     682\n",
       "2018092700     682\n",
       "2017121600     682\n",
       "2018102108     660\n",
       "2018100709     660\n",
       "2018101408     638\n",
       "2017091704     616\n",
       "2017110200     616\n",
       "2018092400     616\n",
       "Name: GameId, Length: 512, dtype: int64"
      ]
     },
     "execution_count": 18,
     "metadata": {},
     "output_type": "execute_result"
    }
   ],
   "source": [
    "# a unique game identifier\n",
    "train['GameId'].value_counts()"
   ]
  },
  {
   "cell_type": "code",
   "execution_count": 19,
   "metadata": {
    "scrolled": true
   },
   "outputs": [
    {
     "data": {
      "text/plain": [
       "20181007011551    22\n",
       "20181007090207    22\n",
       "20171112053416    22\n",
       "20170918003383    22\n",
       "20181230140128    22\n",
       "20170910022384    22\n",
       "20171001120063    22\n",
       "20181202132252    22\n",
       "20171112090950    22\n",
       "20171002002752    22\n",
       "20170917041501    22\n",
       "20170917051736    22\n",
       "20181213001041    22\n",
       "20180923012541    22\n",
       "20181111021012    22\n",
       "20180930094139    22\n",
       "20181028023394    22\n",
       "20171231153278    22\n",
       "20181007023216    22\n",
       "20180910011465    22\n",
       "20170928000166    22\n",
       "20181008001618    22\n",
       "20171001102903    22\n",
       "20181209030691    22\n",
       "20181014100976    22\n",
       "20181104072724    22\n",
       "20181028040809    22\n",
       "20180923113547    22\n",
       "20171231100999    22\n",
       "20181118081196    22\n",
       "                  ..\n",
       "20181230152720    22\n",
       "20180923020355    22\n",
       "20171210081365    22\n",
       "20181028052206    22\n",
       "20181125061862    22\n",
       "20171203020589    22\n",
       "20181209081633    22\n",
       "20171210013306    22\n",
       "20181129003645    22\n",
       "20171105092117    22\n",
       "20181104003980    22\n",
       "20171106003160    22\n",
       "20171105020728    22\n",
       "20180916022072    22\n",
       "20171126000436    22\n",
       "20181230144276    22\n",
       "20170910102371    22\n",
       "20171026000752    22\n",
       "20181118073690    22\n",
       "20181104040862    22\n",
       "20181014123039    22\n",
       "20171001023380    22\n",
       "20181223101415    22\n",
       "20181223140336    22\n",
       "20181015000051    22\n",
       "20171119100893    22\n",
       "20181230082614    22\n",
       "20181209113137    22\n",
       "20171105042957    22\n",
       "20170925001016    22\n",
       "Name: PlayId, Length: 23171, dtype: int64"
      ]
     },
     "execution_count": 19,
     "metadata": {},
     "output_type": "execute_result"
    }
   ],
   "source": [
    "# a unique play identifier\n",
    "train['PlayId'].value_counts()"
   ]
  },
  {
   "cell_type": "code",
   "execution_count": 20,
   "metadata": {},
   "outputs": [
    {
     "data": {
      "text/plain": [
       "away    254881\n",
       "home    254881\n",
       "Name: Team, dtype: int64"
      ]
     },
     "execution_count": 20,
     "metadata": {},
     "output_type": "execute_result"
    }
   ],
   "source": [
    "# home or away\n",
    "train['Team'].value_counts()"
   ]
  },
  {
   "cell_type": "markdown",
   "metadata": {},
   "source": [
    "### Analisando as variaveis do JOGO"
   ]
  },
  {
   "cell_type": "code",
   "execution_count": 21,
   "metadata": {},
   "outputs": [
    {
     "data": {
      "text/plain": [
       "1    132066\n",
       "4    126434\n",
       "3    125026\n",
       "2    122430\n",
       "5      3806\n",
       "Name: Quarter, dtype: int64"
      ]
     },
     "execution_count": 21,
     "metadata": {},
     "output_type": "execute_result"
    }
   ],
   "source": [
    "# game quarter (1-5, 5 == overtime)\n",
    "train['Quarter'].value_counts()"
   ]
  },
  {
   "cell_type": "code",
   "execution_count": 22,
   "metadata": {
    "scrolled": true
   },
   "outputs": [
    {
     "data": {
      "text/plain": [
       "15:00:00    14476\n",
       "02:00:00     5236\n",
       "14:54:00     2156\n",
       "14:55:00     1958\n",
       "14:56:00     1276\n",
       "14:20:00     1188\n",
       "14:25:00     1144\n",
       "14:24:00     1078\n",
       "14:53:00     1078\n",
       "14:22:00     1056\n",
       "01:54:00     1012\n",
       "14:19:00      990\n",
       "14:21:00      968\n",
       "14:28:00      946\n",
       "14:23:00      924\n",
       "11:26:00      924\n",
       "02:39:00      924\n",
       "14:16:00      924\n",
       "03:55:00      902\n",
       "14:26:00      902\n",
       "02:23:00      880\n",
       "05:46:00      880\n",
       "02:32:00      880\n",
       "01:53:00      858\n",
       "04:35:00      858\n",
       "14:15:00      858\n",
       "12:54:00      858\n",
       "14:17:00      836\n",
       "01:56:00      836\n",
       "13:05:00      836\n",
       "            ...  \n",
       "01:24:00      264\n",
       "14:46:00      264\n",
       "00:14:00      264\n",
       "13:53:00      264\n",
       "12:31:00      264\n",
       "14:06:00      264\n",
       "00:09:00      242\n",
       "13:57:00      242\n",
       "14:36:00      242\n",
       "05:06:00      242\n",
       "01:45:00      242\n",
       "14:07:00      242\n",
       "12:45:00      220\n",
       "14:48:00      220\n",
       "00:07:00      220\n",
       "00:02:00      220\n",
       "00:06:00      220\n",
       "14:31:00      220\n",
       "14:41:00      220\n",
       "14:44:00      198\n",
       "14:43:00      176\n",
       "14:00:00      176\n",
       "14:42:00      132\n",
       "14:38:00      132\n",
       "14:40:00      110\n",
       "00:01:00      110\n",
       "14:58:00       88\n",
       "14:59:00       66\n",
       "14:39:00       44\n",
       "00:00:00       22\n",
       "Name: GameClock, Length: 901, dtype: int64"
      ]
     },
     "execution_count": 22,
     "metadata": {},
     "output_type": "execute_result"
    }
   ],
   "source": [
    "# time on the game clock\n",
    "train['GameClock'].value_counts()"
   ]
  },
  {
   "cell_type": "code",
   "execution_count": 23,
   "metadata": {
    "scrolled": true
   },
   "outputs": [
    {
     "data": {
      "text/plain": [
       "SF     17402\n",
       "NYG    17336\n",
       "NE     17248\n",
       "BUF    17204\n",
       "BAL    17094\n",
       "SEA    16962\n",
       "CIN    16588\n",
       "IND    16544\n",
       "DEN    16478\n",
       "OAK    16456\n",
       "ARI    16434\n",
       "NYJ    16236\n",
       "MIN    16170\n",
       "JAX    15972\n",
       "DAL    15950\n",
       "CLE    15928\n",
       "HOU    15884\n",
       "TEN    15862\n",
       "LA     15642\n",
       "NO     15554\n",
       "LAC    15532\n",
       "MIA    15400\n",
       "WAS    15356\n",
       "CHI    15334\n",
       "KC     15334\n",
       "GB     15312\n",
       "ATL    15246\n",
       "DET    15246\n",
       "PIT    14850\n",
       "TB     14696\n",
       "PHI    14476\n",
       "CAR    14036\n",
       "Name: HomeTeamAbbr, dtype: int64"
      ]
     },
     "execution_count": 23,
     "metadata": {},
     "output_type": "execute_result"
    }
   ],
   "source": [
    "# home team abbreviation \n",
    "train['HomeTeamAbbr'].value_counts()"
   ]
  },
  {
   "cell_type": "code",
   "execution_count": 24,
   "metadata": {
    "scrolled": true
   },
   "outputs": [
    {
     "data": {
      "text/plain": [
       "0     121418\n",
       "7      63514\n",
       "10     41602\n",
       "3      41228\n",
       "14     32956\n",
       "17     28754\n",
       "13     18700\n",
       "6      17534\n",
       "20     16368\n",
       "24     15114\n",
       "21     13420\n",
       "16     11396\n",
       "9      10472\n",
       "23      9724\n",
       "27      8536\n",
       "28      6798\n",
       "31      5962\n",
       "26      5038\n",
       "30      4620\n",
       "35      3454\n",
       "15      3190\n",
       "12      2860\n",
       "38      2794\n",
       "34      2750\n",
       "19      2508\n",
       "29      2156\n",
       "33      1672\n",
       "18      1562\n",
       "45      1562\n",
       "37      1518\n",
       "2       1386\n",
       "40      1342\n",
       "42      1188\n",
       "22       924\n",
       "44       682\n",
       "8        660\n",
       "25       550\n",
       "39       506\n",
       "48       484\n",
       "11       462\n",
       "52       418\n",
       "32       396\n",
       "36       308\n",
       "47       308\n",
       "43       286\n",
       "54       176\n",
       "41       132\n",
       "51       132\n",
       "46       132\n",
       "57       110\n",
       "Name: HomeScoreBeforePlay, dtype: int64"
      ]
     },
     "execution_count": 24,
     "metadata": {},
     "output_type": "execute_result"
    }
   ],
   "source": [
    "# home team score before play started\n",
    "train['HomeScoreBeforePlay'].value_counts()"
   ]
  },
  {
   "cell_type": "code",
   "execution_count": 25,
   "metadata": {
    "scrolled": true
   },
   "outputs": [
    {
     "data": {
      "text/plain": [
       "LA     17864\n",
       "JAX    17072\n",
       "IND    16764\n",
       "LAC    16720\n",
       "DEN    16698\n",
       "OAK    16478\n",
       "TEN    16478\n",
       "WAS    16390\n",
       "NYJ    16390\n",
       "DET    16368\n",
       "ARI    16302\n",
       "SF     16302\n",
       "MIA    16236\n",
       "HOU    16170\n",
       "NO     16038\n",
       "CHI    16038\n",
       "KC     15862\n",
       "DAL    15840\n",
       "BAL    15818\n",
       "SEA    15774\n",
       "MIN    15774\n",
       "CIN    15708\n",
       "BUF    15664\n",
       "NE     15510\n",
       "CLE    15422\n",
       "TB     15378\n",
       "NYG    15356\n",
       "GB     15312\n",
       "PIT    15114\n",
       "ATL    15092\n",
       "PHI    14168\n",
       "CAR    13662\n",
       "Name: VisitorTeamAbbr, dtype: int64"
      ]
     },
     "execution_count": 25,
     "metadata": {},
     "output_type": "execute_result"
    }
   ],
   "source": [
    "# visitor team abbreviation\n",
    "train['VisitorTeamAbbr'].value_counts()"
   ]
  },
  {
   "cell_type": "code",
   "execution_count": 26,
   "metadata": {
    "scrolled": true
   },
   "outputs": [
    {
     "data": {
      "text/plain": [
       "0     142516\n",
       "7      63448\n",
       "3      48532\n",
       "10     41228\n",
       "14     28094\n",
       "17     24728\n",
       "13     23012\n",
       "6      21714\n",
       "20     15026\n",
       "21     11528\n",
       "24     11154\n",
       "16      9570\n",
       "9       7854\n",
       "23      7018\n",
       "27      6930\n",
       "12      5940\n",
       "19      5918\n",
       "28      4994\n",
       "30      3740\n",
       "31      3256\n",
       "34      2222\n",
       "35      2222\n",
       "26      2178\n",
       "15      1892\n",
       "22      1716\n",
       "2       1474\n",
       "38      1408\n",
       "33      1408\n",
       "42       968\n",
       "48       924\n",
       "37       924\n",
       "40       858\n",
       "18       748\n",
       "41       704\n",
       "25       682\n",
       "32       572\n",
       "29       550\n",
       "5        550\n",
       "39       396\n",
       "11       308\n",
       "51       242\n",
       "8        198\n",
       "36       176\n",
       "45       176\n",
       "44        66\n",
       "Name: VisitorScoreBeforePlay, dtype: int64"
      ]
     },
     "execution_count": 26,
     "metadata": {},
     "output_type": "execute_result"
    }
   ],
   "source": [
    "# visitor team score before play started\n",
    "train['VisitorScoreBeforePlay'].value_counts()"
   ]
  },
  {
   "cell_type": "code",
   "execution_count": 27,
   "metadata": {
    "scrolled": true
   },
   "outputs": [
    {
     "data": {
      "text/plain": [
       "NE     18700\n",
       "LA     17952\n",
       "BLT    17864\n",
       "NO     17490\n",
       "JAX    17490\n",
       "SEA    17094\n",
       "DAL    16918\n",
       "HST    16764\n",
       "MIN    16742\n",
       "LAC    16698\n",
       "DEN    16654\n",
       "TEN    16544\n",
       "PHI    16478\n",
       "CHI    16368\n",
       "BUF    16214\n",
       "SF     16192\n",
       "IND    16060\n",
       "NYG    15642\n",
       "DET    15554\n",
       "NYJ    15532\n",
       "ATL    15488\n",
       "OAK    15422\n",
       "PIT    15312\n",
       "WAS    15092\n",
       "ARZ    15092\n",
       "KC     14300\n",
       "CIN    14278\n",
       "TB     14212\n",
       "MIA    14168\n",
       "CAR    14146\n",
       "CLV    14102\n",
       "GB     13200\n",
       "Name: PossessionTeam, dtype: int64"
      ]
     },
     "execution_count": 27,
     "metadata": {},
     "output_type": "execute_result"
    }
   ],
   "source": [
    "# team with possession\n",
    "train['PossessionTeam'].value_counts()"
   ]
  },
  {
   "cell_type": "code",
   "execution_count": 28,
   "metadata": {
    "scrolled": true
   },
   "outputs": [
    {
     "data": {
      "text/plain": [
       "BUF    17468\n",
       "OAK    17182\n",
       "NYG    17160\n",
       "ARZ    17072\n",
       "MIA    16984\n",
       "NYJ    16896\n",
       "CLV    16676\n",
       "CIN    16588\n",
       "DEN    16566\n",
       "SF     16456\n",
       "SEA    16412\n",
       "HST    16346\n",
       "CHI    16060\n",
       "IND    16038\n",
       "TEN    15972\n",
       "GB     15862\n",
       "LA     15818\n",
       "JAX    15620\n",
       "DAL    15576\n",
       "WAS    15554\n",
       "DET    15444\n",
       "BLT    15356\n",
       "TB     15246\n",
       "MIN    15158\n",
       "LAC    15114\n",
       "ATL    14938\n",
       "KC     14784\n",
       "NE     14718\n",
       "PIT    14366\n",
       "PHI    13442\n",
       "NO     13332\n",
       "CAR    13134\n",
       "Name: FieldPosition, dtype: int64"
      ]
     },
     "execution_count": 28,
     "metadata": {},
     "output_type": "execute_result"
    }
   ],
   "source": [
    "# which side of the field the play is happening on\n",
    "train['FieldPosition'].value_counts()"
   ]
  },
  {
   "cell_type": "markdown",
   "metadata": {},
   "source": [
    "### Analisando as variaveis de ACOES no JOGO"
   ]
  },
  {
   "cell_type": "code",
   "execution_count": 29,
   "metadata": {
    "scrolled": true
   },
   "outputs": [
    {
     "data": {
      "text/plain": [
       "1 RB, 1 TE, 3 WR               232958\n",
       "1 RB, 2 TE, 2 WR               114092\n",
       "2 RB, 1 TE, 2 WR                53636\n",
       "1 RB, 3 TE, 1 WR                31306\n",
       "2 RB, 2 TE, 1 WR                25828\n",
       "6 OL, 1 RB, 2 TE, 1 WR           9680\n",
       "6 OL, 1 RB, 1 TE, 2 WR           8426\n",
       "6 OL, 2 RB, 1 TE, 1 WR           5896\n",
       "6 OL, 2 RB, 2 TE, 0 WR           3762\n",
       "2 RB, 0 TE, 3 WR                 3454\n",
       "1 RB, 2 TE, 1 WR,1 DL            3102\n",
       "6 OL, 1 RB, 0 TE, 3 WR           2178\n",
       "1 RB, 0 TE, 4 WR                 1870\n",
       "0 RB, 1 TE, 4 WR                 1672\n",
       "2 QB, 1 RB, 1 TE, 2 WR           1562\n",
       "2 RB, 3 TE, 0 WR                 1408\n",
       "6 OL, 1 RB, 3 TE, 0 WR           1210\n",
       "6 OL, 2 RB, 0 TE, 2 WR           1056\n",
       "1 RB, 1 TE, 2 WR,1 DL             748\n",
       "7 OL, 1 RB, 0 TE, 2 WR            682\n",
       "3 RB, 1 TE, 1 WR                  572\n",
       "2 QB, 2 RB, 1 TE, 1 WR            550\n",
       "1 RB, 3 TE, 0 WR,1 DL             440\n",
       "6 OL, 1 RB, 2 TE, 0 WR,1 DL       352\n",
       "3 RB, 0 TE, 2 WR                  286\n",
       "2 QB, 1 RB, 2 TE, 1 WR            264\n",
       "6 OL, 1 RB, 2 TE, 0 WR,1 LB       242\n",
       "7 OL, 1 RB, 2 TE, 0 WR            242\n",
       "1 RB, 1 TE, 2 WR,1 DB             220\n",
       "7 OL, 2 RB, 0 TE, 1 WR            220\n",
       "6 OL, 2 RB, 1 TE, 0 WR,1 DL       198\n",
       "1 RB, 2 TE, 1 WR,1 LB             198\n",
       "6 OL, 1 RB, 1 TE, 1 WR,1 DL       154\n",
       "2 QB, 1 RB, 0 TE, 3 WR            154\n",
       "1 RB, 4 TE, 0 WR                  154\n",
       "0 RB, 2 TE, 3 WR                  110\n",
       "3 RB, 2 TE, 0 WR                  110\n",
       "1 RB, 3 TE, 0 WR,1 LB             110\n",
       "0 RB, 3 TE, 2 WR                   66\n",
       "1 RB, 2 TE, 1 WR,1 DB              66\n",
       "1 RB, 0 TE, 3 WR,1 DB              66\n",
       "2 QB, 2 RB, 0 TE, 2 WR             44\n",
       "0 RB, 0 TE, 5 WR                   44\n",
       "1 RB, 1 TE, 2 WR,1 LB              44\n",
       "2 QB, 1 RB, 3 TE, 0 WR             44\n",
       "2 RB, 2 TE, 0 WR,1 DL              44\n",
       "7 OL, 2 RB, 1 TE, 0 WR             44\n",
       "2 RB, 3 TE, 1 WR                   22\n",
       "6 OL, 3 RB, 0 TE, 1 WR             22\n",
       "6 OL, 1 RB, 1 TE, 0 WR,2 DL        22\n",
       "1 RB, 3 TE, 0 WR,1 DB              22\n",
       "2 QB, 2 RB, 2 TE, 0 WR             22\n",
       "2 RB, 1 TE, 1 WR,1 DB              22\n",
       "2 QB, 3 RB, 1 TE, 0 WR             22\n",
       "1 RB, 2 TE, 3 WR                   22\n",
       "6 OL, 0 RB, 2 TE, 2 WR             22\n",
       "Name: OffensePersonnel, dtype: int64"
      ]
     },
     "execution_count": 29,
     "metadata": {},
     "output_type": "execute_result"
    }
   ],
   "source": [
    "# offensive team positional grouping\n",
    "train['OffensePersonnel'].value_counts()"
   ]
  },
  {
   "cell_type": "code",
   "execution_count": 30,
   "metadata": {
    "scrolled": true
   },
   "outputs": [
    {
     "data": {
      "text/plain": [
       "4 DL, 2 LB, 5 DB          139876\n",
       "4 DL, 3 LB, 4 DB          136510\n",
       "3 DL, 4 LB, 4 DB           80432\n",
       "2 DL, 4 LB, 5 DB           56936\n",
       "3 DL, 3 LB, 5 DB           48884\n",
       "2 DL, 3 LB, 6 DB           11638\n",
       "4 DL, 1 LB, 6 DB            9196\n",
       "4 DL, 4 LB, 3 DB            5214\n",
       "3 DL, 2 LB, 6 DB            4246\n",
       "5 DL, 2 LB, 4 DB            3542\n",
       "5 DL, 3 LB, 3 DB            2376\n",
       "1 DL, 4 LB, 6 DB            1430\n",
       "3 DL, 5 LB, 3 DB            1408\n",
       "6 DL, 4 LB, 1 DB            1232\n",
       "5 DL, 4 LB, 2 DB            1166\n",
       "6 DL, 3 LB, 2 DB            1034\n",
       "5 DL, 1 LB, 5 DB             902\n",
       "6 DL, 2 LB, 3 DB             704\n",
       "1 DL, 5 LB, 5 DB             682\n",
       "2 DL, 5 LB, 4 DB             484\n",
       "2 DL, 2 LB, 7 DB             286\n",
       "1 DL, 3 LB, 7 DB             286\n",
       "3 DL, 1 LB, 7 DB             264\n",
       "5 DL, 3 LB, 2 DB, 1 OL       154\n",
       "5 DL, 5 LB, 1 DB             154\n",
       "0 DL, 5 LB, 6 DB             132\n",
       "4 DL, 5 LB, 2 DB             110\n",
       "0 DL, 4 LB, 7 DB              88\n",
       "2 DL, 4 LB, 4 DB, 1 OL        66\n",
       "4 DL, 0 LB, 7 DB              66\n",
       "5 DL, 4 LB, 1 DB, 1 OL        66\n",
       "0 DL, 6 LB, 5 DB              44\n",
       "4 DL, 6 LB, 1 DB              44\n",
       "7 DL, 2 LB, 2 DB              22\n",
       "1 DL, 2 LB, 8 DB              22\n",
       "3 DL, 4 LB, 3 DB, 1 OL        22\n",
       "6 DL, 1 LB, 4 DB              22\n",
       "4 DL, 5 LB, 1 DB, 1 OL        22\n",
       "Name: DefensePersonnel, dtype: int64"
      ]
     },
     "execution_count": 30,
     "metadata": {},
     "output_type": "execute_result"
    }
   ],
   "source": [
    "# defensive team positional grouping\n",
    "train['DefensePersonnel'].value_counts()"
   ]
  },
  {
   "cell_type": "code",
   "execution_count": 31,
   "metadata": {},
   "outputs": [
    {
     "data": {
      "text/plain": [
       "left     256454\n",
       "right    253308\n",
       "Name: PlayDirection, dtype: int64"
      ]
     },
     "execution_count": 31,
     "metadata": {},
     "output_type": "execute_result"
    }
   ],
   "source": [
    "# direction the play is headed\n",
    "train['PlayDirection'].value_counts()"
   ]
  },
  {
   "cell_type": "code",
   "execution_count": 32,
   "metadata": {},
   "outputs": [
    {
     "data": {
      "text/plain": [
       "SINGLEBACK    225434\n",
       "SHOTGUN       150964\n",
       "I_FORM        106062\n",
       "PISTOL         13420\n",
       "JUMBO          11462\n",
       "WILDCAT         1782\n",
       "EMPTY            506\n",
       "ACE               22\n",
       "Name: OffenseFormation, dtype: int64"
      ]
     },
     "execution_count": 32,
     "metadata": {},
     "output_type": "execute_result"
    }
   ],
   "source": [
    "# offense formation\n",
    "train['OffenseFormation'].value_counts()"
   ]
  },
  {
   "cell_type": "code",
   "execution_count": 33,
   "metadata": {},
   "outputs": [
    {
     "data": {
      "text/plain": [
       "7.0     208516\n",
       "6.0     152526\n",
       "8.0     109362\n",
       "5.0      15048\n",
       "9.0      13442\n",
       "10.0      4114\n",
       "11.0      3652\n",
       "4.0       2596\n",
       "3.0        396\n",
       "1.0         22\n",
       "2.0         22\n",
       "Name: DefendersInTheBox, dtype: int64"
      ]
     },
     "execution_count": 33,
     "metadata": {},
     "output_type": "execute_result"
    }
   ],
   "source": [
    "# number of defenders lined up near the line of scrimmage, spanning the width of the offensive line\n",
    "train['DefendersInTheBox'].value_counts()"
   ]
  },
  {
   "cell_type": "code",
   "execution_count": 34,
   "metadata": {
    "scrolled": true
   },
   "outputs": [
    {
     "data": {
      "text/plain": [
       "2018-10-07T17:17:43.000Z    66\n",
       "2017-12-24T18:51:30.000Z    44\n",
       "2017-10-01T17:33:20.000Z    44\n",
       "2018-09-16T21:39:09.000Z    44\n",
       "2018-11-11T18:11:34.000Z    44\n",
       "2017-12-10T20:33:27.000Z    44\n",
       "2017-09-17T17:03:29.000Z    44\n",
       "2017-09-17T19:01:18.000Z    44\n",
       "2017-12-17T21:05:33.000Z    44\n",
       "2017-09-24T17:05:52.000Z    44\n",
       "2017-12-10T21:10:44.000Z    44\n",
       "2017-10-08T17:03:46.000Z    44\n",
       "2017-10-22T17:06:49.000Z    44\n",
       "2017-09-17T19:01:52.000Z    44\n",
       "2017-11-12T21:33:06.000Z    44\n",
       "2017-12-24T18:26:14.000Z    44\n",
       "2018-10-21T19:38:47.000Z    44\n",
       "2017-12-03T19:03:22.000Z    44\n",
       "2017-12-31T20:11:41.000Z    44\n",
       "2018-12-02T20:33:19.000Z    44\n",
       "2018-11-11T20:30:17.000Z    44\n",
       "2018-10-07T19:32:52.000Z    44\n",
       "2017-10-01T17:19:11.000Z    44\n",
       "2018-12-23T18:55:05.000Z    44\n",
       "2017-09-24T19:04:34.000Z    44\n",
       "2017-12-17T20:51:43.000Z    44\n",
       "2018-11-11T19:52:06.000Z    44\n",
       "2017-09-17T19:47:53.000Z    44\n",
       "2017-09-10T17:05:15.000Z    44\n",
       "2017-10-22T17:41:04.000Z    44\n",
       "                            ..\n",
       "2017-11-20T02:46:59.000Z    22\n",
       "2018-10-14T19:16:22.000Z    22\n",
       "2018-12-16T18:52:17.000Z    22\n",
       "2017-12-10T18:49:58.000Z    22\n",
       "2018-10-21T22:18:50.000Z    22\n",
       "2017-11-12T18:36:23.000Z    22\n",
       "2018-09-30T22:39:33.000Z    22\n",
       "2017-11-05T23:25:48.000Z    22\n",
       "2017-11-05T19:06:57.000Z    22\n",
       "2017-12-05T02:01:20.000Z    22\n",
       "2018-11-04T18:45:15.000Z    22\n",
       "2017-11-26T20:47:28.000Z    22\n",
       "2017-11-17T03:52:27.000Z    22\n",
       "2017-12-05T02:10:26.000Z    22\n",
       "2018-10-14T20:13:12.000Z    22\n",
       "2017-10-29T17:13:26.000Z    22\n",
       "2018-10-07T23:21:26.000Z    22\n",
       "2018-10-21T18:59:43.000Z    22\n",
       "2018-09-10T00:24:05.000Z    22\n",
       "2017-09-17T19:51:12.000Z    22\n",
       "2018-09-16T21:12:16.000Z    22\n",
       "2017-12-10T22:06:36.000Z    22\n",
       "2017-11-05T19:47:34.000Z    22\n",
       "2017-10-15T17:06:35.000Z    22\n",
       "2018-10-21T18:14:23.000Z    22\n",
       "2017-09-17T19:28:01.000Z    22\n",
       "2017-10-08T21:09:07.000Z    22\n",
       "2017-10-15T17:47:29.000Z    22\n",
       "2018-10-21T17:53:17.000Z    22\n",
       "2017-12-31T23:46:49.000Z    22\n",
       "Name: TimeHandoff, Length: 22935, dtype: int64"
      ]
     },
     "execution_count": 34,
     "metadata": {},
     "output_type": "execute_result"
    }
   ],
   "source": [
    "# UTC time of the handoff\n",
    "train['TimeHandoff'].value_counts()"
   ]
  },
  {
   "cell_type": "code",
   "execution_count": 35,
   "metadata": {
    "scrolled": true
   },
   "outputs": [
    {
     "data": {
      "text/plain": [
       "2018-10-07T17:17:41.000Z    66\n",
       "2017-12-31T21:55:29.000Z    66\n",
       "2018-09-23T20:40:57.000Z    44\n",
       "2017-12-10T20:34:05.000Z    44\n",
       "2017-10-01T17:11:59.000Z    44\n",
       "2018-12-16T18:28:17.000Z    44\n",
       "2017-10-08T19:08:15.000Z    44\n",
       "2017-12-03T19:43:27.000Z    44\n",
       "2018-12-16T18:46:31.000Z    44\n",
       "2018-11-18T18:28:29.000Z    44\n",
       "2018-09-16T21:39:08.000Z    44\n",
       "2017-10-29T19:38:42.000Z    44\n",
       "2017-10-15T17:12:26.000Z    44\n",
       "2018-12-16T18:43:11.000Z    44\n",
       "2017-12-17T20:20:38.000Z    44\n",
       "2018-09-23T19:50:04.000Z    44\n",
       "2017-10-29T19:39:34.000Z    44\n",
       "2018-09-16T19:16:41.000Z    44\n",
       "2018-10-14T19:45:10.000Z    44\n",
       "2017-10-08T17:37:07.000Z    44\n",
       "2018-11-11T20:09:54.000Z    44\n",
       "2018-12-30T20:15:58.000Z    44\n",
       "2017-12-17T20:51:42.000Z    44\n",
       "2017-09-24T17:53:37.000Z    44\n",
       "2018-11-25T18:11:47.000Z    44\n",
       "2018-12-23T18:18:29.000Z    44\n",
       "2018-12-30T19:12:01.000Z    44\n",
       "2018-01-01T00:22:40.000Z    44\n",
       "2018-10-14T17:51:01.000Z    44\n",
       "2017-09-24T17:28:48.000Z    44\n",
       "                            ..\n",
       "2017-12-31T18:06:00.000Z    22\n",
       "2018-10-07T19:09:36.000Z    22\n",
       "2018-11-18T20:06:58.000Z    22\n",
       "2017-10-29T19:52:35.000Z    22\n",
       "2017-11-19T21:34:05.000Z    22\n",
       "2017-10-10T01:35:00.000Z    22\n",
       "2018-10-29T02:26:52.000Z    22\n",
       "2018-10-02T02:06:06.000Z    22\n",
       "2017-12-10T20:03:56.000Z    22\n",
       "2018-09-16T21:40:36.000Z    22\n",
       "2017-09-24T20:57:01.000Z    22\n",
       "2018-09-30T18:10:53.000Z    22\n",
       "2018-12-02T23:54:20.000Z    22\n",
       "2017-11-05T19:47:33.000Z    22\n",
       "2017-11-05T21:52:47.000Z    22\n",
       "2018-12-02T18:32:37.000Z    22\n",
       "2018-10-23T02:11:07.000Z    22\n",
       "2017-12-10T21:41:16.000Z    22\n",
       "2018-10-01T00:58:02.000Z    22\n",
       "2018-09-09T17:12:09.000Z    22\n",
       "2017-10-22T20:09:25.000Z    22\n",
       "2017-11-05T18:41:23.000Z    22\n",
       "2018-10-12T02:45:00.000Z    22\n",
       "2018-10-14T22:48:49.000Z    22\n",
       "2017-12-24T18:38:05.000Z    22\n",
       "2017-10-15T17:29:47.000Z    22\n",
       "2018-09-30T21:37:43.000Z    22\n",
       "2017-10-02T03:30:02.000Z    22\n",
       "2018-10-02T00:53:32.000Z    22\n",
       "2018-09-09T20:26:32.000Z    22\n",
       "Name: TimeSnap, Length: 22943, dtype: int64"
      ]
     },
     "execution_count": 35,
     "metadata": {},
     "output_type": "execute_result"
    }
   ],
   "source": [
    "# UTC time of the snap\n",
    "train['TimeSnap'].value_counts()"
   ]
  },
  {
   "cell_type": "markdown",
   "metadata": {},
   "source": [
    "### Analisando as variaveis de TEMPERATURA"
   ]
  },
  {
   "cell_type": "code",
   "execution_count": 36,
   "metadata": {
    "scrolled": true
   },
   "outputs": [
    {
     "data": {
      "text/plain": [
       "NE                 30250\n",
       "NW                 27236\n",
       "SW                 25828\n",
       "SE                 25784\n",
       "WSW                24222\n",
       "N                  23188\n",
       "W                  22198\n",
       "S                  21384\n",
       "NNE                20394\n",
       "South              20328\n",
       "SSW                19910\n",
       "WNW                19118\n",
       "North              17182\n",
       "NNW                14036\n",
       "West               13618\n",
       "SSE                13376\n",
       "E                  12826\n",
       "ENE                10802\n",
       "ESE                 9878\n",
       "East                7348\n",
       "Northwest           4070\n",
       "From SW             3872\n",
       "Northeast           3652\n",
       "NorthEast           3212\n",
       "From S              3146\n",
       "s                   2728\n",
       "SouthWest           2134\n",
       "Southeast           1936\n",
       "W-NW                1804\n",
       "Southwest           1804\n",
       "West-Southwest      1386\n",
       "8                   1144\n",
       "1                   1122\n",
       "North East          1100\n",
       "East Southeast      1078\n",
       "West Northwest      1056\n",
       "Calm                1056\n",
       "N-NE                1012\n",
       "From W               990\n",
       "From NNE             968\n",
       "North/Northwest      968\n",
       "W-SW                 968\n",
       "From SSW             968\n",
       "From WSW             946\n",
       "South Southeast      946\n",
       "From NNW             924\n",
       "EAST                 902\n",
       "From SSE             880\n",
       "South Southwest      858\n",
       "13                   836\n",
       "East North East      748\n",
       "from W               726\n",
       "From ESE             682\n",
       "Name: WindDirection, dtype: int64"
      ]
     },
     "execution_count": 36,
     "metadata": {},
     "output_type": "execute_result"
    }
   ],
   "source": [
    "# wind direction\n",
    "train['WindDirection'].value_counts()"
   ]
  },
  {
   "cell_type": "code",
   "execution_count": 37,
   "metadata": {
    "scrolled": true
   },
   "outputs": [
    {
     "data": {
      "text/plain": [
       "5.0                  26686\n",
       "7.0                  26642\n",
       "5                    26598\n",
       "6.0                  22800\n",
       "9.0                  19920\n",
       "4                    19844\n",
       "10.0                 19568\n",
       "6                    18780\n",
       "8.0                  18348\n",
       "2.0                  17520\n",
       "12.0                 17226\n",
       "3                    15840\n",
       "4                    14740\n",
       "11.0                 14496\n",
       "7                    12936\n",
       "9                    11408\n",
       "8                    11022\n",
       "3                    11022\n",
       "10                   10220\n",
       "15.0                  7964\n",
       "0                     7656\n",
       "13                    7348\n",
       "1                     6776\n",
       "2                     6592\n",
       "12                    6358\n",
       "0.0                   6116\n",
       "16.0                  5962\n",
       "15                    5962\n",
       "1                     5302\n",
       "14.0                  4154\n",
       "16                    3916\n",
       "11                    2620\n",
       "17.0                  2046\n",
       "18.0                  1980\n",
       "14                    1940\n",
       "17                    1826\n",
       "13 MPH                1804\n",
       "23                    1166\n",
       "E                     1144\n",
       "SE                    1122\n",
       "7 MPH                 1100\n",
       "Calm                  1100\n",
       "10-20                 1100\n",
       "13                    1056\n",
       "12-22                 1056\n",
       "6 mph                 1034\n",
       "20                    1012\n",
       "24.0                   968\n",
       "14-23                  968\n",
       "12mph                  968\n",
       "10MPH                  902\n",
       "10mph                  902\n",
       "4 MPh                  902\n",
       "22                     836\n",
       "15 gusts up to 25      836\n",
       "SSW                    836\n",
       "11-17                  726\n",
       "19                     660\n",
       "Name: WindSpeed, dtype: int64"
      ]
     },
     "execution_count": 37,
     "metadata": {},
     "output_type": "execute_result"
    }
   ],
   "source": [
    "# wind speed in miles/hour\n",
    "train['WindSpeed'].value_counts()"
   ]
  },
  {
   "cell_type": "code",
   "execution_count": 38,
   "metadata": {
    "scrolled": true
   },
   "outputs": [
    {
     "data": {
      "text/plain": [
       "68.0    27236\n",
       "72.0    14432\n",
       "61.0    14080\n",
       "70.0    12584\n",
       "62.0    11286\n",
       "60.0    11044\n",
       "71.0    10802\n",
       "46.0    10296\n",
       "80.0    10186\n",
       "48.0    10164\n",
       "89.0     9482\n",
       "54.0     9416\n",
       "53.0     9284\n",
       "69.0     9262\n",
       "42.0     9108\n",
       "44.0     8888\n",
       "56.0     8844\n",
       "51.0     8734\n",
       "79.0     8712\n",
       "33.0     8624\n",
       "63.0     8580\n",
       "65.0     8338\n",
       "82.0     7986\n",
       "84.0     7854\n",
       "83.0     7700\n",
       "40.0     7414\n",
       "39.0     7392\n",
       "78.0     7304\n",
       "76.0     7282\n",
       "73.0     7172\n",
       "        ...  \n",
       "88.0     4136\n",
       "49.0     4070\n",
       "38.0     3960\n",
       "90.0     3960\n",
       "59.0     3696\n",
       "37.0     3630\n",
       "36.0     3498\n",
       "25.0     3366\n",
       "29.0     2992\n",
       "19.0     2178\n",
       "23.0     2112\n",
       "31.0     2068\n",
       "85.0     1980\n",
       "91.0     1892\n",
       "32.0     1870\n",
       "28.0     1782\n",
       "41.0     1650\n",
       "16.0     1232\n",
       "9.0      1232\n",
       "27.0     1144\n",
       "92.0     1122\n",
       "13.0     1100\n",
       "10.0     1034\n",
       "34.0     1012\n",
       "17.0     1012\n",
       "26.0      990\n",
       "11.0      990\n",
       "22.0      902\n",
       "97.0      836\n",
       "24.0      836\n",
       "Name: Temperature, Length: 78, dtype: int64"
      ]
     },
     "execution_count": 38,
     "metadata": {},
     "output_type": "execute_result"
    }
   ],
   "source": [
    "# temperature (deg F)\n",
    "train['Temperature'].value_counts()"
   ]
  },
  {
   "cell_type": "code",
   "execution_count": 39,
   "metadata": {
    "scrolled": true
   },
   "outputs": [
    {
     "data": {
      "text/plain": [
       "Cloudy                                                                              114466\n",
       "Sunny                                                                               105028\n",
       "Partly Cloudy                                                                        46068\n",
       "Clear                                                                                44264\n",
       "Rain                                                                                 18898\n",
       "Mostly Cloudy                                                                        18216\n",
       "Controlled Climate                                                                   12540\n",
       "N/A (Indoors)                                                                        10868\n",
       "Indoor                                                                                6182\n",
       "Mostly Sunny                                                                          5918\n",
       "Indoors                                                                               5676\n",
       "Partly Sunny                                                                          5368\n",
       "Fair                                                                                  4972\n",
       "N/A Indoor                                                                            4224\n",
       "Mostly cloudy                                                                         4026\n",
       "Hazy                                                                                  3124\n",
       "Light Rain                                                                            2772\n",
       "Overcast                                                                              2156\n",
       "Partly sunny                                                                          2156\n",
       "Clear skies                                                                           2112\n",
       "Snow                                                                                  2002\n",
       "Partly cloudy                                                                         1980\n",
       "Clear Skies                                                                           1980\n",
       "Heavy lake effect snow                                                                1870\n",
       "cloudy                                                                                1870\n",
       "Mostly sunny                                                                          1716\n",
       "Clear and cold                                                                        1276\n",
       "Cloudy and Cool                                                                       1232\n",
       "Rain shower                                                                           1188\n",
       "Sunny and warm                                                                        1166\n",
       "                                                                                     ...  \n",
       "Clear and warm                                                                        1144\n",
       "Mostly Coudy                                                                          1144\n",
       "30% Chance of Rain                                                                    1144\n",
       "Cloudy and cold                                                                       1100\n",
       "Mostly Sunny Skies                                                                    1100\n",
       "Partly Clouidy                                                                        1100\n",
       "Scattered Showers                                                                     1100\n",
       "Cloudy, Rain                                                                          1100\n",
       "Sunny, highs to upper 80s                                                             1100\n",
       "Cloudy, fog started developing in 2nd quarter                                         1100\n",
       "Clear and sunny                                                                       1078\n",
       "Rain likely, temps in low 40s.                                                        1078\n",
       "Clear and Cool                                                                        1034\n",
       "Cloudy, 50% change of rain                                                            1034\n",
       "Sunny Skies                                                                           1012\n",
       "Coudy                                                                                  990\n",
       "Sunny and cold                                                                         990\n",
       "Clear and Sunny                                                                        990\n",
       "Sun & clouds                                                                           968\n",
       "Sunny and clear                                                                        946\n",
       "Cloudy with periods of rain, thunder possible. Winds shifting to WNW, 10-20 mph.       946\n",
       "T: 51; H: 55; W: NW 10 mph                                                             924\n",
       "Cloudy, chance of rain                                                                 902\n",
       "Showers                                                                                880\n",
       "Rain Chance 40%                                                                        836\n",
       "Cloudy, light snow accumulating 1-3\"                                                   836\n",
       "Party Cloudy                                                                           814\n",
       "Sunny, Windy                                                                           792\n",
       "Partly clear                                                                           770\n",
       "Rainy                                                                                  704\n",
       "Name: GameWeather, Length: 61, dtype: int64"
      ]
     },
     "execution_count": 39,
     "metadata": {},
     "output_type": "execute_result"
    }
   ],
   "source": [
    "# description of the game weather\n",
    "train['GameWeather'].value_counts()"
   ]
  },
  {
   "cell_type": "code",
   "execution_count": 40,
   "metadata": {
    "scrolled": true
   },
   "outputs": [
    {
     "data": {
      "text/plain": [
       "0.0     45254\n",
       "70.0    28908\n",
       "56.0    13420\n",
       "67.0    13288\n",
       "42.0    12782\n",
       "62.0    12738\n",
       "58.0    12562\n",
       "59.0    12034\n",
       "63.0    11946\n",
       "76.0    10912\n",
       "44.0    10120\n",
       "60.0     9834\n",
       "64.0     9526\n",
       "51.0     9152\n",
       "55.0     9108\n",
       "69.0     9086\n",
       "49.0     9042\n",
       "68.0     8778\n",
       "71.0     8052\n",
       "85.0     8008\n",
       "78.0     7898\n",
       "54.0     7810\n",
       "79.0     7524\n",
       "48.0     7304\n",
       "43.0     7150\n",
       "52.0     7106\n",
       "45.0     6930\n",
       "66.0     6644\n",
       "80.0     6380\n",
       "90.0     5786\n",
       "        ...  \n",
       "17.0     3058\n",
       "73.0     3036\n",
       "95.0     2816\n",
       "26.0     2728\n",
       "86.0     2618\n",
       "38.0     2420\n",
       "84.0     2420\n",
       "20.0     2376\n",
       "10.0     2332\n",
       "98.0     2156\n",
       "34.0     2112\n",
       "8.0      2024\n",
       "82.0     2024\n",
       "25.0     2002\n",
       "81.0     2002\n",
       "15.0     1914\n",
       "28.0     1914\n",
       "94.0     1848\n",
       "83.0     1672\n",
       "87.0     1628\n",
       "40.0     1188\n",
       "19.0     1144\n",
       "13.0     1122\n",
       "31.0     1056\n",
       "27.0     1034\n",
       "24.0     1034\n",
       "14.0      968\n",
       "7.0       968\n",
       "29.0      902\n",
       "32.0      880\n",
       "Name: Humidity, Length: 86, dtype: int64"
      ]
     },
     "execution_count": 40,
     "metadata": {},
     "output_type": "execute_result"
    }
   ],
   "source": [
    "# humidity\n",
    "train['Humidity'].value_counts()"
   ]
  },
  {
   "cell_type": "markdown",
   "metadata": {},
   "source": [
    "### Analisando as variaveis do JOGADOR"
   ]
  },
  {
   "cell_type": "code",
   "execution_count": 41,
   "metadata": {
    "scrolled": true
   },
   "outputs": [
    {
     "data": {
      "text/plain": [
       "2555281    847\n",
       "2504211    823\n",
       "2552363    797\n",
       "2552563    796\n",
       "2543470    789\n",
       "2495504    788\n",
       "2532986    781\n",
       "2553632    781\n",
       "71493      780\n",
       "2557979    776\n",
       "2557959    775\n",
       "2532975    773\n",
       "497048     770\n",
       "2553505    768\n",
       "2555161    767\n",
       "2504775    763\n",
       "2555204    762\n",
       "2532888    762\n",
       "2543830    756\n",
       "2555260    753\n",
       "2532883    752\n",
       "2541142    751\n",
       "2555334    745\n",
       "2539935    744\n",
       "2555395    742\n",
       "2558014    742\n",
       "2555132    740\n",
       "2539290    739\n",
       "2550169    738\n",
       "2550135    736\n",
       "          ... \n",
       "2532859      1\n",
       "2561022      1\n",
       "2495467      1\n",
       "284          1\n",
       "2561300      1\n",
       "2554357      1\n",
       "2552427      1\n",
       "2555366      1\n",
       "2558963      1\n",
       "2561403      1\n",
       "2561384      1\n",
       "2559079      1\n",
       "2559299      1\n",
       "2555486      1\n",
       "2556702      1\n",
       "2553725      1\n",
       "2534571      1\n",
       "2561468      1\n",
       "2559007      1\n",
       "2495491      1\n",
       "2556676      1\n",
       "2552390      1\n",
       "2561030      1\n",
       "2559157      1\n",
       "2553869      1\n",
       "2558901      1\n",
       "2555187      1\n",
       "2555167      1\n",
       "2559197      1\n",
       "2556415      1\n",
       "Name: NflId, Length: 2231, dtype: int64"
      ]
     },
     "execution_count": 41,
     "metadata": {},
     "output_type": "execute_result"
    }
   ],
   "source": [
    "# a unique identifier of the player\n",
    "train['NflId'].value_counts()"
   ]
  },
  {
   "cell_type": "code",
   "execution_count": 42,
   "metadata": {
    "scrolled": true
   },
   "outputs": [
    {
     "data": {
      "text/plain": [
       "2555224    11814\n",
       "2552475    11726\n",
       "2555418    11396\n",
       "2552469    10010\n",
       "2557917     9900\n",
       "2533034     9768\n",
       "79607       9658\n",
       "2557976     9064\n",
       "2543743     8998\n",
       "2506404     8954\n",
       "2507164     8932\n",
       "2557973     8822\n",
       "2556075     8250\n",
       "2495466     8030\n",
       "2541161     7788\n",
       "2550189     7612\n",
       "2556466     7480\n",
       "2557997     7238\n",
       "2495469     7216\n",
       "497149      7172\n",
       "2552453     7106\n",
       "2555430     7084\n",
       "2540175     6908\n",
       "2540269     6820\n",
       "2532899     6820\n",
       "2558019     6776\n",
       "2495663     6512\n",
       "2558865     6512\n",
       "2558123     6314\n",
       "2558204     6028\n",
       "           ...  \n",
       "2506147       22\n",
       "2558856       22\n",
       "81284         22\n",
       "2557866       22\n",
       "2560836       22\n",
       "81294         22\n",
       "2495459       22\n",
       "2532870       22\n",
       "2532888       22\n",
       "2505996       22\n",
       "2554357       22\n",
       "2535964       22\n",
       "2550256       22\n",
       "2555419       22\n",
       "2557986       22\n",
       "2539235       22\n",
       "2495234       22\n",
       "2555317       22\n",
       "2507763       22\n",
       "2560988       22\n",
       "2532842       22\n",
       "2553502       22\n",
       "2505076       22\n",
       "2560847       22\n",
       "2553499       22\n",
       "2543477       22\n",
       "2561358       22\n",
       "2557863       22\n",
       "2543475       22\n",
       "2506931       22\n",
       "Name: NflIdRusher, Length: 371, dtype: int64"
      ]
     },
     "execution_count": 42,
     "metadata": {},
     "output_type": "execute_result"
    }
   ],
   "source": [
    "# the NflId of the rushing player\n",
    "train['NflIdRusher'].value_counts()"
   ]
  },
  {
   "cell_type": "code",
   "execution_count": 43,
   "metadata": {
    "scrolled": true
   },
   "outputs": [
    {
     "data": {
      "text/plain": [
       "Joe Thuney             847\n",
       "Michael Thomas         847\n",
       "Tom Brady              823\n",
       "Rob Havenstein         797\n",
       "Shaq Mason             796\n",
       "Ha Ha Clinton-Dix      789\n",
       "Patrick Peterson       788\n",
       "David Andrews          781\n",
       "Tahir Whitehead        781\n",
       "Max Unger              780\n",
       "Jamal Adams            776\n",
       "Ryan Ramczyk           775\n",
       "Russell Wilson         773\n",
       "Rodger Saffold         770\n",
       "La'el Collins          768\n",
       "Blake Martinez         767\n",
       "Drew Brees             763\n",
       "Case Keenum            762\n",
       "Ronnie Stanley         762\n",
       "Tre Boston             756\n",
       "Dak Prescott           753\n",
       "Ben Jones              752\n",
       "Josh Kline             751\n",
       "Jared Goff             745\n",
       "Kiko Alonso            744\n",
       "Garett Bolles          742\n",
       "Germain Ifedi          742\n",
       "Cody Whitehair         740\n",
       "Jordan Poyer           739\n",
       "Charles Leno Jr.       738\n",
       "                      ... \n",
       "Tony Lippett             1\n",
       "Da'Mari Scott            1\n",
       "Bryce Harris             1\n",
       "De'Lance Turner          1\n",
       "Temarrick Hemingway      1\n",
       "Max Tuerk                1\n",
       "Rashaad Coward           1\n",
       "Bradley Marquez          1\n",
       "Josh Forrest             1\n",
       "Harvey Langi             1\n",
       "Channing Ward            1\n",
       "Evan Baylis              1\n",
       "Derron Smith             1\n",
       "Elijah Nkansah           1\n",
       "Tre'Von Johnson          1\n",
       "Rashawn Scott            1\n",
       "Josh Ferguson            1\n",
       "Devaroe Lawrence         1\n",
       "Akeem Ayers              1\n",
       "Taiwan Jones             1\n",
       "Saeed Blacknall          1\n",
       "Chris Covington          1\n",
       "Joe Kerridge             1\n",
       "Deiondre' Hall           1\n",
       "Tim White                1\n",
       "Fish Smithson            1\n",
       "Jack Cichy               1\n",
       "Bobby Rainey             1\n",
       "Bronson Hill             1\n",
       "Darren McFadden          1\n",
       "Name: DisplayName, Length: 2230, dtype: int64"
      ]
     },
     "execution_count": 43,
     "metadata": {},
     "output_type": "execute_result"
    }
   ],
   "source": [
    "# player's name\n",
    "train['DisplayName'].value_counts()"
   ]
  },
  {
   "cell_type": "code",
   "execution_count": 44,
   "metadata": {
    "scrolled": true
   },
   "outputs": [
    {
     "data": {
      "text/plain": [
       "6-3     81694\n",
       "6-4     66603\n",
       "6-5     62913\n",
       "6-1     61729\n",
       "6-2     52893\n",
       "6-0     50531\n",
       "5-11    39361\n",
       "6-6     34650\n",
       "5-10    24596\n",
       "6-7     13076\n",
       "5-9      9439\n",
       "6-8      5653\n",
       "5-8      3507\n",
       "6-9      2029\n",
       "5-7       682\n",
       "5-6       406\n",
       "Name: PlayerHeight, dtype: int64"
      ]
     },
     "execution_count": 44,
     "metadata": {},
     "output_type": "execute_result"
    }
   ],
   "source": [
    "# player height (ft-in)\n",
    "train['PlayerHeight'].value_counts()"
   ]
  },
  {
   "cell_type": "code",
   "execution_count": 45,
   "metadata": {
    "scrolled": true
   },
   "outputs": [
    {
     "data": {
      "text/plain": [
       "315    15945\n",
       "215    14377\n",
       "310    14236\n",
       "195    12330\n",
       "305    12173\n",
       "320    11653\n",
       "190    11481\n",
       "300    10657\n",
       "250    10355\n",
       "205    10006\n",
       "265     9118\n",
       "200     9107\n",
       "210     9051\n",
       "245     8960\n",
       "255     8831\n",
       "325     7211\n",
       "185     6929\n",
       "330     6884\n",
       "235     6794\n",
       "192     6539\n",
       "225     6441\n",
       "230     6232\n",
       "202     6146\n",
       "308     6112\n",
       "240     5868\n",
       "212     5745\n",
       "220     5403\n",
       "196     5298\n",
       "260     5286\n",
       "211     5030\n",
       "       ...  \n",
       "178      462\n",
       "342      458\n",
       "346      457\n",
       "167      441\n",
       "277      440\n",
       "266      421\n",
       "279      385\n",
       "281      363\n",
       "174      311\n",
       "249      282\n",
       "284      270\n",
       "334      265\n",
       "278      239\n",
       "160      213\n",
       "271      158\n",
       "264      139\n",
       "169      132\n",
       "173      110\n",
       "181      110\n",
       "282       95\n",
       "339       88\n",
       "289       74\n",
       "189       68\n",
       "168       65\n",
       "159       43\n",
       "283       39\n",
       "170       26\n",
       "351       24\n",
       "153        5\n",
       "358        4\n",
       "Name: PlayerWeight, Length: 182, dtype: int64"
      ]
     },
     "execution_count": 45,
     "metadata": {},
     "output_type": "execute_result"
    }
   ],
   "source": [
    "# player weight (lbs)\n",
    "train['PlayerWeight'].value_counts()"
   ]
  },
  {
   "cell_type": "code",
   "execution_count": 46,
   "metadata": {
    "scrolled": true
   },
   "outputs": [
    {
     "data": {
      "text/plain": [
       "04/23/1991    1602\n",
       "12/29/1989    1562\n",
       "05/13/1992    1556\n",
       "04/26/1989    1545\n",
       "06/08/1989    1458\n",
       "01/11/1990    1456\n",
       "03/22/1989    1412\n",
       "06/14/1993    1354\n",
       "01/01/1991    1340\n",
       "11/29/1988    1320\n",
       "08/31/1992    1319\n",
       "07/24/1989    1308\n",
       "02/17/1993    1284\n",
       "11/15/1990    1270\n",
       "04/29/1993    1254\n",
       "07/01/1994    1237\n",
       "01/22/1993    1228\n",
       "03/18/1994    1213\n",
       "04/22/1994    1211\n",
       "02/25/1988    1202\n",
       "08/03/1994    1201\n",
       "04/25/1991    1189\n",
       "08/13/1987    1188\n",
       "05/05/1991    1165\n",
       "04/13/1993    1164\n",
       "03/21/1995    1163\n",
       "04/28/1992    1145\n",
       "10/27/1992    1143\n",
       "10/09/1991    1116\n",
       "10/04/1995    1111\n",
       "              ... \n",
       "12/09/1994       3\n",
       "01/15/1992       3\n",
       "09/05/1991       2\n",
       "01/31/1992       2\n",
       "10/11/1989       2\n",
       "08/05/1987       2\n",
       "09/17/1992       2\n",
       "09/08/1994       2\n",
       "07/27/1994       2\n",
       "12/06/1992       2\n",
       "07/21/1989       2\n",
       "12/26/1995       2\n",
       "05/17/1993       2\n",
       "06/23/1992       2\n",
       "10/23/1992       2\n",
       "06/26/1994       2\n",
       "11/09/1990       2\n",
       "08/27/1987       1\n",
       "03/11/1992       1\n",
       "01/16/1989       1\n",
       "05/05/1996       1\n",
       "10/13/1992       1\n",
       "02/24/1992       1\n",
       "12/14/1992       1\n",
       "01/27/1994       1\n",
       "12/28/1994       1\n",
       "02/04/1992       1\n",
       "01/02/1993       1\n",
       "10/16/1987       1\n",
       "05/31/1994       1\n",
       "Name: PlayerBirthDate, Length: 1688, dtype: int64"
      ]
     },
     "execution_count": 46,
     "metadata": {},
     "output_type": "execute_result"
    }
   ],
   "source": [
    "# birth date (mm/dd/yyyy)\n",
    "train['PlayerBirthDate'].value_counts()"
   ]
  },
  {
   "cell_type": "code",
   "execution_count": 47,
   "metadata": {
    "scrolled": true
   },
   "outputs": [
    {
     "data": {
      "text/plain": [
       "Alabama                       16174\n",
       "Ohio State                    13984\n",
       "Louisiana State               12211\n",
       "Florida                       11775\n",
       "Georgia                       11686\n",
       "Florida State                 10482\n",
       "Notre Dame                     9922\n",
       "Clemson                        9076\n",
       "Oklahoma                       8500\n",
       "Stanford                       8497\n",
       "Wisconsin                      8375\n",
       "Michigan                       8207\n",
       "Southern California            7931\n",
       "Penn State                     7814\n",
       "South Carolina                 7612\n",
       "California                     7441\n",
       "UCLA                           7378\n",
       "Iowa                           7232\n",
       "Oregon                         6974\n",
       "Miami                          6649\n",
       "Texas                          6282\n",
       "Washington                     6228\n",
       "North Carolina                 6062\n",
       "Texas A&M                      6009\n",
       "Mississippi                    5747\n",
       "Mississippi State              5624\n",
       "Michigan State                 5446\n",
       "Utah                           5192\n",
       "North Carolina State           5189\n",
       "Auburn                         5145\n",
       "                              ...  \n",
       "North Greenville                 39\n",
       "Limestone                        39\n",
       "Wis.-Platteville                 33\n",
       "Shepherd                         31\n",
       "Southern Connecticut State       29\n",
       "Hawaii                           28\n",
       "Humboldt State                   25\n",
       "Wisconsin-Whitewater             22\n",
       "Frostburg State                  20\n",
       "Arkansas-Monticello              19\n",
       "Mary Hardin-Baylor               18\n",
       "St. Francis (PA)                 18\n",
       "Ferris State                     18\n",
       "Southern University              18\n",
       "Western Carolina                 15\n",
       "Indiana State                    15\n",
       "Chadron State                    14\n",
       "Liberty                          13\n",
       "Navy                             10\n",
       "Holy Cross                        9\n",
       "Incarnate Word (Tex.)             8\n",
       "Concordia, Minn                   8\n",
       "Marian (Ind.)                     8\n",
       "Western Illinois                  6\n",
       "Azusa Pacific                     5\n",
       "Cal Poly                          3\n",
       "Texas Southern                    3\n",
       "Stetson                           2\n",
       "Eastern Oregon                    2\n",
       "Alcorn State                      1\n",
       "Name: PlayerCollegeName, Length: 301, dtype: int64"
      ]
     },
     "execution_count": 47,
     "metadata": {},
     "output_type": "execute_result"
    }
   ],
   "source": [
    "# where the player attended college\n",
    "train['PlayerCollegeName'].value_counts()"
   ]
  },
  {
   "cell_type": "markdown",
   "metadata": {},
   "source": [
    "### Analisando as variaveis de POSICIONAMENTO DO JOGADOR"
   ]
  },
  {
   "cell_type": "code",
   "execution_count": 48,
   "metadata": {
    "scrolled": true
   },
   "outputs": [
    {
     "data": {
      "text/plain": [
       "85.31     107\n",
       "85.57     105\n",
       "85.03     104\n",
       "85.45     103\n",
       "85.41     103\n",
       "35.43     103\n",
       "84.53     102\n",
       "34.27     102\n",
       "84.65     102\n",
       "84.29     102\n",
       "74.94     102\n",
       "34.22     101\n",
       "34.16     100\n",
       "35.28      99\n",
       "85.84      99\n",
       "34.35      99\n",
       "85.85      99\n",
       "35.07      99\n",
       "34.42      99\n",
       "85.21      99\n",
       "35.00      98\n",
       "84.39      97\n",
       "34.65      97\n",
       "85.30      96\n",
       "84.33      96\n",
       "85.40      96\n",
       "33.79      96\n",
       "34.83      96\n",
       "34.74      96\n",
       "84.76      95\n",
       "         ... \n",
       "115.09      1\n",
       "5.91        1\n",
       "3.73        1\n",
       "114.66      1\n",
       "5.56        1\n",
       "4.47        1\n",
       "6.54        1\n",
       "114.00      1\n",
       "6.81        1\n",
       "114.26      1\n",
       "6.43        1\n",
       "4.52        1\n",
       "6.13        1\n",
       "4.92        1\n",
       "113.91      1\n",
       "5.15        1\n",
       "7.17        1\n",
       "115.33      1\n",
       "113.10      1\n",
       "113.90      1\n",
       "114.41      1\n",
       "114.59      1\n",
       "6.24        1\n",
       "0.66        1\n",
       "5.76        1\n",
       "6.91        1\n",
       "6.29        1\n",
       "114.22      1\n",
       "5.92        1\n",
       "115.69      1\n",
       "Name: X, Length: 10890, dtype: int64"
      ]
     },
     "execution_count": 48,
     "metadata": {},
     "output_type": "execute_result"
    }
   ],
   "source": [
    "# player position along the long axis of the field. See figure below.\n",
    "train['X'].value_counts()"
   ]
  },
  {
   "cell_type": "code",
   "execution_count": 49,
   "metadata": {
    "scrolled": true
   },
   "outputs": [
    {
     "data": {
      "text/plain": [
       "23.87    384\n",
       "29.77    383\n",
       "25.02    379\n",
       "29.61    377\n",
       "28.32    375\n",
       "26.04    369\n",
       "28.10    369\n",
       "29.53    369\n",
       "28.02    368\n",
       "29.63    366\n",
       "29.76    364\n",
       "28.11    363\n",
       "23.67    362\n",
       "26.55    361\n",
       "28.92    361\n",
       "23.83    360\n",
       "29.62    360\n",
       "28.03    360\n",
       "28.34    359\n",
       "23.74    359\n",
       "23.93    358\n",
       "24.04    357\n",
       "25.36    357\n",
       "28.44    357\n",
       "27.94    356\n",
       "23.81    355\n",
       "27.90    353\n",
       "24.17    353\n",
       "29.58    352\n",
       "29.65    352\n",
       "        ... \n",
       "49.37      1\n",
       "48.15      1\n",
       "48.12      1\n",
       "4.81       1\n",
       "4.46       1\n",
       "48.64      1\n",
       "47.18      1\n",
       "4.60       1\n",
       "48.28      1\n",
       "5.53       1\n",
       "5.99       1\n",
       "48.56      1\n",
       "47.73      1\n",
       "4.75       1\n",
       "4.74       1\n",
       "48.95      1\n",
       "48.55      1\n",
       "47.35      1\n",
       "4.88       1\n",
       "4.20       1\n",
       "47.95      1\n",
       "5.24       1\n",
       "5.38       1\n",
       "49.06      1\n",
       "5.10       1\n",
       "3.87       1\n",
       "47.93      1\n",
       "47.90      1\n",
       "49.30      1\n",
       "48.13      1\n",
       "Name: Y, Length: 4339, dtype: int64"
      ]
     },
     "execution_count": 49,
     "metadata": {},
     "output_type": "execute_result"
    }
   ],
   "source": [
    "# player position along the short axis of the field. See figure below.\n",
    "train['Y'].value_counts()"
   ]
  },
  {
   "cell_type": "code",
   "execution_count": 50,
   "metadata": {
    "scrolled": true
   },
   "outputs": [
    {
     "data": {
      "text/plain": [
       "1.60    1440\n",
       "1.88    1398\n",
       "1.99    1397\n",
       "1.81    1393\n",
       "1.62    1392\n",
       "2.10    1378\n",
       "1.94    1376\n",
       "2.02    1374\n",
       "1.66    1364\n",
       "1.77    1362\n",
       "2.14    1360\n",
       "1.75    1359\n",
       "1.72    1359\n",
       "1.61    1353\n",
       "1.65    1351\n",
       "1.80    1350\n",
       "1.69    1350\n",
       "1.51    1349\n",
       "1.91    1348\n",
       "2.18    1347\n",
       "1.55    1345\n",
       "1.64    1344\n",
       "1.97    1344\n",
       "2.28    1344\n",
       "1.84    1344\n",
       "2.20    1342\n",
       "1.86    1342\n",
       "1.57    1341\n",
       "1.93    1340\n",
       "1.85    1338\n",
       "        ... \n",
       "8.61       2\n",
       "8.44       2\n",
       "8.53       2\n",
       "8.49       2\n",
       "8.54       2\n",
       "8.64       2\n",
       "8.63       1\n",
       "8.35       1\n",
       "8.41       1\n",
       "8.04       1\n",
       "8.83       1\n",
       "8.80       1\n",
       "8.81       1\n",
       "8.88       1\n",
       "8.87       1\n",
       "8.82       1\n",
       "8.56       1\n",
       "8.90       1\n",
       "8.94       1\n",
       "8.99       1\n",
       "8.78       1\n",
       "8.52       1\n",
       "9.41       1\n",
       "9.33       1\n",
       "9.01       1\n",
       "9.17       1\n",
       "8.86       1\n",
       "8.66       1\n",
       "8.89       1\n",
       "8.60       1\n",
       "Name: S, Length: 884, dtype: int64"
      ]
     },
     "execution_count": 50,
     "metadata": {},
     "output_type": "execute_result"
    }
   ],
   "source": [
    "# speed in yards/second\n",
    "train['S'].value_counts()"
   ]
  },
  {
   "cell_type": "code",
   "execution_count": 51,
   "metadata": {
    "scrolled": true
   },
   "outputs": [
    {
     "data": {
      "text/plain": [
       "1.01     2235\n",
       "1.10     2226\n",
       "1.07     2223\n",
       "1.11     2210\n",
       "0.96     2208\n",
       "1.16     2208\n",
       "1.22     2205\n",
       "1.00     2202\n",
       "1.26     2202\n",
       "1.06     2199\n",
       "1.24     2193\n",
       "1.17     2188\n",
       "0.92     2186\n",
       "1.02     2185\n",
       "0.98     2181\n",
       "1.04     2179\n",
       "1.21     2179\n",
       "1.19     2177\n",
       "1.05     2173\n",
       "1.15     2172\n",
       "0.99     2169\n",
       "1.09     2160\n",
       "1.08     2155\n",
       "1.13     2151\n",
       "1.30     2147\n",
       "1.18     2139\n",
       "0.86     2137\n",
       "1.37     2137\n",
       "1.29     2127\n",
       "0.82     2125\n",
       "         ... \n",
       "9.28        1\n",
       "11.17       1\n",
       "8.88        1\n",
       "8.99        1\n",
       "9.64        1\n",
       "8.26        1\n",
       "8.35        1\n",
       "8.03        1\n",
       "8.81        1\n",
       "8.38        1\n",
       "6.62        1\n",
       "9.09        1\n",
       "8.39        1\n",
       "9.22        1\n",
       "6.85        1\n",
       "10.53       1\n",
       "9.95        1\n",
       "10.10       1\n",
       "8.91        1\n",
       "8.20        1\n",
       "12.39       1\n",
       "8.02        1\n",
       "8.82        1\n",
       "11.79       1\n",
       "7.50        1\n",
       "9.88        1\n",
       "8.32        1\n",
       "8.13        1\n",
       "8.18        1\n",
       "7.08        1\n",
       "Name: A, Length: 903, dtype: int64"
      ]
     },
     "execution_count": 51,
     "metadata": {},
     "output_type": "execute_result"
    }
   ],
   "source": [
    "# acceleration in yards/second^2\n",
    "train['A'].value_counts()"
   ]
  },
  {
   "cell_type": "code",
   "execution_count": 52,
   "metadata": {
    "scrolled": true
   },
   "outputs": [
    {
     "data": {
      "text/plain": [
       "0.24    12081\n",
       "0.22    11986\n",
       "0.25    11982\n",
       "0.23    11962\n",
       "0.20    11860\n",
       "0.27    11853\n",
       "0.21    11833\n",
       "0.26    11702\n",
       "0.28    11629\n",
       "0.18    11589\n",
       "0.29    11534\n",
       "0.19    11464\n",
       "0.17    11401\n",
       "0.31    11393\n",
       "0.30    11352\n",
       "0.34    11271\n",
       "0.32    11218\n",
       "0.35    11201\n",
       "0.33    11149\n",
       "0.16    11063\n",
       "0.37    10891\n",
       "0.15    10882\n",
       "0.38    10823\n",
       "0.36    10807\n",
       "0.39    10626\n",
       "0.14    10579\n",
       "0.40    10552\n",
       "0.13    10324\n",
       "0.41    10149\n",
       "0.42     9856\n",
       "        ...  \n",
       "0.72      151\n",
       "0.78      149\n",
       "0.75      147\n",
       "0.79      139\n",
       "0.77      135\n",
       "0.80       93\n",
       "0.81       84\n",
       "0.83       64\n",
       "0.82       63\n",
       "0.84       43\n",
       "0.85       32\n",
       "0.87       23\n",
       "0.86       20\n",
       "0.88       11\n",
       "0.89       10\n",
       "0.90        7\n",
       "0.92        4\n",
       "0.94        4\n",
       "1.13        2\n",
       "1.16        2\n",
       "0.91        2\n",
       "0.93        1\n",
       "1.39        1\n",
       "0.95        1\n",
       "1.02        1\n",
       "1.00        1\n",
       "1.09        1\n",
       "1.10        1\n",
       "1.24        1\n",
       "0.99        1\n",
       "Name: Dis, Length: 105, dtype: int64"
      ]
     },
     "execution_count": 52,
     "metadata": {},
     "output_type": "execute_result"
    }
   ],
   "source": [
    "# distance traveled from prior time point, in yards\n",
    "train['Dis'].value_counts()"
   ]
  },
  {
   "cell_type": "code",
   "execution_count": 53,
   "metadata": {
    "scrolled": true
   },
   "outputs": [
    {
     "data": {
      "text/plain": [
       "90.00     237\n",
       "177.20     35\n",
       "5.41       34\n",
       "276.64     34\n",
       "87.71      33\n",
       "89.33      32\n",
       "190.60     32\n",
       "355.30     31\n",
       "91.71      31\n",
       "271.80     31\n",
       "77.72      31\n",
       "275.54     31\n",
       "350.99     30\n",
       "148.79     30\n",
       "349.66     30\n",
       "355.11     30\n",
       "265.48     30\n",
       "98.73      30\n",
       "167.35     30\n",
       "186.12     30\n",
       "172.86     30\n",
       "85.41      30\n",
       "3.35       29\n",
       "269.91     29\n",
       "177.28     29\n",
       "352.52     29\n",
       "90.13      29\n",
       "11.92      29\n",
       "281.02     29\n",
       "182.13     29\n",
       "         ... \n",
       "330.52      4\n",
       "297.36      4\n",
       "233.34      4\n",
       "216.71      3\n",
       "55.05       3\n",
       "30.24       3\n",
       "23.68       3\n",
       "154.54      3\n",
       "304.56      3\n",
       "323.31      3\n",
       "236.23      3\n",
       "224.27      3\n",
       "304.16      3\n",
       "249.55      3\n",
       "314.79      3\n",
       "302.38      3\n",
       "326.79      3\n",
       "36.81       3\n",
       "49.17       3\n",
       "53.70       3\n",
       "164.94      3\n",
       "231.18      3\n",
       "224.68      3\n",
       "214.84      2\n",
       "197.47      2\n",
       "315.11      2\n",
       "64.01       2\n",
       "228.08      2\n",
       "240.29      2\n",
       "231.96      2\n",
       "Name: Orientation, Length: 36001, dtype: int64"
      ]
     },
     "execution_count": 53,
     "metadata": {},
     "output_type": "execute_result"
    }
   ],
   "source": [
    "# orientation of player (deg)\n",
    "train['Orientation'].value_counts()"
   ]
  },
  {
   "cell_type": "code",
   "execution_count": 54,
   "metadata": {
    "scrolled": true
   },
   "outputs": [
    {
     "data": {
      "text/plain": [
       "356.43    38\n",
       "190.68    38\n",
       "185.95    36\n",
       "359.71    35\n",
       "14.35     35\n",
       "357.86    35\n",
       "357.37    34\n",
       "6.86      34\n",
       "180.37    34\n",
       "4.28      34\n",
       "19.59     33\n",
       "180.10    33\n",
       "5.60      33\n",
       "6.36      33\n",
       "172.67    33\n",
       "186.65    33\n",
       "11.69     33\n",
       "193.15    33\n",
       "172.40    33\n",
       "351.28    33\n",
       "192.30    33\n",
       "344.94    33\n",
       "6.10      33\n",
       "3.83      32\n",
       "330.73    32\n",
       "7.69      32\n",
       "171.07    32\n",
       "357.44    32\n",
       "355.35    32\n",
       "357.02    32\n",
       "          ..\n",
       "285.61     3\n",
       "49.44      3\n",
       "233.99     3\n",
       "323.66     3\n",
       "117.01     3\n",
       "127.34     3\n",
       "70.96      3\n",
       "124.61     3\n",
       "242.88     3\n",
       "282.03     3\n",
       "47.30      3\n",
       "64.95      3\n",
       "197.26     3\n",
       "68.23      3\n",
       "49.80      3\n",
       "50.75      3\n",
       "72.77      3\n",
       "285.77     3\n",
       "301.37     3\n",
       "279.66     3\n",
       "107.51     3\n",
       "85.77      3\n",
       "66.13      2\n",
       "304.94     2\n",
       "56.61      2\n",
       "253.69     2\n",
       "122.76     2\n",
       "285.39     2\n",
       "49.88      2\n",
       "80.28      1\n",
       "Name: Dir, Length: 36001, dtype: int64"
      ]
     },
     "execution_count": 54,
     "metadata": {},
     "output_type": "execute_result"
    }
   ],
   "source": [
    "# angle of player motion (deg)\n",
    "train['Dir'].value_counts()"
   ]
  },
  {
   "cell_type": "code",
   "execution_count": 55,
   "metadata": {
    "scrolled": true
   },
   "outputs": [
    {
     "data": {
      "text/plain": [
       "25    42900\n",
       "34    14388\n",
       "40    13882\n",
       "30    13090\n",
       "35    13090\n",
       "20    12914\n",
       "45    12804\n",
       "46    12298\n",
       "36    12254\n",
       "31    12254\n",
       "37    11946\n",
       "41    11880\n",
       "33    11682\n",
       "39    11638\n",
       "38    11462\n",
       "43    11440\n",
       "29    11440\n",
       "49    11352\n",
       "26    11154\n",
       "32    11154\n",
       "47    11044\n",
       "42    10868\n",
       "48    10846\n",
       "28    10538\n",
       "1     10406\n",
       "44    10384\n",
       "22    10208\n",
       "27    10054\n",
       "24     9658\n",
       "21     9548\n",
       "15     9240\n",
       "19     8998\n",
       "23     8954\n",
       "18     7810\n",
       "13     7216\n",
       "10     7150\n",
       "14     7062\n",
       "16     6974\n",
       "17     6886\n",
       "12     6820\n",
       "50     6424\n",
       "11     6094\n",
       "8      6072\n",
       "9      5984\n",
       "2      5412\n",
       "7      5104\n",
       "6      4994\n",
       "5      4950\n",
       "4      4774\n",
       "3      4268\n",
       "Name: YardLine, dtype: int64"
      ]
     },
     "execution_count": 55,
     "metadata": {},
     "output_type": "execute_result"
    }
   ],
   "source": [
    "# the yard line of the line of scrimmage\n",
    "train['YardLine'].value_counts()"
   ]
  },
  {
   "cell_type": "markdown",
   "metadata": {},
   "source": [
    "### Analisando as variaveis DESCONHECIDAS"
   ]
  },
  {
   "cell_type": "code",
   "execution_count": 56,
   "metadata": {
    "scrolled": true
   },
   "outputs": [
    {
     "data": {
      "text/plain": [
       "21    11158\n",
       "23    10072\n",
       "90     9164\n",
       "26     9115\n",
       "24     8899\n",
       "77     8630\n",
       "98     8613\n",
       "94     8375\n",
       "71     8205\n",
       "93     8023\n",
       "22     8010\n",
       "20     7944\n",
       "97     7819\n",
       "99     7755\n",
       "25     7626\n",
       "54     7589\n",
       "73     7481\n",
       "11     7442\n",
       "75     7358\n",
       "10     7303\n",
       "76     7237\n",
       "55     7218\n",
       "72     7199\n",
       "29     7064\n",
       "27     7057\n",
       "65     7038\n",
       "70     6828\n",
       "74     6805\n",
       "95     6717\n",
       "91     6685\n",
       "      ...  \n",
       "38     3926\n",
       "42     3903\n",
       "83     3566\n",
       "19     3560\n",
       "36     3447\n",
       "15     3396\n",
       "34     3263\n",
       "44     3172\n",
       "86     3121\n",
       "16     3105\n",
       "37     2961\n",
       "43     2930\n",
       "48     2731\n",
       "47     2596\n",
       "4      2546\n",
       "35     2392\n",
       "39     2277\n",
       "7      2252\n",
       "3      2147\n",
       "63     2117\n",
       "8      1949\n",
       "5      1881\n",
       "9      1820\n",
       "40     1612\n",
       "45     1608\n",
       "46     1156\n",
       "49     1112\n",
       "2       997\n",
       "6       810\n",
       "1       592\n",
       "Name: JerseyNumber, Length: 99, dtype: int64"
      ]
     },
     "execution_count": 56,
     "metadata": {},
     "output_type": "execute_result"
    }
   ],
   "source": [
    "# jersey number\n",
    "train['JerseyNumber'].value_counts()"
   ]
  },
  {
   "cell_type": "code",
   "execution_count": 57,
   "metadata": {},
   "outputs": [
    {
     "data": {
      "text/plain": [
       "1    292666\n",
       "2    172986\n",
       "3     39908\n",
       "4      4202\n",
       "Name: Down, dtype: int64"
      ]
     },
     "execution_count": 57,
     "metadata": {},
     "output_type": "execute_result"
    }
   ],
   "source": [
    "# the down (1-4)\n",
    "train['Down'].value_counts()"
   ]
  },
  {
   "cell_type": "code",
   "execution_count": 58,
   "metadata": {
    "scrolled": true
   },
   "outputs": [
    {
     "data": {
      "text/plain": [
       "10    301752\n",
       "1      41954\n",
       "5      20042\n",
       "2      19888\n",
       "4      17930\n",
       "6      17226\n",
       "3      16940\n",
       "7      16324\n",
       "8      15642\n",
       "9      13046\n",
       "15      4818\n",
       "11      4532\n",
       "20      3960\n",
       "12      3432\n",
       "13      2288\n",
       "14      1848\n",
       "18      1452\n",
       "17      1276\n",
       "19      1188\n",
       "16      1166\n",
       "21       484\n",
       "22       440\n",
       "25       440\n",
       "23       418\n",
       "24       286\n",
       "26       220\n",
       "27       176\n",
       "28       132\n",
       "30       110\n",
       "29        88\n",
       "33        66\n",
       "35        66\n",
       "40        66\n",
       "31        44\n",
       "34        22\n",
       "Name: Distance, dtype: int64"
      ]
     },
     "execution_count": 58,
     "metadata": {},
     "output_type": "execute_result"
    }
   ],
   "source": [
    "# yards needed for a first down\n",
    "train['Distance'].value_counts()"
   ]
  },
  {
   "cell_type": "code",
   "execution_count": 59,
   "metadata": {
    "scrolled": true
   },
   "outputs": [
    {
     "data": {
      "text/plain": [
       "CB     56686\n",
       "WR     53325\n",
       "G      42114\n",
       "T      42046\n",
       "DE     35890\n",
       "DT     35637\n",
       "OLB    34110\n",
       "TE     33237\n",
       "FS     24607\n",
       "C      24062\n",
       "RB     23908\n",
       "QB     23290\n",
       "SS     20540\n",
       "ILB    18541\n",
       "MLB    10208\n",
       "NT      8226\n",
       "LB      6699\n",
       "OT      6097\n",
       "FB      3211\n",
       "OG      3073\n",
       "DB      1931\n",
       "S       1641\n",
       "HB       647\n",
       "SAF       19\n",
       "DL        17\n",
       "Name: Position, dtype: int64"
      ]
     },
     "execution_count": 59,
     "metadata": {},
     "output_type": "execute_result"
    }
   ],
   "source": [
    "train['Position'].value_counts()"
   ]
  },
  {
   "cell_type": "code",
   "execution_count": null,
   "metadata": {},
   "outputs": [],
   "source": []
  },
  {
   "cell_type": "code",
   "execution_count": null,
   "metadata": {},
   "outputs": [],
   "source": []
  }
 ],
 "metadata": {
  "kernelspec": {
   "display_name": "Python 3",
   "language": "python",
   "name": "python3"
  },
  "language_info": {
   "codemirror_mode": {
    "name": "ipython",
    "version": 3
   },
   "file_extension": ".py",
   "mimetype": "text/x-python",
   "name": "python",
   "nbconvert_exporter": "python",
   "pygments_lexer": "ipython3",
   "version": "3.7.3"
  }
 },
 "nbformat": 4,
 "nbformat_minor": 1
}
