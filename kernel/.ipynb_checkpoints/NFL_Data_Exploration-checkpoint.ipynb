{
 "cells": [
  {
   "cell_type": "markdown",
   "metadata": {},
   "source": [
    "# Kaggle\n",
    "## Competition NFL Big Data Bowl"
   ]
  },
  {
   "cell_type": "code",
   "execution_count": 92,
   "metadata": {
    "_cell_guid": "b1076dfc-b9ad-4769-8c92-a6c4dae69d19",
    "_kg_hide-input": true,
    "_uuid": "8f2839f25d086af736a60e9eeb907d3b93b6e0e5"
   },
   "outputs": [],
   "source": [
    "# Carregando os pacotes\n",
    "import numpy as np \n",
    "import pandas as pd \n",
    "import seaborn as sns\n",
    "import matplotlib.pyplot as plt\n",
    "%matplotlib inline\n",
    "\n",
    "# Statistic lib\n",
    "from scipy import stats\n",
    "from scipy.stats import skew, norm\n",
    "from scipy.stats import randint as sp_randint\n",
    "from scipy.stats import uniform as sp_uniform\n",
    "\n",
    "# Misc lib\n",
    "import pandasql as ps\n",
    "\n",
    "import warnings\n",
    "warnings.filterwarnings('ignore')\n",
    "import gc\n",
    "gc.enable()"
   ]
  },
  {
   "cell_type": "code",
   "execution_count": 61,
   "metadata": {
    "_kg_hide-input": true,
    "_uuid": "f5fdc987f79035336b408413b3b3111d1b48fd2a"
   },
   "outputs": [
    {
     "name": "stdout",
     "output_type": "stream",
     "text": [
      "Data is ready !!\n"
     ]
    }
   ],
   "source": [
    "# Carregando os dados de treino\n",
    "train = pd.read_csv('../data/train.csv')\n",
    "print (\"Data is ready !!\")"
   ]
  },
  {
   "cell_type": "markdown",
   "metadata": {
    "_kg_hide-output": true,
    "_uuid": "c49cf65c83506e6f1cdbf049770740c224b2f710"
   },
   "source": [
    "# Data exploration"
   ]
  },
  {
   "cell_type": "code",
   "execution_count": 74,
   "metadata": {},
   "outputs": [
    {
     "data": {
      "text/html": [
       "<img src=\"../images/NFL_Image_01.png\"/>"
      ],
      "text/plain": [
       "<IPython.core.display.Image object>"
      ]
     },
     "execution_count": 74,
     "metadata": {},
     "output_type": "execute_result"
    }
   ],
   "source": [
    "from IPython.display import Image\n",
    "Image(url = '../images/NFL_Image_01.png')"
   ]
  },
  {
   "cell_type": "code",
   "execution_count": 62,
   "metadata": {
    "_uuid": "b09576a89afcccb0ace8841e1b4a14142054ed1b"
   },
   "outputs": [
    {
     "data": {
      "text/html": [
       "<div>\n",
       "<style scoped>\n",
       "    .dataframe tbody tr th:only-of-type {\n",
       "        vertical-align: middle;\n",
       "    }\n",
       "\n",
       "    .dataframe tbody tr th {\n",
       "        vertical-align: top;\n",
       "    }\n",
       "\n",
       "    .dataframe thead th {\n",
       "        text-align: right;\n",
       "    }\n",
       "</style>\n",
       "<table border=\"1\" class=\"dataframe\">\n",
       "  <thead>\n",
       "    <tr style=\"text-align: right;\">\n",
       "      <th></th>\n",
       "      <th>GameId</th>\n",
       "      <th>PlayId</th>\n",
       "      <th>Team</th>\n",
       "      <th>X</th>\n",
       "      <th>Y</th>\n",
       "      <th>S</th>\n",
       "      <th>A</th>\n",
       "      <th>Dis</th>\n",
       "      <th>Orientation</th>\n",
       "      <th>Dir</th>\n",
       "      <th>...</th>\n",
       "      <th>Week</th>\n",
       "      <th>Stadium</th>\n",
       "      <th>Location</th>\n",
       "      <th>StadiumType</th>\n",
       "      <th>Turf</th>\n",
       "      <th>GameWeather</th>\n",
       "      <th>Temperature</th>\n",
       "      <th>Humidity</th>\n",
       "      <th>WindSpeed</th>\n",
       "      <th>WindDirection</th>\n",
       "    </tr>\n",
       "  </thead>\n",
       "  <tbody>\n",
       "    <tr>\n",
       "      <th>0</th>\n",
       "      <td>2017090700</td>\n",
       "      <td>20170907000118</td>\n",
       "      <td>away</td>\n",
       "      <td>73.91</td>\n",
       "      <td>34.84</td>\n",
       "      <td>1.69</td>\n",
       "      <td>1.13</td>\n",
       "      <td>0.40</td>\n",
       "      <td>81.99</td>\n",
       "      <td>177.18</td>\n",
       "      <td>...</td>\n",
       "      <td>1</td>\n",
       "      <td>Gillette Stadium</td>\n",
       "      <td>Foxborough, MA</td>\n",
       "      <td>Outdoor</td>\n",
       "      <td>Field Turf</td>\n",
       "      <td>Clear and warm</td>\n",
       "      <td>63.0</td>\n",
       "      <td>77.0</td>\n",
       "      <td>8</td>\n",
       "      <td>SW</td>\n",
       "    </tr>\n",
       "    <tr>\n",
       "      <th>1</th>\n",
       "      <td>2017090700</td>\n",
       "      <td>20170907000118</td>\n",
       "      <td>away</td>\n",
       "      <td>74.67</td>\n",
       "      <td>32.64</td>\n",
       "      <td>0.42</td>\n",
       "      <td>1.35</td>\n",
       "      <td>0.01</td>\n",
       "      <td>27.61</td>\n",
       "      <td>198.70</td>\n",
       "      <td>...</td>\n",
       "      <td>1</td>\n",
       "      <td>Gillette Stadium</td>\n",
       "      <td>Foxborough, MA</td>\n",
       "      <td>Outdoor</td>\n",
       "      <td>Field Turf</td>\n",
       "      <td>Clear and warm</td>\n",
       "      <td>63.0</td>\n",
       "      <td>77.0</td>\n",
       "      <td>8</td>\n",
       "      <td>SW</td>\n",
       "    </tr>\n",
       "    <tr>\n",
       "      <th>2</th>\n",
       "      <td>2017090700</td>\n",
       "      <td>20170907000118</td>\n",
       "      <td>away</td>\n",
       "      <td>74.00</td>\n",
       "      <td>33.20</td>\n",
       "      <td>1.22</td>\n",
       "      <td>0.59</td>\n",
       "      <td>0.31</td>\n",
       "      <td>3.01</td>\n",
       "      <td>202.73</td>\n",
       "      <td>...</td>\n",
       "      <td>1</td>\n",
       "      <td>Gillette Stadium</td>\n",
       "      <td>Foxborough, MA</td>\n",
       "      <td>Outdoor</td>\n",
       "      <td>Field Turf</td>\n",
       "      <td>Clear and warm</td>\n",
       "      <td>63.0</td>\n",
       "      <td>77.0</td>\n",
       "      <td>8</td>\n",
       "      <td>SW</td>\n",
       "    </tr>\n",
       "    <tr>\n",
       "      <th>3</th>\n",
       "      <td>2017090700</td>\n",
       "      <td>20170907000118</td>\n",
       "      <td>away</td>\n",
       "      <td>71.46</td>\n",
       "      <td>27.70</td>\n",
       "      <td>0.42</td>\n",
       "      <td>0.54</td>\n",
       "      <td>0.02</td>\n",
       "      <td>359.77</td>\n",
       "      <td>105.64</td>\n",
       "      <td>...</td>\n",
       "      <td>1</td>\n",
       "      <td>Gillette Stadium</td>\n",
       "      <td>Foxborough, MA</td>\n",
       "      <td>Outdoor</td>\n",
       "      <td>Field Turf</td>\n",
       "      <td>Clear and warm</td>\n",
       "      <td>63.0</td>\n",
       "      <td>77.0</td>\n",
       "      <td>8</td>\n",
       "      <td>SW</td>\n",
       "    </tr>\n",
       "    <tr>\n",
       "      <th>4</th>\n",
       "      <td>2017090700</td>\n",
       "      <td>20170907000118</td>\n",
       "      <td>away</td>\n",
       "      <td>69.32</td>\n",
       "      <td>35.42</td>\n",
       "      <td>1.82</td>\n",
       "      <td>2.43</td>\n",
       "      <td>0.16</td>\n",
       "      <td>12.63</td>\n",
       "      <td>164.31</td>\n",
       "      <td>...</td>\n",
       "      <td>1</td>\n",
       "      <td>Gillette Stadium</td>\n",
       "      <td>Foxborough, MA</td>\n",
       "      <td>Outdoor</td>\n",
       "      <td>Field Turf</td>\n",
       "      <td>Clear and warm</td>\n",
       "      <td>63.0</td>\n",
       "      <td>77.0</td>\n",
       "      <td>8</td>\n",
       "      <td>SW</td>\n",
       "    </tr>\n",
       "  </tbody>\n",
       "</table>\n",
       "<p>5 rows × 49 columns</p>\n",
       "</div>"
      ],
      "text/plain": [
       "       GameId          PlayId  Team      X      Y     S     A   Dis  \\\n",
       "0  2017090700  20170907000118  away  73.91  34.84  1.69  1.13  0.40   \n",
       "1  2017090700  20170907000118  away  74.67  32.64  0.42  1.35  0.01   \n",
       "2  2017090700  20170907000118  away  74.00  33.20  1.22  0.59  0.31   \n",
       "3  2017090700  20170907000118  away  71.46  27.70  0.42  0.54  0.02   \n",
       "4  2017090700  20170907000118  away  69.32  35.42  1.82  2.43  0.16   \n",
       "\n",
       "   Orientation     Dir  ...  Week           Stadium        Location  \\\n",
       "0        81.99  177.18  ...     1  Gillette Stadium  Foxborough, MA   \n",
       "1        27.61  198.70  ...     1  Gillette Stadium  Foxborough, MA   \n",
       "2         3.01  202.73  ...     1  Gillette Stadium  Foxborough, MA   \n",
       "3       359.77  105.64  ...     1  Gillette Stadium  Foxborough, MA   \n",
       "4        12.63  164.31  ...     1  Gillette Stadium  Foxborough, MA   \n",
       "\n",
       "   StadiumType        Turf     GameWeather Temperature Humidity  WindSpeed  \\\n",
       "0      Outdoor  Field Turf  Clear and warm        63.0     77.0          8   \n",
       "1      Outdoor  Field Turf  Clear and warm        63.0     77.0          8   \n",
       "2      Outdoor  Field Turf  Clear and warm        63.0     77.0          8   \n",
       "3      Outdoor  Field Turf  Clear and warm        63.0     77.0          8   \n",
       "4      Outdoor  Field Turf  Clear and warm        63.0     77.0          8   \n",
       "\n",
       "   WindDirection  \n",
       "0             SW  \n",
       "1             SW  \n",
       "2             SW  \n",
       "3             SW  \n",
       "4             SW  \n",
       "\n",
       "[5 rows x 49 columns]"
      ]
     },
     "execution_count": 62,
     "metadata": {},
     "output_type": "execute_result"
    }
   ],
   "source": [
    "# Visualizando os primeiros registros do dataset\n",
    "train.head()"
   ]
  },
  {
   "cell_type": "code",
   "execution_count": 63,
   "metadata": {
    "_uuid": "ae7e4ecb648eb745fe29ced1f41e63c682fefeef"
   },
   "outputs": [
    {
     "data": {
      "text/plain": [
       "GameId                      int64\n",
       "PlayId                      int64\n",
       "Team                       object\n",
       "X                         float64\n",
       "Y                         float64\n",
       "S                         float64\n",
       "A                         float64\n",
       "Dis                       float64\n",
       "Orientation               float64\n",
       "Dir                       float64\n",
       "NflId                       int64\n",
       "DisplayName                object\n",
       "JerseyNumber                int64\n",
       "Season                      int64\n",
       "YardLine                    int64\n",
       "Quarter                     int64\n",
       "GameClock                  object\n",
       "PossessionTeam             object\n",
       "Down                        int64\n",
       "Distance                    int64\n",
       "FieldPosition              object\n",
       "HomeScoreBeforePlay         int64\n",
       "VisitorScoreBeforePlay      int64\n",
       "NflIdRusher                 int64\n",
       "OffenseFormation           object\n",
       "OffensePersonnel           object\n",
       "DefendersInTheBox         float64\n",
       "DefensePersonnel           object\n",
       "PlayDirection              object\n",
       "TimeHandoff                object\n",
       "TimeSnap                   object\n",
       "Yards                       int64\n",
       "PlayerHeight               object\n",
       "PlayerWeight                int64\n",
       "PlayerBirthDate            object\n",
       "PlayerCollegeName          object\n",
       "Position                   object\n",
       "HomeTeamAbbr               object\n",
       "VisitorTeamAbbr            object\n",
       "Week                        int64\n",
       "Stadium                    object\n",
       "Location                   object\n",
       "StadiumType                object\n",
       "Turf                       object\n",
       "GameWeather                object\n",
       "Temperature               float64\n",
       "Humidity                  float64\n",
       "WindSpeed                  object\n",
       "WindDirection              object\n",
       "dtype: object"
      ]
     },
     "execution_count": 63,
     "metadata": {},
     "output_type": "execute_result"
    }
   ],
   "source": [
    "# Visualizando os tipos das features\n",
    "train.dtypes"
   ]
  },
  {
   "cell_type": "code",
   "execution_count": 64,
   "metadata": {
    "_uuid": "a82a4fcfd7b086e5dfd2dabf56bf631c176a6eb1"
   },
   "outputs": [
    {
     "data": {
      "text/html": [
       "<div>\n",
       "<style scoped>\n",
       "    .dataframe tbody tr th:only-of-type {\n",
       "        vertical-align: middle;\n",
       "    }\n",
       "\n",
       "    .dataframe tbody tr th {\n",
       "        vertical-align: top;\n",
       "    }\n",
       "\n",
       "    .dataframe thead th {\n",
       "        text-align: right;\n",
       "    }\n",
       "</style>\n",
       "<table border=\"1\" class=\"dataframe\">\n",
       "  <thead>\n",
       "    <tr style=\"text-align: right;\">\n",
       "      <th></th>\n",
       "      <th>count</th>\n",
       "      <th>mean</th>\n",
       "      <th>std</th>\n",
       "      <th>min</th>\n",
       "      <th>25%</th>\n",
       "      <th>50%</th>\n",
       "      <th>75%</th>\n",
       "      <th>max</th>\n",
       "    </tr>\n",
       "  </thead>\n",
       "  <tbody>\n",
       "    <tr>\n",
       "      <th>GameId</th>\n",
       "      <td>509762.0</td>\n",
       "      <td>2.017594e+09</td>\n",
       "      <td>4.997098e+05</td>\n",
       "      <td>2.017091e+09</td>\n",
       "      <td>2.017111e+09</td>\n",
       "      <td>2.017123e+09</td>\n",
       "      <td>2.018110e+09</td>\n",
       "      <td>2.018123e+09</td>\n",
       "    </tr>\n",
       "    <tr>\n",
       "      <th>PlayId</th>\n",
       "      <td>509762.0</td>\n",
       "      <td>2.017594e+13</td>\n",
       "      <td>4.997098e+09</td>\n",
       "      <td>2.017091e+13</td>\n",
       "      <td>2.017111e+13</td>\n",
       "      <td>2.017123e+13</td>\n",
       "      <td>2.018110e+13</td>\n",
       "      <td>2.018123e+13</td>\n",
       "    </tr>\n",
       "    <tr>\n",
       "      <th>X</th>\n",
       "      <td>509762.0</td>\n",
       "      <td>6.004030e+01</td>\n",
       "      <td>2.543526e+01</td>\n",
       "      <td>6.600000e-01</td>\n",
       "      <td>3.909000e+01</td>\n",
       "      <td>6.029000e+01</td>\n",
       "      <td>8.097000e+01</td>\n",
       "      <td>1.168400e+02</td>\n",
       "    </tr>\n",
       "    <tr>\n",
       "      <th>Y</th>\n",
       "      <td>509762.0</td>\n",
       "      <td>2.678354e+01</td>\n",
       "      <td>7.238206e+00</td>\n",
       "      <td>1.850000e+00</td>\n",
       "      <td>2.273000e+01</td>\n",
       "      <td>2.679000e+01</td>\n",
       "      <td>3.086000e+01</td>\n",
       "      <td>5.645000e+01</td>\n",
       "    </tr>\n",
       "    <tr>\n",
       "      <th>S</th>\n",
       "      <td>509762.0</td>\n",
       "      <td>2.591912e+00</td>\n",
       "      <td>1.383601e+00</td>\n",
       "      <td>0.000000e+00</td>\n",
       "      <td>1.500000e+00</td>\n",
       "      <td>2.470000e+00</td>\n",
       "      <td>3.560000e+00</td>\n",
       "      <td>9.410000e+00</td>\n",
       "    </tr>\n",
       "    <tr>\n",
       "      <th>A</th>\n",
       "      <td>509762.0</td>\n",
       "      <td>1.683176e+00</td>\n",
       "      <td>9.764122e-01</td>\n",
       "      <td>0.000000e+00</td>\n",
       "      <td>9.400000e-01</td>\n",
       "      <td>1.540000e+00</td>\n",
       "      <td>2.290000e+00</td>\n",
       "      <td>1.471000e+01</td>\n",
       "    </tr>\n",
       "    <tr>\n",
       "      <th>Dis</th>\n",
       "      <td>509762.0</td>\n",
       "      <td>2.794058e-01</td>\n",
       "      <td>1.454822e-01</td>\n",
       "      <td>0.000000e+00</td>\n",
       "      <td>1.700000e-01</td>\n",
       "      <td>2.700000e-01</td>\n",
       "      <td>3.900000e-01</td>\n",
       "      <td>1.390000e+00</td>\n",
       "    </tr>\n",
       "    <tr>\n",
       "      <th>Orientation</th>\n",
       "      <td>509744.0</td>\n",
       "      <td>1.802478e+02</td>\n",
       "      <td>1.042983e+02</td>\n",
       "      <td>0.000000e+00</td>\n",
       "      <td>9.063000e+01</td>\n",
       "      <td>1.797000e+02</td>\n",
       "      <td>2.704000e+02</td>\n",
       "      <td>3.600000e+02</td>\n",
       "    </tr>\n",
       "    <tr>\n",
       "      <th>Dir</th>\n",
       "      <td>509748.0</td>\n",
       "      <td>1.799339e+02</td>\n",
       "      <td>1.063195e+02</td>\n",
       "      <td>0.000000e+00</td>\n",
       "      <td>8.983000e+01</td>\n",
       "      <td>1.800900e+02</td>\n",
       "      <td>2.701900e+02</td>\n",
       "      <td>3.600000e+02</td>\n",
       "    </tr>\n",
       "    <tr>\n",
       "      <th>NflId</th>\n",
       "      <td>509762.0</td>\n",
       "      <td>2.344703e+06</td>\n",
       "      <td>6.418871e+05</td>\n",
       "      <td>2.220000e+02</td>\n",
       "      <td>2.532865e+06</td>\n",
       "      <td>2.543765e+06</td>\n",
       "      <td>2.555343e+06</td>\n",
       "      <td>2.561671e+06</td>\n",
       "    </tr>\n",
       "    <tr>\n",
       "      <th>JerseyNumber</th>\n",
       "      <td>509762.0</td>\n",
       "      <td>5.418798e+01</td>\n",
       "      <td>2.837936e+01</td>\n",
       "      <td>1.000000e+00</td>\n",
       "      <td>2.600000e+01</td>\n",
       "      <td>5.600000e+01</td>\n",
       "      <td>7.800000e+01</td>\n",
       "      <td>9.900000e+01</td>\n",
       "    </tr>\n",
       "    <tr>\n",
       "      <th>Season</th>\n",
       "      <td>509762.0</td>\n",
       "      <td>2.017486e+03</td>\n",
       "      <td>4.998162e-01</td>\n",
       "      <td>2.017000e+03</td>\n",
       "      <td>2.017000e+03</td>\n",
       "      <td>2.017000e+03</td>\n",
       "      <td>2.018000e+03</td>\n",
       "      <td>2.018000e+03</td>\n",
       "    </tr>\n",
       "    <tr>\n",
       "      <th>YardLine</th>\n",
       "      <td>509762.0</td>\n",
       "      <td>2.836874e+01</td>\n",
       "      <td>1.301092e+01</td>\n",
       "      <td>1.000000e+00</td>\n",
       "      <td>2.000000e+01</td>\n",
       "      <td>2.900000e+01</td>\n",
       "      <td>3.900000e+01</td>\n",
       "      <td>5.000000e+01</td>\n",
       "    </tr>\n",
       "    <tr>\n",
       "      <th>Quarter</th>\n",
       "      <td>509762.0</td>\n",
       "      <td>2.504639e+00</td>\n",
       "      <td>1.144105e+00</td>\n",
       "      <td>1.000000e+00</td>\n",
       "      <td>1.000000e+00</td>\n",
       "      <td>3.000000e+00</td>\n",
       "      <td>4.000000e+00</td>\n",
       "      <td>5.000000e+00</td>\n",
       "    </tr>\n",
       "    <tr>\n",
       "      <th>Down</th>\n",
       "      <td>509762.0</td>\n",
       "      <td>1.520651e+00</td>\n",
       "      <td>6.749873e-01</td>\n",
       "      <td>1.000000e+00</td>\n",
       "      <td>1.000000e+00</td>\n",
       "      <td>1.000000e+00</td>\n",
       "      <td>2.000000e+00</td>\n",
       "      <td>4.000000e+00</td>\n",
       "    </tr>\n",
       "    <tr>\n",
       "      <th>Distance</th>\n",
       "      <td>509762.0</td>\n",
       "      <td>8.329248e+00</td>\n",
       "      <td>3.795208e+00</td>\n",
       "      <td>1.000000e+00</td>\n",
       "      <td>6.000000e+00</td>\n",
       "      <td>1.000000e+01</td>\n",
       "      <td>1.000000e+01</td>\n",
       "      <td>4.000000e+01</td>\n",
       "    </tr>\n",
       "    <tr>\n",
       "      <th>HomeScoreBeforePlay</th>\n",
       "      <td>509762.0</td>\n",
       "      <td>1.114807e+01</td>\n",
       "      <td>1.027710e+01</td>\n",
       "      <td>0.000000e+00</td>\n",
       "      <td>3.000000e+00</td>\n",
       "      <td>9.000000e+00</td>\n",
       "      <td>1.700000e+01</td>\n",
       "      <td>5.700000e+01</td>\n",
       "    </tr>\n",
       "    <tr>\n",
       "      <th>VisitorScoreBeforePlay</th>\n",
       "      <td>509762.0</td>\n",
       "      <td>9.501057e+00</td>\n",
       "      <td>9.366413e+00</td>\n",
       "      <td>0.000000e+00</td>\n",
       "      <td>0.000000e+00</td>\n",
       "      <td>7.000000e+00</td>\n",
       "      <td>1.400000e+01</td>\n",
       "      <td>5.100000e+01</td>\n",
       "    </tr>\n",
       "    <tr>\n",
       "      <th>NflIdRusher</th>\n",
       "      <td>509762.0</td>\n",
       "      <td>2.419204e+06</td>\n",
       "      <td>5.357783e+05</td>\n",
       "      <td>2.340000e+02</td>\n",
       "      <td>2.540011e+06</td>\n",
       "      <td>2.552582e+06</td>\n",
       "      <td>2.557976e+06</td>\n",
       "      <td>2.561468e+06</td>\n",
       "    </tr>\n",
       "    <tr>\n",
       "      <th>DefendersInTheBox</th>\n",
       "      <td>509696.0</td>\n",
       "      <td>6.943025e+00</td>\n",
       "      <td>9.911303e-01</td>\n",
       "      <td>1.000000e+00</td>\n",
       "      <td>6.000000e+00</td>\n",
       "      <td>7.000000e+00</td>\n",
       "      <td>8.000000e+00</td>\n",
       "      <td>1.100000e+01</td>\n",
       "    </tr>\n",
       "    <tr>\n",
       "      <th>Yards</th>\n",
       "      <td>509762.0</td>\n",
       "      <td>4.212334e+00</td>\n",
       "      <td>6.436167e+00</td>\n",
       "      <td>-1.400000e+01</td>\n",
       "      <td>1.000000e+00</td>\n",
       "      <td>3.000000e+00</td>\n",
       "      <td>6.000000e+00</td>\n",
       "      <td>9.900000e+01</td>\n",
       "    </tr>\n",
       "    <tr>\n",
       "      <th>PlayerWeight</th>\n",
       "      <td>509762.0</td>\n",
       "      <td>2.535544e+02</td>\n",
       "      <td>4.836739e+01</td>\n",
       "      <td>1.530000e+02</td>\n",
       "      <td>2.100000e+02</td>\n",
       "      <td>2.450000e+02</td>\n",
       "      <td>3.050000e+02</td>\n",
       "      <td>3.800000e+02</td>\n",
       "    </tr>\n",
       "    <tr>\n",
       "      <th>Week</th>\n",
       "      <td>509762.0</td>\n",
       "      <td>9.096370e+00</td>\n",
       "      <td>5.000984e+00</td>\n",
       "      <td>1.000000e+00</td>\n",
       "      <td>5.000000e+00</td>\n",
       "      <td>9.000000e+00</td>\n",
       "      <td>1.400000e+01</td>\n",
       "      <td>1.700000e+01</td>\n",
       "    </tr>\n",
       "    <tr>\n",
       "      <th>Temperature</th>\n",
       "      <td>461230.0</td>\n",
       "      <td>6.043644e+01</td>\n",
       "      <td>1.757029e+01</td>\n",
       "      <td>9.000000e+00</td>\n",
       "      <td>4.800000e+01</td>\n",
       "      <td>6.200000e+01</td>\n",
       "      <td>7.300000e+01</td>\n",
       "      <td>9.700000e+01</td>\n",
       "    </tr>\n",
       "    <tr>\n",
       "      <th>Humidity</th>\n",
       "      <td>503602.0</td>\n",
       "      <td>5.564606e+01</td>\n",
       "      <td>2.543098e+01</td>\n",
       "      <td>0.000000e+00</td>\n",
       "      <td>4.300000e+01</td>\n",
       "      <td>5.900000e+01</td>\n",
       "      <td>7.100000e+01</td>\n",
       "      <td>1.000000e+02</td>\n",
       "    </tr>\n",
       "  </tbody>\n",
       "</table>\n",
       "</div>"
      ],
      "text/plain": [
       "                           count          mean           std           min  \\\n",
       "GameId                  509762.0  2.017594e+09  4.997098e+05  2.017091e+09   \n",
       "PlayId                  509762.0  2.017594e+13  4.997098e+09  2.017091e+13   \n",
       "X                       509762.0  6.004030e+01  2.543526e+01  6.600000e-01   \n",
       "Y                       509762.0  2.678354e+01  7.238206e+00  1.850000e+00   \n",
       "S                       509762.0  2.591912e+00  1.383601e+00  0.000000e+00   \n",
       "A                       509762.0  1.683176e+00  9.764122e-01  0.000000e+00   \n",
       "Dis                     509762.0  2.794058e-01  1.454822e-01  0.000000e+00   \n",
       "Orientation             509744.0  1.802478e+02  1.042983e+02  0.000000e+00   \n",
       "Dir                     509748.0  1.799339e+02  1.063195e+02  0.000000e+00   \n",
       "NflId                   509762.0  2.344703e+06  6.418871e+05  2.220000e+02   \n",
       "JerseyNumber            509762.0  5.418798e+01  2.837936e+01  1.000000e+00   \n",
       "Season                  509762.0  2.017486e+03  4.998162e-01  2.017000e+03   \n",
       "YardLine                509762.0  2.836874e+01  1.301092e+01  1.000000e+00   \n",
       "Quarter                 509762.0  2.504639e+00  1.144105e+00  1.000000e+00   \n",
       "Down                    509762.0  1.520651e+00  6.749873e-01  1.000000e+00   \n",
       "Distance                509762.0  8.329248e+00  3.795208e+00  1.000000e+00   \n",
       "HomeScoreBeforePlay     509762.0  1.114807e+01  1.027710e+01  0.000000e+00   \n",
       "VisitorScoreBeforePlay  509762.0  9.501057e+00  9.366413e+00  0.000000e+00   \n",
       "NflIdRusher             509762.0  2.419204e+06  5.357783e+05  2.340000e+02   \n",
       "DefendersInTheBox       509696.0  6.943025e+00  9.911303e-01  1.000000e+00   \n",
       "Yards                   509762.0  4.212334e+00  6.436167e+00 -1.400000e+01   \n",
       "PlayerWeight            509762.0  2.535544e+02  4.836739e+01  1.530000e+02   \n",
       "Week                    509762.0  9.096370e+00  5.000984e+00  1.000000e+00   \n",
       "Temperature             461230.0  6.043644e+01  1.757029e+01  9.000000e+00   \n",
       "Humidity                503602.0  5.564606e+01  2.543098e+01  0.000000e+00   \n",
       "\n",
       "                                 25%           50%           75%           max  \n",
       "GameId                  2.017111e+09  2.017123e+09  2.018110e+09  2.018123e+09  \n",
       "PlayId                  2.017111e+13  2.017123e+13  2.018110e+13  2.018123e+13  \n",
       "X                       3.909000e+01  6.029000e+01  8.097000e+01  1.168400e+02  \n",
       "Y                       2.273000e+01  2.679000e+01  3.086000e+01  5.645000e+01  \n",
       "S                       1.500000e+00  2.470000e+00  3.560000e+00  9.410000e+00  \n",
       "A                       9.400000e-01  1.540000e+00  2.290000e+00  1.471000e+01  \n",
       "Dis                     1.700000e-01  2.700000e-01  3.900000e-01  1.390000e+00  \n",
       "Orientation             9.063000e+01  1.797000e+02  2.704000e+02  3.600000e+02  \n",
       "Dir                     8.983000e+01  1.800900e+02  2.701900e+02  3.600000e+02  \n",
       "NflId                   2.532865e+06  2.543765e+06  2.555343e+06  2.561671e+06  \n",
       "JerseyNumber            2.600000e+01  5.600000e+01  7.800000e+01  9.900000e+01  \n",
       "Season                  2.017000e+03  2.017000e+03  2.018000e+03  2.018000e+03  \n",
       "YardLine                2.000000e+01  2.900000e+01  3.900000e+01  5.000000e+01  \n",
       "Quarter                 1.000000e+00  3.000000e+00  4.000000e+00  5.000000e+00  \n",
       "Down                    1.000000e+00  1.000000e+00  2.000000e+00  4.000000e+00  \n",
       "Distance                6.000000e+00  1.000000e+01  1.000000e+01  4.000000e+01  \n",
       "HomeScoreBeforePlay     3.000000e+00  9.000000e+00  1.700000e+01  5.700000e+01  \n",
       "VisitorScoreBeforePlay  0.000000e+00  7.000000e+00  1.400000e+01  5.100000e+01  \n",
       "NflIdRusher             2.540011e+06  2.552582e+06  2.557976e+06  2.561468e+06  \n",
       "DefendersInTheBox       6.000000e+00  7.000000e+00  8.000000e+00  1.100000e+01  \n",
       "Yards                   1.000000e+00  3.000000e+00  6.000000e+00  9.900000e+01  \n",
       "PlayerWeight            2.100000e+02  2.450000e+02  3.050000e+02  3.800000e+02  \n",
       "Week                    5.000000e+00  9.000000e+00  1.400000e+01  1.700000e+01  \n",
       "Temperature             4.800000e+01  6.200000e+01  7.300000e+01  9.700000e+01  \n",
       "Humidity                4.300000e+01  5.900000e+01  7.100000e+01  1.000000e+02  "
      ]
     },
     "execution_count": 64,
     "metadata": {},
     "output_type": "execute_result"
    }
   ],
   "source": [
    "# Visualizando dados estatisticos das variaveis numericas\n",
    "train.describe().T"
   ]
  },
  {
   "cell_type": "code",
   "execution_count": 65,
   "metadata": {
    "_kg_hide-input": true,
    "_uuid": "bfc230e8283491c2cfe124b6c5c2a08f7560a14a"
   },
   "outputs": [],
   "source": [
    "def percent_missing(df):\n",
    "    data = pd.DataFrame(df)\n",
    "    df_cols = list(pd.DataFrame(data))\n",
    "    dict_x = {}\n",
    "    for i in range(0, len(df_cols)):\n",
    "        dict_x.update({df_cols[i]: round(data[df_cols[i]].isnull().mean()*100,2)})\n",
    "    \n",
    "    return dict_x"
   ]
  },
  {
   "cell_type": "code",
   "execution_count": 66,
   "metadata": {
    "_kg_hide-input": true,
    "_uuid": "a4bdd12a7223d80e2d4c6c9be217935a5b80d526"
   },
   "outputs": [
    {
     "name": "stdout",
     "output_type": "stream",
     "text": [
      "Percent of missing data\n"
     ]
    },
    {
     "data": {
      "text/plain": [
       "[('WindDirection', 15.74),\n",
       " ('WindSpeed', 13.23),\n",
       " ('Temperature', 9.52),\n",
       " ('GameWeather', 8.56),\n",
       " ('StadiumType', 6.46),\n",
       " ('FieldPosition', 1.26),\n",
       " ('Humidity', 1.21),\n",
       " ('OffenseFormation', 0.02),\n",
       " ('DefendersInTheBox', 0.01),\n",
       " ('GameId', 0.0),\n",
       " ('PlayId', 0.0),\n",
       " ('Team', 0.0),\n",
       " ('X', 0.0),\n",
       " ('Y', 0.0),\n",
       " ('S', 0.0),\n",
       " ('A', 0.0),\n",
       " ('Dis', 0.0),\n",
       " ('Orientation', 0.0),\n",
       " ('Dir', 0.0),\n",
       " ('NflId', 0.0),\n",
       " ('DisplayName', 0.0),\n",
       " ('JerseyNumber', 0.0),\n",
       " ('Season', 0.0),\n",
       " ('YardLine', 0.0),\n",
       " ('Quarter', 0.0),\n",
       " ('GameClock', 0.0),\n",
       " ('PossessionTeam', 0.0),\n",
       " ('Down', 0.0),\n",
       " ('Distance', 0.0),\n",
       " ('HomeScoreBeforePlay', 0.0),\n",
       " ('VisitorScoreBeforePlay', 0.0),\n",
       " ('NflIdRusher', 0.0),\n",
       " ('OffensePersonnel', 0.0),\n",
       " ('DefensePersonnel', 0.0),\n",
       " ('PlayDirection', 0.0),\n",
       " ('TimeHandoff', 0.0),\n",
       " ('TimeSnap', 0.0),\n",
       " ('Yards', 0.0),\n",
       " ('PlayerHeight', 0.0),\n",
       " ('PlayerWeight', 0.0),\n",
       " ('PlayerBirthDate', 0.0),\n",
       " ('PlayerCollegeName', 0.0),\n",
       " ('Position', 0.0),\n",
       " ('HomeTeamAbbr', 0.0),\n",
       " ('VisitorTeamAbbr', 0.0),\n",
       " ('Week', 0.0),\n",
       " ('Stadium', 0.0),\n",
       " ('Location', 0.0),\n",
       " ('Turf', 0.0)]"
      ]
     },
     "execution_count": 66,
     "metadata": {},
     "output_type": "execute_result"
    }
   ],
   "source": [
    "# Verificando as colunas com dados missing do dataset de treino\n",
    "missing = percent_missing(train)\n",
    "df_miss = sorted(missing.items(), key=lambda x: x[1], reverse=True)\n",
    "print('Percent of missing data')\n",
    "df_miss[0:50]"
   ]
  },
  {
   "cell_type": "code",
   "execution_count": 67,
   "metadata": {},
   "outputs": [
    {
     "data": {
      "image/png": "[encoded data removed]",
      "text/plain": [
       "<Figure size 576x504 with 1 Axes>"
      ]
     },
     "metadata": {},
     "output_type": "display_data"
    }
   ],
   "source": [
    "# Setup do plot\n",
    "sns.set_style(\"white\")\n",
    "f, ax = plt.subplots(figsize=(8, 7))\n",
    "sns.set_color_codes(palette='deep')\n",
    "\n",
    "# Identificando os valores missing\n",
    "missing = round(train.isnull().mean()*100,2)\n",
    "missing = missing[missing > 0]\n",
    "missing.sort_values(inplace=True)\n",
    "missing.plot.bar(color=\"b\")\n",
    "\n",
    "# Visual presentation\n",
    "ax.xaxis.grid(False)\n",
    "ax.set(ylabel=\"Percent of missing values\")\n",
    "ax.set(xlabel=\"Features\")\n",
    "ax.set(title=\"Percent missing data by feature\")\n",
    "sns.despine(trim=True, left=True)"
   ]
  },
  {
   "cell_type": "markdown",
   "metadata": {},
   "source": [
    "## Analisando Correlacoes"
   ]
  },
  {
   "cell_type": "code",
   "execution_count": 68,
   "metadata": {},
   "outputs": [
    {
     "data": {
      "text/plain": [
       "<matplotlib.axes._subplots.AxesSubplot at 0x1a30baf898>"
      ]
     },
     "execution_count": 68,
     "metadata": {},
     "output_type": "execute_result"
    },
    {
     "data": {
      "image/png": "[encoded data removed]",
      "text/plain": [
       "<Figure size 1296x1296 with 2 Axes>"
      ]
     },
     "metadata": {},
     "output_type": "display_data"
    }
   ],
   "source": [
    "# Correlação de Pearson\n",
    "cor_mat = train.corr(method = 'pearson')\n",
    "\n",
    "# Visualizando o grafico de heatmap\n",
    "f, ax = plt.subplots(figsize=(18, 18))\n",
    "sns.heatmap(cor_mat,linewidths=.5,fmt= '.1f',ax=ax,square=True,cbar=True,annot=True)"
   ]
  },
  {
   "cell_type": "markdown",
   "metadata": {},
   "source": [
    "### Analisando a variavel target 'Yards'"
   ]
  },
  {
   "cell_type": "code",
   "execution_count": 69,
   "metadata": {},
   "outputs": [
    {
     "data": {
      "text/plain": [
       "count    509762.000000\n",
       "mean          4.212334\n",
       "std           6.436167\n",
       "min         -14.000000\n",
       "25%           1.000000\n",
       "50%           3.000000\n",
       "75%           6.000000\n",
       "max          99.000000\n",
       "Name: Yards, dtype: float64"
      ]
     },
     "execution_count": 69,
     "metadata": {},
     "output_type": "execute_result"
    }
   ],
   "source": [
    "# the yardage gained on the play (you are predicting this)\n",
    "train['Yards'].describe()"
   ]
  },
  {
   "cell_type": "code",
   "execution_count": 70,
   "metadata": {},
   "outputs": [
    {
     "data": {
      "image/png": "[encoded data removed]",
      "text/plain": [
       "<Figure size 864x576 with 1 Axes>"
      ]
     },
     "metadata": {},
     "output_type": "display_data"
    }
   ],
   "source": [
    "# Analisando a variavel target 'Yards'\n",
    "sns.set_style(\"white\")\n",
    "sns.set_color_codes(palette='deep')\n",
    "f, ax = plt.subplots(figsize=(12, 8))\n",
    "\n",
    "# Fit a normal distribution\n",
    "mu, std = norm.fit(train[\"Yards\"])\n",
    "\n",
    "# Verificando a distribuicao de frequencia da variavel Yards\n",
    "sns.distplot(train[\"Yards\"], color=\"b\", fit = stats.norm)\n",
    "ax.xaxis.grid(False)\n",
    "ax.set(ylabel=\"Frequency\")\n",
    "ax.set(xlabel=\"Yards\")\n",
    "ax.set(title=\"Yards distribution: mu = %.2f,  std = %.2f\" % (mu, std))\n",
    "sns.despine(trim=True, left=True)\n",
    "\n",
    "# Adicionando Skewness e Kurtosis\n",
    "ax.text(x=1.1, y=1, transform=ax.transAxes, s=\"Skewness: %f\" % train[\"Yards\"].skew(),\\\n",
    "        fontweight='demibold', fontsize=10, verticalalignment='top', horizontalalignment='right',\\\n",
    "        backgroundcolor='white', color='xkcd:poo brown')\n",
    "ax.text(x=1.1, y=0.95, transform=ax.transAxes, s=\"Kurtosis: %f\" % train[\"Yards\"].kurt(),\\\n",
    "        fontweight='demibold', fontsize=10, verticalalignment='top', horizontalalignment='right',\\\n",
    "        backgroundcolor='white', color='xkcd:dried blood')\n",
    "\n",
    "plt.show()"
   ]
  },
  {
   "cell_type": "markdown",
   "metadata": {},
   "source": [
    "### Analisando as variaveis gerais do JOGO"
   ]
  },
  {
   "cell_type": "code",
   "execution_count": 71,
   "metadata": {},
   "outputs": [
    {
     "data": {
      "text/plain": [
       "2017    261800\n",
       "2018    247962\n",
       "Name: Season, dtype: int64"
      ]
     },
     "execution_count": 71,
     "metadata": {},
     "output_type": "execute_result"
    }
   ],
   "source": [
    "# year of the season\n",
    "train['Season'].value_counts()"
   ]
  },
  {
   "cell_type": "code",
   "execution_count": 75,
   "metadata": {},
   "outputs": [
    {
     "data": {
      "image/png": "[encoded data removed]",
      "text/plain": [
       "<Figure size 490.375x432 with 1 Axes>"
      ]
     },
     "metadata": {},
     "output_type": "display_data"
    }
   ],
   "source": [
    "# Verificando a relacao da variavel YARDS com a Temporada\n",
    "# Aparentemente 2017 e 2018 tem uma mesma distribuicao de Yards\n",
    "# Uma pequena variacao em 2018 nos picos\n",
    "sns.FacetGrid(train, hue=\"Season\", height=6) \\\n",
    "   .map(sns.kdeplot, \"Yards\") \\\n",
    "   .add_legend()\n",
    "plt.title('Yards por Temporada')"
   ]
  },
  {
   "cell_type": "code",
   "execution_count": 152,
   "metadata": {},
   "outputs": [],
   "source": [
    "# Realizando uma transformacao logaritma na variavel Yards\n",
    "train[\"Yards_log\"] = np.log1p(train[\"Yards\"])"
   ]
  },
  {
   "cell_type": "code",
   "execution_count": 153,
   "metadata": {},
   "outputs": [
    {
     "data": {
      "text/plain": [
       "Text(0.5, 1, 'Yards por Temporada')"
      ]
     },
     "execution_count": 153,
     "metadata": {},
     "output_type": "execute_result"
    },
    {
     "data": {
      "image/png": "[encoded data removed]",
      "text/plain": [
       "<Figure size 490.375x432 with 1 Axes>"
      ]
     },
     "metadata": {
      "needs_background": "light"
     },
     "output_type": "display_data"
    }
   ],
   "source": [
    "# Verificando a relacao da variavel YARDS (na base logaritima) com a Temporada\n",
    "# Desta forma conseguimos visualizar uma distribuicao bem parecida de Yards entre as temporadas\n",
    "sns.FacetGrid(train, hue=\"Season\", height=6) \\\n",
    "   .map(sns.kdeplot, \"Yards_log\") \\\n",
    "   .add_legend()\n",
    "plt.title('Yards por Temporada')"
   ]
  },
  {
   "cell_type": "code",
   "execution_count": 144,
   "metadata": {},
   "outputs": [
    {
     "name": "stdout",
     "output_type": "stream",
     "text": [
      "            GameId          PlayId\n",
      "Season                            \n",
      "2017    2017090700  20170907000118\n",
      "            GameId          PlayId\n",
      "Season                            \n",
      "2018    2018090600  20180906000104\n"
     ]
    }
   ],
   "source": [
    "# Season tem uma correlação de 1.0 com GameId e PlayId. Exemplo abaixo com 2017 e 2018, mostra que:\n",
    "# GameId e PlayId contem o ano e mais algumas informacoes\n",
    "# Parece ser o mes e o dia e mais um identificador\n",
    "tmp = train.set_index('Season')\n",
    "print(tmp.loc[[2017], ['GameId','PlayId']].head(1))\n",
    "print(tmp.loc[[2018], ['GameId','PlayId']].head(1))"
   ]
  },
  {
   "cell_type": "code",
   "execution_count": null,
   "metadata": {},
   "outputs": [],
   "source": []
  },
  {
   "cell_type": "code",
   "execution_count": null,
   "metadata": {},
   "outputs": [],
   "source": []
  },
  {
   "cell_type": "code",
   "execution_count": 78,
   "metadata": {
    "scrolled": true
   },
   "outputs": [
    {
     "data": {
      "text/plain": [
       "Outdoor                   267696\n",
       "Outdoors                   67474\n",
       "Indoors                    40854\n",
       "Dome                       17336\n",
       "Indoor                     16148\n",
       "Retractable Roof           15884\n",
       "Open                        9614\n",
       "Retr. Roof-Closed           7172\n",
       "Retr. Roof - Closed         6446\n",
       "Domed, closed               5918\n",
       "Domed, open                 2684\n",
       "Closed Dome                 2134\n",
       "Dome, closed                1826\n",
       "Domed                       1826\n",
       "Oudoor                      1188\n",
       "Indoor, Roof Closed         1056\n",
       "Retr. Roof Closed           1056\n",
       "Retr. Roof-Open              990\n",
       "Outddors                     968\n",
       "Bowl                         968\n",
       "Heinz Field                  902\n",
       "Outdoor Retr Roof-Open       880\n",
       "Retr. Roof - Open            880\n",
       "Outdor                       858\n",
       "Indoor, Open Roof            858\n",
       "Ourdoor                      858\n",
       "Outside                      814\n",
       "Cloudy                       770\n",
       "Domed, Open                  770\n",
       "Name: StadiumType, dtype: int64"
      ]
     },
     "execution_count": 78,
     "metadata": {},
     "output_type": "execute_result"
    }
   ],
   "source": [
    "# description of the stadium environment\n",
    "train['StadiumType'].value_counts()"
   ]
  },
  {
   "cell_type": "code",
   "execution_count": 79,
   "metadata": {
    "scrolled": true
   },
   "outputs": [
    {
     "data": {
      "text/plain": [
       "MetLife Stadium                        21054\n",
       "Levis Stadium                          17402\n",
       "Gillette Stadium                       17248\n",
       "New Era Field                          17204\n",
       "Lucas Oil Stadium                      16544\n",
       "U.S. Bank Stadium                      16170\n",
       "AT&T Stadium                           15950\n",
       "Nissan Stadium                         15862\n",
       "Mercedes-Benz Superdome                15554\n",
       "Paul Brown Stadium                     15444\n",
       "FedExField                             15356\n",
       "Arrowhead Stadium                      15334\n",
       "Soldier Field                          15334\n",
       "Ford Field                             15246\n",
       "Heinz Field                            14850\n",
       "Raymond James Stadium                  14696\n",
       "StubHub Center                         14630\n",
       "CenturyLink Field                      14586\n",
       "Hard Rock Stadium                      14564\n",
       "Lincoln Financial Field                14476\n",
       "Mercedes-Benz Stadium                  14388\n",
       "Lambeau Field                          14300\n",
       "Bank of America Stadium                14036\n",
       "Oakland-Alameda County Coliseum        13706\n",
       "Los Angeles Memorial Coliseum          13662\n",
       "NRG Stadium                            11968\n",
       "MetLife                                11682\n",
       "M&T Bank Stadium                       11000\n",
       "State Farm Stadium                      8822\n",
       "Sports Authority Field at Mile High     8536\n",
       "FirstEnergy Stadium                     7722\n",
       "University of Phoenix Stadium           7612\n",
       "Broncos Stadium at Mile High            6952\n",
       "TIAA Bank Field                         6446\n",
       "M&T Stadium                             5016\n",
       "Wembley Stadium                         4576\n",
       "FirstEnergy                             4246\n",
       "EverBank Field                          4246\n",
       "NRG                                     3916\n",
       "Everbank Field                          3432\n",
       "First Energy Stadium                    1694\n",
       "CenturyField                            1254\n",
       "FirstEnergyStadium                      1166\n",
       "Paul Brown Stdium                       1144\n",
       "CenturyLink                             1122\n",
       "Twickenham Stadium                      1100\n",
       "M & T Bank Stadium                      1078\n",
       "Los Angeles Memorial Coliesum           1012\n",
       "Lambeau field                           1012\n",
       "Broncos Stadium At Mile High             990\n",
       "Twickenham                               968\n",
       "Estadio Azteca                           902\n",
       "Mercedes-Benz Dome                       858\n",
       "Oakland Alameda-County Coliseum          858\n",
       "Metlife Stadium                          836\n",
       "Name: Stadium, dtype: int64"
      ]
     },
     "execution_count": 79,
     "metadata": {},
     "output_type": "execute_result"
    }
   ],
   "source": [
    "# stadium where the game is being played\n",
    "train['Stadium'].value_counts()"
   ]
  },
  {
   "cell_type": "code",
   "execution_count": 80,
   "metadata": {
    "scrolled": true
   },
   "outputs": [
    {
     "data": {
      "text/plain": [
       "East Rutherford, NJ          30096\n",
       "Santa Clara, CA              17402\n",
       "Indianapolis, Ind.           16544\n",
       "Denver, CO                   16478\n",
       "Glendale, AZ                 16434\n",
       "Minneapolis, MN              16170\n",
       "Baltimore, Md.               16016\n",
       "Nashville, TN                15862\n",
       "Orchard Park NY              15488\n",
       "Landover, MD                 15356\n",
       "Green Bay, WI                15312\n",
       "Atlanta, GA                  15246\n",
       "Arlington, Texas             15246\n",
       "Foxborough, MA               15224\n",
       "Tampa, FL                    14696\n",
       "Carson, CA                   14630\n",
       "Seattle, WA                  14630\n",
       "Oakland, CA                  14564\n",
       "Chicago, IL                  14498\n",
       "Cincinnati, Ohio             14476\n",
       "Kansas City, MO              14190\n",
       "Los Angeles, Calif.          13706\n",
       "Miami Gardens, Fla.          13486\n",
       "Pittsburgh                   13178\n",
       "Philadelphia, Pa.            13156\n",
       "Jacksonville, FL             11352\n",
       "New Orleans, LA              11110\n",
       "Detroit                      10670\n",
       "Houston, TX                   9746\n",
       "Charlotte, North Carolina     8844\n",
       "Cleveland, Ohio               8316\n",
       "Houston, Texas                6138\n",
       "London, England               5676\n",
       "Charlotte, NC                 5192\n",
       "Detroit, MI                   4576\n",
       "Cleveland,Ohio                3476\n",
       "New Orleans, La.              3300\n",
       "Seattle                       2332\n",
       "Cincinnati, OH                2112\n",
       "Foxborough, Ma                2024\n",
       "East Rutherford, N.J.         2024\n",
       "Orchard Park, NY              1716\n",
       "Pittsburgh, PA                1672\n",
       "E. Rutherford, NJ             1452\n",
       "Philadelphia, PA              1320\n",
       "Cleveland Ohio                1166\n",
       "Kansas City,  MO              1144\n",
       "New Orleans                   1144\n",
       "Baltimore, Maryland           1078\n",
       "Miami Gardens, FLA            1078\n",
       "Cleveland                     1034\n",
       "London                         968\n",
       "Los Angeles, CA                968\n",
       "Jacksonville Florida           968\n",
       "Jacksonville, Florida          902\n",
       "Mexico City                    902\n",
       "Jacksonville, Fl               902\n",
       "Cleveland, OH                  836\n",
       "Chicago. IL                    836\n",
       "Arlington, TX                  704\n",
       "Name: Location, dtype: int64"
      ]
     },
     "execution_count": 80,
     "metadata": {},
     "output_type": "execute_result"
    }
   ],
   "source": [
    "# city where the game is being player\n",
    "train['Location'].value_counts()"
   ]
  },
  {
   "cell_type": "code",
   "execution_count": 81,
   "metadata": {
    "scrolled": true
   },
   "outputs": [
    {
     "data": {
      "text/plain": [
       "Grass                     166276\n",
       "Natural Grass             107096\n",
       "Field Turf                 47674\n",
       "Artificial                 44484\n",
       "FieldTurf                  33198\n",
       "UBU Speed Series-S5-M      32890\n",
       "A-Turf Titan               17204\n",
       "UBU Sports Speed S5-M       8558\n",
       "FieldTurf360                8272\n",
       "DD GrassMaster              8074\n",
       "Twenty-Four/Seven Turf      8030\n",
       "SISGrass                    7238\n",
       "FieldTurf 360               6974\n",
       "Natural grass               4796\n",
       "Artifical                   3894\n",
       "Natural                     1628\n",
       "Field turf                   990\n",
       "Naturall Grass               858\n",
       "natural grass                814\n",
       "grass                        814\n",
       "Name: Turf, dtype: int64"
      ]
     },
     "execution_count": 81,
     "metadata": {},
     "output_type": "execute_result"
    }
   ],
   "source": [
    "# description of the field surface\n",
    "train['Turf'].value_counts()"
   ]
  },
  {
   "cell_type": "code",
   "execution_count": 82,
   "metadata": {
    "scrolled": true
   },
   "outputs": [
    {
     "data": {
      "text/plain": [
       "2017121000    1870\n",
       "2017101501    1628\n",
       "2017100108    1452\n",
       "2017092100    1386\n",
       "2017091002    1386\n",
       "2017110504    1386\n",
       "2018111807    1386\n",
       "2018100700    1342\n",
       "2018123014    1342\n",
       "2018090901    1342\n",
       "2018111106    1320\n",
       "2017121400    1298\n",
       "2018122308    1276\n",
       "2017091005    1254\n",
       "2017100809    1254\n",
       "2018102500    1254\n",
       "2018092000    1254\n",
       "2018100711    1254\n",
       "2018120207    1254\n",
       "2017100101    1232\n",
       "2017123103    1232\n",
       "2018123015    1232\n",
       "2017100900    1232\n",
       "2017100102    1232\n",
       "2017091711    1232\n",
       "2018090905    1232\n",
       "2018093008    1232\n",
       "2017123107    1232\n",
       "2018102808    1210\n",
       "2017100807    1210\n",
       "              ... \n",
       "2018112200     770\n",
       "2018112509     748\n",
       "2018102900     748\n",
       "2018093012     748\n",
       "2018090910     748\n",
       "2017091003     726\n",
       "2017091008     726\n",
       "2017111600     726\n",
       "2018093007     726\n",
       "2018101401     726\n",
       "2018123009     704\n",
       "2018120209     704\n",
       "2018092307     704\n",
       "2018123003     704\n",
       "2018091613     704\n",
       "2018102801     704\n",
       "2018122310     704\n",
       "2018111900     682\n",
       "2018122309     682\n",
       "2018122313     682\n",
       "2018091605     682\n",
       "2018102800     682\n",
       "2018092700     682\n",
       "2017121600     682\n",
       "2018102108     660\n",
       "2018100709     660\n",
       "2018101408     638\n",
       "2017091704     616\n",
       "2017110200     616\n",
       "2018092400     616\n",
       "Name: GameId, Length: 512, dtype: int64"
      ]
     },
     "execution_count": 82,
     "metadata": {},
     "output_type": "execute_result"
    }
   ],
   "source": [
    "# a unique game identifier\n",
    "train['GameId'].value_counts()"
   ]
  },
  {
   "cell_type": "code",
   "execution_count": 83,
   "metadata": {
    "scrolled": true
   },
   "outputs": [
    {
     "data": {
      "text/plain": [
       "20181007011551    22\n",
       "20181007090207    22\n",
       "20171112053416    22\n",
       "20170918003383    22\n",
       "20181230140128    22\n",
       "20170910022384    22\n",
       "20171001120063    22\n",
       "20181202132252    22\n",
       "20171112090950    22\n",
       "20171002002752    22\n",
       "20170917041501    22\n",
       "20170917051736    22\n",
       "20181213001041    22\n",
       "20180923012541    22\n",
       "20181111021012    22\n",
       "20180930094139    22\n",
       "20181028023394    22\n",
       "20171231153278    22\n",
       "20181007023216    22\n",
       "20180910011465    22\n",
       "20170928000166    22\n",
       "20181008001618    22\n",
       "20171001102903    22\n",
       "20181209030691    22\n",
       "20181014100976    22\n",
       "20181104072724    22\n",
       "20181028040809    22\n",
       "20180923113547    22\n",
       "20171231100999    22\n",
       "20181118081196    22\n",
       "                  ..\n",
       "20181230152720    22\n",
       "20180923020355    22\n",
       "20171210081365    22\n",
       "20181028052206    22\n",
       "20181125061862    22\n",
       "20171203020589    22\n",
       "20181209081633    22\n",
       "20171210013306    22\n",
       "20181129003645    22\n",
       "20171105092117    22\n",
       "20181104003980    22\n",
       "20171106003160    22\n",
       "20171105020728    22\n",
       "20180916022072    22\n",
       "20171126000436    22\n",
       "20181230144276    22\n",
       "20170910102371    22\n",
       "20171026000752    22\n",
       "20181118073690    22\n",
       "20181104040862    22\n",
       "20181014123039    22\n",
       "20171001023380    22\n",
       "20181223101415    22\n",
       "20181223140336    22\n",
       "20181015000051    22\n",
       "20171119100893    22\n",
       "20181230082614    22\n",
       "20181209113137    22\n",
       "20171105042957    22\n",
       "20170925001016    22\n",
       "Name: PlayId, Length: 23171, dtype: int64"
      ]
     },
     "execution_count": 83,
     "metadata": {},
     "output_type": "execute_result"
    }
   ],
   "source": [
    "# a unique play identifier\n",
    "train['PlayId'].value_counts()"
   ]
  },
  {
   "cell_type": "code",
   "execution_count": 84,
   "metadata": {},
   "outputs": [
    {
     "data": {
      "text/plain": [
       "away    254881\n",
       "home    254881\n",
       "Name: Team, dtype: int64"
      ]
     },
     "execution_count": 84,
     "metadata": {},
     "output_type": "execute_result"
    }
   ],
   "source": [
    "# home or away\n",
    "train['Team'].value_counts()"
   ]
  },
  {
   "cell_type": "markdown",
   "metadata": {},
   "source": [
    "### Analisando as variaveis do JOGO"
   ]
  },
  {
   "cell_type": "code",
   "execution_count": null,
   "metadata": {},
   "outputs": [],
   "source": [
    "# game quarter (1-5, 5 == overtime)\n",
    "train['Quarter'].value_counts()"
   ]
  },
  {
   "cell_type": "code",
   "execution_count": null,
   "metadata": {
    "scrolled": true
   },
   "outputs": [],
   "source": [
    "# time on the game clock\n",
    "train['GameClock'].value_counts()"
   ]
  },
  {
   "cell_type": "code",
   "execution_count": null,
   "metadata": {
    "scrolled": true
   },
   "outputs": [],
   "source": [
    "# home team abbreviation \n",
    "train['HomeTeamAbbr'].value_counts()"
   ]
  },
  {
   "cell_type": "code",
   "execution_count": null,
   "metadata": {
    "scrolled": true
   },
   "outputs": [],
   "source": [
    "# home team score before play started\n",
    "train['HomeScoreBeforePlay'].value_counts()"
   ]
  },
  {
   "cell_type": "code",
   "execution_count": null,
   "metadata": {
    "scrolled": true
   },
   "outputs": [],
   "source": [
    "# visitor team abbreviation\n",
    "train['VisitorTeamAbbr'].value_counts()"
   ]
  },
  {
   "cell_type": "code",
   "execution_count": null,
   "metadata": {
    "scrolled": true
   },
   "outputs": [],
   "source": [
    "# visitor team score before play started\n",
    "train['VisitorScoreBeforePlay'].value_counts()"
   ]
  },
  {
   "cell_type": "code",
   "execution_count": null,
   "metadata": {
    "scrolled": true
   },
   "outputs": [],
   "source": [
    "# team with possession\n",
    "train['PossessionTeam'].value_counts()"
   ]
  },
  {
   "cell_type": "code",
   "execution_count": null,
   "metadata": {
    "scrolled": true
   },
   "outputs": [],
   "source": [
    "# which side of the field the play is happening on\n",
    "train['FieldPosition'].value_counts()"
   ]
  },
  {
   "cell_type": "markdown",
   "metadata": {},
   "source": [
    "### Analisando as variaveis de ACOES no JOGO"
   ]
  },
  {
   "cell_type": "code",
   "execution_count": null,
   "metadata": {
    "scrolled": true
   },
   "outputs": [],
   "source": [
    "# offensive team positional grouping\n",
    "train['OffensePersonnel'].value_counts()"
   ]
  },
  {
   "cell_type": "code",
   "execution_count": null,
   "metadata": {
    "scrolled": true
   },
   "outputs": [],
   "source": [
    "# defensive team positional grouping\n",
    "train['DefensePersonnel'].value_counts()"
   ]
  },
  {
   "cell_type": "code",
   "execution_count": null,
   "metadata": {},
   "outputs": [],
   "source": [
    "# direction the play is headed\n",
    "train['PlayDirection'].value_counts()"
   ]
  },
  {
   "cell_type": "code",
   "execution_count": null,
   "metadata": {},
   "outputs": [],
   "source": [
    "# offense formation\n",
    "train['OffenseFormation'].value_counts()"
   ]
  },
  {
   "cell_type": "code",
   "execution_count": null,
   "metadata": {},
   "outputs": [],
   "source": [
    "# number of defenders lined up near the line of scrimmage, spanning the width of the offensive line\n",
    "train['DefendersInTheBox'].value_counts()"
   ]
  },
  {
   "cell_type": "code",
   "execution_count": null,
   "metadata": {
    "scrolled": true
   },
   "outputs": [],
   "source": [
    "# UTC time of the handoff\n",
    "train['TimeHandoff'].value_counts()"
   ]
  },
  {
   "cell_type": "code",
   "execution_count": null,
   "metadata": {
    "scrolled": true
   },
   "outputs": [],
   "source": [
    "# UTC time of the snap\n",
    "train['TimeSnap'].value_counts()"
   ]
  },
  {
   "cell_type": "markdown",
   "metadata": {},
   "source": [
    "### Analisando as variaveis de TEMPERATURA"
   ]
  },
  {
   "cell_type": "code",
   "execution_count": null,
   "metadata": {
    "scrolled": true
   },
   "outputs": [],
   "source": [
    "# wind direction\n",
    "train['WindDirection'].value_counts()"
   ]
  },
  {
   "cell_type": "code",
   "execution_count": null,
   "metadata": {
    "scrolled": true
   },
   "outputs": [],
   "source": [
    "# wind speed in miles/hour\n",
    "train['WindSpeed'].value_counts()"
   ]
  },
  {
   "cell_type": "code",
   "execution_count": null,
   "metadata": {
    "scrolled": true
   },
   "outputs": [],
   "source": [
    "# temperature (deg F)\n",
    "train['Temperature'].value_counts()"
   ]
  },
  {
   "cell_type": "code",
   "execution_count": null,
   "metadata": {
    "scrolled": true
   },
   "outputs": [],
   "source": [
    "# description of the game weather\n",
    "train['GameWeather'].value_counts()"
   ]
  },
  {
   "cell_type": "code",
   "execution_count": null,
   "metadata": {
    "scrolled": true
   },
   "outputs": [],
   "source": [
    "# humidity\n",
    "train['Humidity'].value_counts()"
   ]
  },
  {
   "cell_type": "markdown",
   "metadata": {},
   "source": [
    "### Analisando as variaveis do JOGADOR"
   ]
  },
  {
   "cell_type": "code",
   "execution_count": null,
   "metadata": {
    "scrolled": true
   },
   "outputs": [],
   "source": [
    "# a unique identifier of the player\n",
    "train['NflId'].value_counts()"
   ]
  },
  {
   "cell_type": "code",
   "execution_count": null,
   "metadata": {
    "scrolled": true
   },
   "outputs": [],
   "source": [
    "# the NflId of the rushing player\n",
    "train['NflIdRusher'].value_counts()"
   ]
  },
  {
   "cell_type": "code",
   "execution_count": null,
   "metadata": {
    "scrolled": true
   },
   "outputs": [],
   "source": [
    "# player's name\n",
    "train['DisplayName'].value_counts()"
   ]
  },
  {
   "cell_type": "code",
   "execution_count": null,
   "metadata": {
    "scrolled": true
   },
   "outputs": [],
   "source": [
    "# player height (ft-in)\n",
    "train['PlayerHeight'].value_counts()"
   ]
  },
  {
   "cell_type": "code",
   "execution_count": null,
   "metadata": {
    "scrolled": true
   },
   "outputs": [],
   "source": [
    "# player weight (lbs)\n",
    "train['PlayerWeight'].value_counts()"
   ]
  },
  {
   "cell_type": "code",
   "execution_count": null,
   "metadata": {
    "scrolled": true
   },
   "outputs": [],
   "source": [
    "# birth date (mm/dd/yyyy)\n",
    "train['PlayerBirthDate'].value_counts()"
   ]
  },
  {
   "cell_type": "code",
   "execution_count": null,
   "metadata": {
    "scrolled": true
   },
   "outputs": [],
   "source": [
    "# where the player attended college\n",
    "train['PlayerCollegeName'].value_counts()"
   ]
  },
  {
   "cell_type": "markdown",
   "metadata": {},
   "source": [
    "### Analisando as variaveis de POSICIONAMENTO DO JOGADOR"
   ]
  },
  {
   "cell_type": "code",
   "execution_count": null,
   "metadata": {
    "scrolled": true
   },
   "outputs": [],
   "source": [
    "# player position along the long axis of the field. See figure below.\n",
    "train['X'].value_counts()"
   ]
  },
  {
   "cell_type": "code",
   "execution_count": null,
   "metadata": {
    "scrolled": true
   },
   "outputs": [],
   "source": [
    "# player position along the short axis of the field. See figure below.\n",
    "train['Y'].value_counts()"
   ]
  },
  {
   "cell_type": "code",
   "execution_count": null,
   "metadata": {
    "scrolled": true
   },
   "outputs": [],
   "source": [
    "# speed in yards/second\n",
    "train['S'].value_counts()"
   ]
  },
  {
   "cell_type": "code",
   "execution_count": null,
   "metadata": {
    "scrolled": true
   },
   "outputs": [],
   "source": [
    "# acceleration in yards/second^2\n",
    "train['A'].value_counts()"
   ]
  },
  {
   "cell_type": "code",
   "execution_count": null,
   "metadata": {
    "scrolled": true
   },
   "outputs": [],
   "source": [
    "# distance traveled from prior time point, in yards\n",
    "train['Dis'].value_counts()"
   ]
  },
  {
   "cell_type": "code",
   "execution_count": null,
   "metadata": {
    "scrolled": true
   },
   "outputs": [],
   "source": [
    "# orientation of player (deg)\n",
    "train['Orientation'].value_counts()"
   ]
  },
  {
   "cell_type": "code",
   "execution_count": null,
   "metadata": {
    "scrolled": true
   },
   "outputs": [],
   "source": [
    "# angle of player motion (deg)\n",
    "train['Dir'].value_counts()"
   ]
  },
  {
   "cell_type": "code",
   "execution_count": null,
   "metadata": {
    "scrolled": true
   },
   "outputs": [],
   "source": [
    "# the yard line of the line of scrimmage\n",
    "train['YardLine'].value_counts()"
   ]
  },
  {
   "cell_type": "markdown",
   "metadata": {},
   "source": [
    "### Analisando as variaveis DESCONHECIDAS"
   ]
  },
  {
   "cell_type": "code",
   "execution_count": null,
   "metadata": {
    "scrolled": true
   },
   "outputs": [],
   "source": [
    "# jersey number\n",
    "train['JerseyNumber'].value_counts()"
   ]
  },
  {
   "cell_type": "code",
   "execution_count": null,
   "metadata": {},
   "outputs": [],
   "source": [
    "# the down (1-4)\n",
    "train['Down'].value_counts()"
   ]
  },
  {
   "cell_type": "code",
   "execution_count": null,
   "metadata": {
    "scrolled": true
   },
   "outputs": [],
   "source": [
    "# yards needed for a first down\n",
    "train['Distance'].value_counts()"
   ]
  },
  {
   "cell_type": "code",
   "execution_count": null,
   "metadata": {
    "scrolled": true
   },
   "outputs": [],
   "source": [
    "train['Position'].value_counts()"
   ]
  },
  {
   "cell_type": "code",
   "execution_count": null,
   "metadata": {},
   "outputs": [],
   "source": []
  },
  {
   "cell_type": "code",
   "execution_count": null,
   "metadata": {},
   "outputs": [],
   "source": []
  }
 ],
 "metadata": {
  "kernelspec": {
   "display_name": "Python 3",
   "language": "python",
   "name": "python3"
  },
  "language_info": {
   "codemirror_mode": {
    "name": "ipython",
    "version": 3
   },
   "file_extension": ".py",
   "mimetype": "text/x-python",
   "name": "python",
   "nbconvert_exporter": "python",
   "pygments_lexer": "ipython3",
   "version": "3.7.3"
  }
 },
 "nbformat": 4,
 "nbformat_minor": 1
}
