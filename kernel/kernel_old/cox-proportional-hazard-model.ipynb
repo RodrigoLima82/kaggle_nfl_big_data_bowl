{
 "cells": [
  {
   "cell_type": "markdown",
   "metadata": {},
   "source": [
    "# Cox proportional hazard model"
   ]
  },
  {
   "cell_type": "markdown",
   "metadata": {},
   "source": [
    "The yardage gained on the play distributes to a one-dimenstional distribution which depends on rushing plays information. This notebook adopts **Cox proportional hazard model** to express this distribution and shows the advantage of suvival analysis approach in this competition."
   ]
  },
  {
   "cell_type": "markdown",
   "metadata": {},
   "source": [
    "Survival analysis mainly focus on explaining the duration of time until some events happen. In survival analysis, our aim is to express the hazard function instead of probability density function, which is defined as\n",
    "\n",
    "$$\n",
    "\\begin{aligned}\n",
    "h(t) = \\lim_{\\Delta t \\to 0} \\frac{\\mathrm{Pr}(t \\leq T < t + \\Delta t \\mid T \\geq t)}{\\Delta t}, \\quad t \\geq 0.\n",
    "\\end{aligned}\n",
    "$$\n",
    "\n",
    "**Cox proportional model** divides this hazard function into two parts as\n",
    "\n",
    "$$\n",
    "\\begin{aligned}\n",
    "    &h(t) = h_0(t) \\exp(X \\beta), \\quad \\\\\n",
    "    &\\text{$X$ : covariates, $\\beta$: parameter.}\n",
    "\\end{aligned}\n",
    "$$\n",
    "\n",
    "\n",
    "The former part indicates how the hazard function depends on time and the latter part indicates how it depends on the covariate information.  Estimating the former part in empirical manner enables us to express the complex distribution easily."
   ]
  },
  {
   "cell_type": "markdown",
   "metadata": {},
   "source": [
    "In this notebook, we consider that the distance obtained by ball carrier as duration of time until event happens. We adopt simple linear model with players location, velocity, acceralation, counts of down as covariates."
   ]
  },
  {
   "cell_type": "markdown",
   "metadata": {},
   "source": [
    "# Setup"
   ]
  },
  {
   "cell_type": "code",
   "execution_count": 1,
   "metadata": {
    "_cell_guid": "b1076dfc-b9ad-4769-8c92-a6c4dae69d19",
    "_uuid": "8f2839f25d086af736a60e9eeb907d3b93b6e0e5"
   },
   "outputs": [
    {
     "name": "stdout",
     "output_type": "stream",
     "text": [
      "/kaggle/input/nfl-big-data-bowl-2020/train.csv\n",
      "/kaggle/input/nfl-big-data-bowl-2020/kaggle/competitions/nflrush/__init__.py\n",
      "/kaggle/input/nfl-big-data-bowl-2020/kaggle/competitions/nflrush/test.csv.encrypted\n",
      "/kaggle/input/nfl-big-data-bowl-2020/kaggle/competitions/nflrush/sample_submission.csv.encrypted\n",
      "/kaggle/input/nfl-big-data-bowl-2020/kaggle/competitions/nflrush/competition.cpython-36m-x86_64-linux-gnu.so\n"
     ]
    }
   ],
   "source": [
    "import numpy as np\n",
    "import pandas as pd\n",
    "import os\n",
    "import statsmodels.api as sm\n",
    "\n",
    "for dirname, _, filenames in os.walk('/kaggle/input'):\n",
    "    for filename in filenames:\n",
    "        print(os.path.join(dirname, filename))"
   ]
  },
  {
   "cell_type": "markdown",
   "metadata": {},
   "source": [
    "## Define function for etracting features from raw dataset "
   ]
  },
  {
   "cell_type": "code",
   "execution_count": 2,
   "metadata": {},
   "outputs": [],
   "source": [
    "def extract_feature(play, is_train=True):\n",
    "    \n",
    "    if play['PlayDirection'].iloc[0] == 'right':\n",
    "        direction = 1\n",
    "    else:\n",
    "        direction = -1\n",
    "        \n",
    "    home, away = play['Team'].values == 'home', play['Team'].values == 'away'\n",
    "        \n",
    "    if np.any(np.isnan(play['Dir'].values)):\n",
    "        if play['PossessionTeam'].iloc[0] == play['HomeTeamAbbr'].iloc[0]:\n",
    "            if direction == 1: \n",
    "                play[home] = play[home].fillna(90) \n",
    "                play[away] = play[away].fillna(270)\n",
    "            else: \n",
    "                play[home] = play[home].fillna(270) \n",
    "                play[away] = play[away].fillna(90)\n",
    "        else:\n",
    "            if direction == 1: \n",
    "                play[home] = play[home].fillna(270) \n",
    "                play[away] = play[away].fillna(90)\n",
    "            else: \n",
    "                play[home] = play[home].fillna(90) \n",
    "                play[away] = play[away].fillna(270)\n",
    "\n",
    "    \n",
    "    indRusher = np.where(play['NflId'].values == play['NflIdRusher'].iloc[0])[0][0]\n",
    "    \n",
    "    if play['FieldPosition'].iloc[0] == play['PossessionTeam'].iloc[0]:\n",
    "        yardToGoal = 100 - play['YardLine'].iloc[0]\n",
    "        if direction == 1:\n",
    "            start = np.array([play['YardLine'].iloc[0] + 10, 53.3 / 2])\n",
    "        else:\n",
    "            start = np.array([120 - (play['YardLine'].iloc[0] + 10), 53.3 / 2])\n",
    "    else:\n",
    "        yardToGoal = play['YardLine'].iloc[0]\n",
    "        if direction == 1:\n",
    "            start = np.array([120 - (play['YardLine'].iloc[0] + 10), 53.3 / 2])\n",
    "        else:\n",
    "            start = np.array([play['YardLine'].iloc[0] + 10, 53.3 / 2])\n",
    "          \n",
    "    rad = 2 * np.pi * (90 - play['Dir'].values) / 360\n",
    "    \n",
    "    loc = np.vstack([(play['X'].values - start[0]) * direction, play['Y'].values - start[1]]).T\n",
    "    vel = (play['S'].values * np.vstack([np.cos(rad) * direction, np.sin(rad)])).T\n",
    "    acc = (play['A'].values * np.vstack([np.cos(rad) * direction, np.sin(rad)])).T\n",
    "\n",
    "    locRusher, velRusher, accRusher = loc[indRusher], vel[indRusher], acc[indRusher]\n",
    "\n",
    "    diff = np.hstack([np.square(loc - locRusher), np.square(vel - velRusher), np.square(acc - accRusher)])\n",
    "\n",
    "    if play['PossessionTeam'].iloc[0] == play['HomeTeamAbbr'].iloc[0]:\n",
    "        x = np.hstack([diff[home].sum(0), diff[away].sum(0)])\n",
    "    else:\n",
    "        x = np.hstack([diff[away].sum(0), diff[home].sum(0)])\n",
    "    \n",
    "    x = np.hstack([locRusher, velRusher, accRusher, x, (downs == play['Down'].iloc[0]).astype(np.float)[:-1]])    \n",
    "    \n",
    "    offset = locRusher[0] - 5\n",
    "    threshold = play['Distance'].iloc[0] - offset\n",
    "    \n",
    "    if is_train:\n",
    "         \n",
    "        yard = play['Yards'].iloc[0] - offset\n",
    "        \n",
    "        c = yard < threshold\n",
    "        y = np.minimum(yard, threshold)\n",
    "        \n",
    "        return x, y, c, offset\n",
    "    \n",
    "    else:\n",
    "        return x, offset"
   ]
  },
  {
   "cell_type": "markdown",
   "metadata": {},
   "source": [
    "# Load data"
   ]
  },
  {
   "cell_type": "code",
   "execution_count": 3,
   "metadata": {
    "_cell_guid": "79c7e3d0-c299-4dcb-8224-4455121ee9b0",
    "_uuid": "d629ff2d2480ee46fbb7e2d37f6b5fab8052498a"
   },
   "outputs": [],
   "source": [
    "data = pd.read_csv('/kaggle/input/nfl-big-data-bowl-2020/train.csv', low_memory=False)\n",
    "\n",
    "data.loc[data.HomeTeamAbbr.values == \"ARI\", 'HomeTeamAbbr'] = \"ARZ\"\n",
    "data.loc[data.HomeTeamAbbr.values == \"BAL\", 'HomeTeamAbbr'] = \"BLT\"\n",
    "data.loc[data.HomeTeamAbbr.values == \"CLE\", 'HomeTeamAbbr'] = \"CLV\"\n",
    "data.loc[data.HomeTeamAbbr.values == \"HOU\", 'HomeTeamAbbr'] = \"HST\"\n",
    "\n",
    "data.loc[data['Season'] == 2017, 'S'] = (data['S'][data['Season'] == 2017] - 2.4355) / 1.2930 * 1.4551 + 2.7570\n",
    "\n",
    "downs = np.array([1, 2, 3])\n",
    "teams = pd.get_dummies(data['PossessionTeam']).columns[:-1]\n",
    "\n",
    "train = data\n",
    "n_train = train.shape[0] // 22"
   ]
  },
  {
   "cell_type": "markdown",
   "metadata": {},
   "source": [
    "# Extract features from training dataset"
   ]
  },
  {
   "cell_type": "code",
   "execution_count": 4,
   "metadata": {},
   "outputs": [],
   "source": [
    "inds = list(train.groupby('PlayId').groups.values())\n",
    "\n",
    "xs, ys, cs = [], [], []\n",
    "\n",
    "for i in range(n_train):\n",
    "\n",
    "    ind = inds[i]\n",
    "    play = train.loc[ind]\n",
    "    x, y, c, _ = extract_feature(play)\n",
    "\n",
    "    xs.append(x)\n",
    "    ys.append(y)\n",
    "    cs.append(c)\n",
    "\n",
    "xs, ys, cs = np.vstack(xs), np.hstack(ys), np.array(cs).astype(np.int)\n",
    "ys = np.maximum(0, ys)"
   ]
  },
  {
   "cell_type": "markdown",
   "metadata": {},
   "source": [
    "# Estimate parameters of Cox proportional model"
   ]
  },
  {
   "cell_type": "code",
   "execution_count": 5,
   "metadata": {},
   "outputs": [],
   "source": [
    "model = sm.PHReg(ys, xs, cs)\n",
    "result = model.fit()\n",
    "\n",
    "baseline_cum_hazard_func = result.baseline_cumulative_hazard_function[0]\n",
    "pred_index = np.arange(-99, 100)"
   ]
  },
  {
   "cell_type": "markdown",
   "metadata": {},
   "source": [
    "# Predict "
   ]
  },
  {
   "cell_type": "code",
   "execution_count": 6,
   "metadata": {},
   "outputs": [],
   "source": [
    "from kaggle.competitions import nflrush\n",
    "env = nflrush.make_env()"
   ]
  },
  {
   "cell_type": "code",
   "execution_count": 7,
   "metadata": {},
   "outputs": [],
   "source": [
    "for (play, prediction_df) in env.iter_test():\n",
    "    \n",
    "    play.loc[play.HomeTeamAbbr.values == \"ARI\", 'HomeTeamAbbr'] = \"ARZ\"\n",
    "    play.loc[play.HomeTeamAbbr.values == \"BAL\", 'HomeTeamAbbr'] = \"BLT\"\n",
    "    play.loc[play.HomeTeamAbbr.values == \"CLE\", 'HomeTeamAbbr'] = \"CLV\"\n",
    "    play.loc[play.HomeTeamAbbr.values == \"HOU\", 'HomeTeamAbbr'] = \"HST\"\n",
    "    \n",
    "    x, offset = extract_feature(play, False)\n",
    "    \n",
    "    cum_hazard = np.exp(result.params.dot(x)) * baseline_cum_hazard_func(pred_index - offset)\n",
    "    pred = 1 - np.exp(- cum_hazard)\n",
    "    \n",
    "    if play['FieldPosition'].iloc[0] == play['PossessionTeam'].iloc[0]:\n",
    "        yardToGoal = 100 - play['YardLine'].iloc[0]\n",
    "    else:\n",
    "        yardToGoal = play['YardLine'].iloc[0]\n",
    "\n",
    "    pred /= pred[pred_index <= yardToGoal][-1]\n",
    "    pred[pred_index > yardToGoal] = 1.\n",
    "    \n",
    "    prediction_df = pd.DataFrame(pred[np.newaxis], columns=prediction_df.columns)\n",
    "    \n",
    "    env.predict(prediction_df)"
   ]
  },
  {
   "cell_type": "code",
   "execution_count": 8,
   "metadata": {},
   "outputs": [
    {
     "name": "stdout",
     "output_type": "stream",
     "text": [
      "Your submission file has been saved!  Once you `Commit` your Notebook and it finishes running, you can submit the file to the competition from the Notebook Viewer `Output` tab.\n"
     ]
    }
   ],
   "source": [
    "env.write_submission_file()"
   ]
  }
 ],
 "metadata": {
  "kernelspec": {
   "display_name": "Python 3",
   "language": "python",
   "name": "python3"
  },
  "language_info": {
   "codemirror_mode": {
    "name": "ipython",
    "version": 3
   },
   "file_extension": ".py",
   "mimetype": "text/x-python",
   "name": "python",
   "nbconvert_exporter": "python",
   "pygments_lexer": "ipython3",
   "version": "3.7.3"
  }
 },
 "nbformat": 4,
 "nbformat_minor": 1
}
