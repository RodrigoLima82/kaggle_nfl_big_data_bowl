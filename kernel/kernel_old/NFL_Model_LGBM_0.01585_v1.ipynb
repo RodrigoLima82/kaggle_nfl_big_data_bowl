{
 "cells": [
  {
   "cell_type": "markdown",
   "metadata": {},
   "source": [
    "# Kaggle\n",
    "## Competition NFL Big Data Bowl"
   ]
  },
  {
   "cell_type": "code",
   "execution_count": null,
   "metadata": {},
   "outputs": [],
   "source": [
    "# This Python 3 environment comes with many helpful analytics libraries installed\n",
    "# It is defined by the kaggle/python docker image: https://github.com/kaggle/docker-python\n",
    "# For example, here's several helpful packages to load in \n",
    "# Input data files are available in the \"../input/\" directory.\n",
    "# For example, running this (by clicking run or pressing Shift+Enter) will list all files under the input directory\n",
    "\n",
    "import os\n",
    "for dirname, _, filenames in os.walk('/kaggle/input'):\n",
    "    for filename in filenames:\n",
    "        print(os.path.join(dirname, filename))\n",
    "\n",
    "# Any results you write to the current directory are saved as output."
   ]
  },
  {
   "cell_type": "code",
   "execution_count": null,
   "metadata": {
    "_cell_guid": "b1076dfc-b9ad-4769-8c92-a6c4dae69d19",
    "_kg_hide-input": true,
    "_uuid": "8f2839f25d086af736a60e9eeb907d3b93b6e0e5"
   },
   "outputs": [],
   "source": [
    "# Carregando os pacotes\n",
    "import numpy as np \n",
    "import pandas as pd \n",
    "import seaborn as sns\n",
    "import matplotlib.pyplot as plt\n",
    "%matplotlib inline\n",
    "\n",
    "# Statistic lib\n",
    "from scipy import stats\n",
    "from scipy.stats import skew, norm\n",
    "\n",
    "# Sklearn lib\n",
    "from sklearn import preprocessing\n",
    "from sklearn.preprocessing import LabelEncoder\n",
    "\n",
    "# Models\n",
    "from xgboost import XGBRegressor\n",
    "from sklearn.ensemble import ExtraTreesRegressor\n",
    "from sklearn.ensemble import RandomForestRegressor, GradientBoostingRegressor\n",
    "from mlxtend.regressor import StackingCVRegressor\n",
    "from lightgbm import LGBMRegressor\n",
    "import lightgbm as lgb\n",
    "import xgboost as XGB\n",
    "from sklearn.cluster import KMeans\n",
    "import tqdm\n",
    "\n",
    "# Misc lib\n",
    "from sklearn import preprocessing\n",
    "from sklearn.preprocessing import MinMaxScaler\n",
    "from sklearn.preprocessing import StandardScaler\n",
    "from sklearn.preprocessing import LabelEncoder\n",
    "from sklearn.preprocessing import RobustScaler\n",
    "from sklearn.model_selection import train_test_split\n",
    "from sklearn.model_selection import KFold, cross_val_score\n",
    "from sklearn.model_selection import RandomizedSearchCV\n",
    "from functools import partial\n",
    "from sklearn.metrics import mean_squared_error, r2_score\n",
    "from sklearn.decomposition import PCA\n",
    "from sklearn.pipeline import make_pipeline\n",
    "from IPython.display import Image\n",
    "\n",
    "# Utils\n",
    "import pandasql as ps\n",
    "import re \n",
    "import math, string, os\n",
    "import datetime\n",
    "\n",
    "# Options\n",
    "import warnings\n",
    "warnings.filterwarnings('ignore')\n",
    "pd.options.display.max_seq_items = 8000\n",
    "pd.options.display.max_rows = 8000\n",
    "pd.set_option('display.max_columns', None)\n",
    "import gc\n",
    "gc.enable()"
   ]
  },
  {
   "cell_type": "code",
   "execution_count": null,
   "metadata": {
    "_kg_hide-input": true,
    "_uuid": "f5fdc987f79035336b408413b3b3111d1b48fd2a"
   },
   "outputs": [],
   "source": [
    "# Carregando os dados de treino\n",
    "train = pd.read_csv('../data/train.csv')\n",
    "#train = pd.read_csv('/kaggle/input/nfl-big-data-bowl-2020/train.csv', low_memory=False)\n",
    "print (\"Data is ready !!\")"
   ]
  },
  {
   "cell_type": "markdown",
   "metadata": {
    "_kg_hide-output": true,
    "_uuid": "c49cf65c83506e6f1cdbf049770740c224b2f710"
   },
   "source": [
    "# EXPLICAÇÃO DO NFL"
   ]
  },
  {
   "cell_type": "code",
   "execution_count": null,
   "metadata": {},
   "outputs": [],
   "source": [
    "from IPython.display import Image\n",
    "Image(url = '../images/NFL_Image_01.png')"
   ]
  },
  {
   "cell_type": "markdown",
   "metadata": {},
   "source": [
    "# 1. ANALISE GERAL"
   ]
  },
  {
   "cell_type": "code",
   "execution_count": null,
   "metadata": {
    "_uuid": "b09576a89afcccb0ace8841e1b4a14142054ed1b"
   },
   "outputs": [],
   "source": [
    "# Visualizando os primeiros registros do dataset\n",
    "train.head()"
   ]
  },
  {
   "cell_type": "code",
   "execution_count": null,
   "metadata": {
    "_uuid": "ae7e4ecb648eb745fe29ced1f41e63c682fefeef"
   },
   "outputs": [],
   "source": [
    "# Visualizando os tipos das features\n",
    "train.dtypes"
   ]
  },
  {
   "cell_type": "code",
   "execution_count": null,
   "metadata": {
    "_uuid": "a82a4fcfd7b086e5dfd2dabf56bf631c176a6eb1"
   },
   "outputs": [],
   "source": [
    "# Visualizando dados estatisticos das variaveis numericas\n",
    "train.describe().T"
   ]
  },
  {
   "cell_type": "code",
   "execution_count": null,
   "metadata": {},
   "outputs": [],
   "source": [
    "eda_df = train.copy()"
   ]
  },
  {
   "cell_type": "markdown",
   "metadata": {},
   "source": [
    "# 2. DATA MISSING"
   ]
  },
  {
   "cell_type": "code",
   "execution_count": null,
   "metadata": {
    "_kg_hide-input": true,
    "_uuid": "bfc230e8283491c2cfe124b6c5c2a08f7560a14a"
   },
   "outputs": [],
   "source": [
    "def percent_missing(df):\n",
    "    data = pd.DataFrame(df)\n",
    "    df_cols = list(pd.DataFrame(data))\n",
    "    dict_x = {}\n",
    "    for i in range(0, len(df_cols)):\n",
    "        dict_x.update({df_cols[i]: round(data[df_cols[i]].isnull().mean()*100,2)})\n",
    "    \n",
    "    return dict_x"
   ]
  },
  {
   "cell_type": "code",
   "execution_count": null,
   "metadata": {
    "_kg_hide-input": true,
    "_uuid": "a4bdd12a7223d80e2d4c6c9be217935a5b80d526"
   },
   "outputs": [],
   "source": [
    "# Verificando as colunas com dados missing do dataset de treino\n",
    "missing = percent_missing(eda_df)\n",
    "df_miss = sorted(missing.items(), key=lambda x: x[1], reverse=True)\n",
    "print('Percent of missing data')\n",
    "df_miss[0:50]"
   ]
  },
  {
   "cell_type": "code",
   "execution_count": null,
   "metadata": {},
   "outputs": [],
   "source": [
    "# Setup do plot\n",
    "sns.set_style(\"white\")\n",
    "f, ax = plt.subplots(figsize=(8, 7))\n",
    "sns.set_color_codes(palette='deep')\n",
    "\n",
    "# Identificando os valores missing\n",
    "missing = round(eda_df.isnull().mean()*100,2)\n",
    "missing = missing[missing > 0]\n",
    "missing.sort_values(inplace=True)\n",
    "missing.plot.bar(color=\"b\")\n",
    "\n",
    "# Visual presentation\n",
    "ax.xaxis.grid(False)\n",
    "ax.set(ylabel=\"Percent of missing values\")\n",
    "ax.set(xlabel=\"Features\")\n",
    "ax.set(title=\"Percent missing data by feature\")\n",
    "sns.despine(trim=True, left=True)"
   ]
  },
  {
   "cell_type": "markdown",
   "metadata": {},
   "source": [
    "# 3. Criando as funções auxiliares de limpeza e conversao"
   ]
  },
  {
   "cell_type": "code",
   "execution_count": null,
   "metadata": {},
   "outputs": [],
   "source": [
    "# Funcao para tratar os dados missing de cada variavel\n",
    "def fill_na(data):\n",
    "    data['WindDirection'].fillna('unknown',inplace=True)\n",
    "    data['OffenseFormation'].fillna('unknown',inplace=True)\n",
    "    data['StadiumType'].fillna('unknown',inplace=True)\n",
    "    data['GameWeather'].fillna('unknown',inplace=True)\n",
    "    data['FieldPosition'].fillna('NA',inplace=True)\n",
    "    \n",
    "    data['Temperature'].fillna(data['Temperature'].mean(), inplace=True)\n",
    "    data['Humidity'].fillna(data['Humidity'].mean(), inplace=True)\n",
    "    data['DefendersInTheBox'].fillna(math.ceil(data['DefendersInTheBox'].mean()),inplace=True)\n",
    "    \n",
    "# Funcao para agrupar as descricoes dos tipos de estadio\n",
    "def agrupar_tipo_estadio(StadiumType):\n",
    "    outdoor       = ['Outdoor', 'Outdoors', 'Cloudy', 'Heinz Field', 'Outdor', 'Ourdoor', 'Outside', 'Outddors', 'Outdoor Retr Roof-Open', 'Oudoor', 'Bowl']\n",
    "    indoor_closed = ['Indoors', 'Indoor', 'Indoor, Roof Closed', 'Indoor, Roof Closed', 'Retractable Roof', 'Retr. Roof-Closed', 'Retr. Roof - Closed', 'Retr. Roof Closed']\n",
    "    indoor_open   = ['Indoor, Open Roof', 'Open', 'Retr. Roof-Open', 'Retr. Roof - Open']\n",
    "    dome_closed   = ['Dome', 'Domed, closed', 'Closed Dome', 'Domed', 'Dome, closed']\n",
    "    dome_open     = ['Domed, Open', 'Domed, open']\n",
    "    \n",
    "    if StadiumType in outdoor:\n",
    "        return 'outdoor'\n",
    "    elif StadiumType in indoor_closed:\n",
    "        return 'indoor_closed'\n",
    "    elif StadiumType in indoor_open:\n",
    "        return 'indoor_open'\n",
    "    elif StadiumType in dome_closed:\n",
    "        return 'dome_closed'\n",
    "    elif StadiumType in dome_open:\n",
    "        return 'dome_open'\n",
    "    else:\n",
    "        return 'unknown' # se for n/a\n",
    "    \n",
    "# Funcao para agrupar as descricoes dos estadios\n",
    "def agrupar_estadio(Stadium):\n",
    "\n",
    "    if Stadium == 'Broncos Stadium at Mile High':\n",
    "        return 'Broncos Stadium At Mile High'\n",
    "    \n",
    "    elif Stadium in ('CenturyField', 'CenturyLink'):\n",
    "        return 'CenturyLink Field'\n",
    "    \n",
    "    elif Stadium == 'EverBank Field':\n",
    "        return 'Everbank Field'\n",
    "    \n",
    "    elif Stadium in ('FirstEnergy', 'FirstEnergy Stadium', 'FirstEnergyStadium'):\n",
    "        return 'First Energy Stadium'\n",
    "   \n",
    "    elif Stadium == 'Lambeau field':\n",
    "        return 'Lambeau Field'\n",
    "\n",
    "    elif Stadium == 'Los Angeles Memorial Coliesum':\n",
    "        return 'Los Angeles Memorial Coliseum'\n",
    "    \n",
    "    elif Stadium in ('M & T Bank Stadium', 'M&T Stadium'):\n",
    "        return 'M&T Bank Stadium'\n",
    "\n",
    "    elif Stadium in ('Mercedes-Benz Dome', 'Mercedes-Benz Superdome'):\n",
    "        return 'Mercedes-Benz SuperDome'\n",
    "    \n",
    "    elif Stadium in ('MetLife Stadium', 'Metlife Stadium', 'MetLife'):\n",
    "        return 'MetLife Stadium' \n",
    "    \n",
    "    elif Stadium == 'NRG':\n",
    "        return 'NRG Stadium' \n",
    "\n",
    "    elif Stadium == 'Oakland-Alameda County Coliseum':\n",
    "        return 'Oakland Alameda-County Coliseum' \n",
    "    \n",
    "    elif Stadium == 'Paul Brown Stdium':\n",
    "        return 'Paul Brown Stadium' \n",
    "\n",
    "    elif Stadium == 'Twickenham':\n",
    "        return 'Twickenham Stadium' \n",
    "    \n",
    "    else:\n",
    "        return Stadium\n",
    "    \n",
    "# Funcao para agrupar a localizacao do estadio e do jogo\n",
    "def agrupar_local(Location):\n",
    "\n",
    "    if Location == \"Arlington, Texas\":\n",
    "        return \"Arlington, TX\"\n",
    "    elif Location in (\"Baltimore, Maryland\",\"Baltimore, Md.\"):\n",
    "        return \"Baltimore, MD\"\n",
    "    elif Location == \"Charlotte, North Carolina\":\n",
    "        return \"Charlotte, NC\"\n",
    "    elif Location == \"Chicago. IL\":\n",
    "        return \"Chicago, IL\"\n",
    "    elif Location == \"Cincinnati, Ohio\":\n",
    "        return \"Cincinnati, OH\"\n",
    "    elif Location in (\"Cleveland\",\"Cleveland Ohio\",\"Cleveland, Ohio\",\"Cleveland,Ohio\"):\n",
    "        return \"Cleveland, OH\"\n",
    "    elif Location == \"Detroit\":\n",
    "        return \"Detroit, MI\"\n",
    "    elif Location == \"E. Rutherford, NJ\" or Location == \"East Rutherford, N.J.\":\n",
    "        return \"East Rutherford, NJ\"\n",
    "    elif Location == \"Foxborough, Ma\":\n",
    "        return \"Foxborough, MA\"\n",
    "    elif Location == \"Houston, Texas\":\n",
    "        return \"Houston, TX\"\n",
    "    elif Location in (\"Jacksonville Florida\",\"Jacksonville, Fl\",\"Jacksonville, Florida\"):\n",
    "        return \"Jacksonville, FL\"\n",
    "    elif Location == \"London\":\n",
    "        return \"London, England\"\n",
    "    elif Location == \"Los Angeles, Calif.\":\n",
    "        return \"Los Angeles, CA\"\n",
    "    elif Location == \"Miami Gardens, Fla.\":\n",
    "        return \"Miami Gardens, FLA\"\n",
    "    elif Location in (\"New Orleans\",\"New Orleans, La.\"):\n",
    "        return \"New Orleans, LA\"\n",
    "    elif Location == \"Orchard Park NY\":\n",
    "        return \"Orchard Park, NY\"\n",
    "    elif Location == \"Philadelphia, Pa.\":\n",
    "        return \"Philadelphia, PA\"\n",
    "    elif Location == \"Pittsburgh\":\n",
    "        return \"Pittsburgh, PA\"\n",
    "    elif Location == \"Seattle\":\n",
    "        return \"Seattle, WA\"\n",
    "    else:\n",
    "        return Location\n",
    "    \n",
    "# Funcao para agrupar o gramado do estadio\n",
    "def agrupar_gramado(Turf):\n",
    "    if Turf == 'Artifical':\n",
    "        return 'Artificial'\n",
    "    \n",
    "    elif Turf in ('FieldTurf', 'Field turf'):\n",
    "        return 'Field Turf'\n",
    "\n",
    "    elif Turf in ('FieldTurf360', 'FieldTurf 360'):\n",
    "        return 'Field Turf 360'\n",
    "\n",
    "    elif Turf in ('Natural', 'Natural grass', 'Naturall Grass', 'grass', 'natural grass', 'SISGrass', 'Natural Grass'):\n",
    "        return \"Grass\"\n",
    "\n",
    "    elif Turf == \"UBU Sports Speed S5-M\":\n",
    "        return \"UBU Speed Series-S5-M\"\n",
    "\n",
    "    else:\n",
    "        return Turf\n",
    "\n",
    "# Funcao para agrupar os dados de direcao do vento\n",
    "def agrupa_wind_direction(WindDirection):\n",
    "    wd = str(WindDirection).upper()\n",
    "    \n",
    "    if wd == 'N' or 'FROM N' in wd:\n",
    "        return 'north'\n",
    "    if wd == 'S' or 'FROM S' in wd:\n",
    "        return 'south'\n",
    "    if wd == 'W' or 'FROM W' in wd:\n",
    "        return 'west'\n",
    "    if wd == 'E' or 'FROM E' in wd:\n",
    "        return 'east'\n",
    "    \n",
    "    if 'FROM SW' in wd or 'FROM SSW' in wd or 'FROM WSW' in wd:\n",
    "        return 'south west'\n",
    "    if 'FROM SE' in wd or 'FROM SSE' in wd or 'FROM ESE' in wd:\n",
    "        return 'south east'\n",
    "    if 'FROM NW' in wd or 'FROM NNW' in wd or 'FROM WNW' in wd:\n",
    "        return 'north west'\n",
    "    if 'FROM NE' in wd or 'FROM NNE' in wd or 'FROM ENE' in wd:\n",
    "        return 'north east'\n",
    "    \n",
    "    if 'NW' in wd or 'NORTHWEST' in wd:\n",
    "        return 'north west'\n",
    "    if 'NE' in wd or 'NORTH EAST' in wd:\n",
    "        return 'north east'\n",
    "    if 'SW' in wd or 'SOUTHWEST' in wd:\n",
    "        return 'south west'\n",
    "    if 'SE' in wd or 'SOUTHEAST' in wd:\n",
    "        return 'south east'\n",
    "\n",
    "    return 'unknown'\n",
    "\n",
    "# Funcao para agrupar as descricoes de clima\n",
    "def agrupar_clima(GameWeather):\n",
    "    chuva   = ['Rainy', 'Rain Chance 40%', 'Showers',\n",
    "               'Cloudy with periods of rain, thunder possible. Winds shifting to WNW, 10-20 mph.',\n",
    "               'Scattered Showers', 'Cloudy, Rain', 'Rain shower', 'Light Rain', 'Rain']\n",
    "    nublado = ['Cloudy, light snow accumulating 1-3\"', 'Party Cloudy', 'Cloudy, chance of rain',\n",
    "               'Coudy', 'Cloudy, 50% change of rain', 'Rain likely, temps in low 40s.',\n",
    "               'Cloudy and cold', 'Cloudy, fog started developing in 2nd quarter',\n",
    "               'Partly Clouidy', '30% Chance of Rain', 'Mostly Coudy', 'Cloudy and Cool',\n",
    "               'cloudy', 'Partly cloudy', 'Overcast', 'Hazy', 'Mostly cloudy', 'Mostly Cloudy',\n",
    "               'Partly Cloudy', 'Cloudy']\n",
    "    limpo   = ['Partly clear', 'Sunny and clear', 'Sun & clouds', 'Clear and Sunny',\n",
    "               'Sunny and cold', 'Sunny Skies', 'Clear and Cool', 'Clear and sunny',\n",
    "               'Sunny, highs to upper 80s', 'Mostly Sunny Skies', 'Cold',\n",
    "               'Clear and warm', 'Sunny and warm', 'Clear and cold', 'Mostly sunny',\n",
    "               'T: 51; H: 55; W: NW 10 mph', 'Clear Skies', 'Clear skies', 'Partly sunny',\n",
    "               'Fair', 'Partly Sunny', 'Mostly Sunny', 'Clear', 'Sunny']\n",
    "    neve    = ['Heavy lake effect snow', 'Snow']\n",
    "    none    = ['N/A Indoor', 'Indoors', 'Indoor', 'N/A (Indoors)', 'Controlled Climate']\n",
    "\n",
    "    \n",
    "    if GameWeather in chuva:\n",
    "        return 'chuva'\n",
    "    elif GameWeather in nublado:\n",
    "        return 'nublado'\n",
    "    elif GameWeather in limpo:\n",
    "        return 'limpo'\n",
    "    elif GameWeather in neve:\n",
    "        return 'neve'\n",
    "    elif GameWeather in none:\n",
    "        return 'none'\n",
    "    else:\n",
    "        return 'none' # se for n/a\n",
    "    \n",
    "# Funcao para converter a velocidade do vento\n",
    "def convert_wind_speed(WindSpeed):\n",
    "    ws = str(WindSpeed)\n",
    "\n",
    "    if ws.isdigit():\n",
    "        return int(ws)\n",
    "\n",
    "    if '-' in ws:\n",
    "        return int(ws.split('-')[0])\n",
    "\n",
    "    if ws.split(' ')[0].isdigit():\n",
    "        return int(ws.split(' ')[0])\n",
    "\n",
    "    if 'mph' in ws.lower():\n",
    "        return int(ws.lower().split('mph')[0])\n",
    "    else:\n",
    "        return 0\n",
    "    \n",
    "    \n",
    "# Funcao para converter altura de feet-inches para centimetros\n",
    "def convert_to_cm(ft_in):\n",
    "    h_ft   = int(ft_in.split('-')[0])\n",
    "    h_inch = int(ft_in.split('-')[1])\n",
    "    h_inch += h_ft * 12\n",
    "    h_cm = round(h_inch * 2.54, 1)\n",
    "    #print(\"Your height is : %d cm.\" % h_cm)   \n",
    "    \n",
    "    return h_cm\n",
    "\n",
    "# Funcao para converter peso em lbs para kg\n",
    "def convert_to_kg(lbs):\n",
    "    kg = lbs * 0.45359237\n",
    "    #print(\"The weight is\", kg, \"in kilograms\")\n",
    "    \n",
    "    return kg\n",
    "\n",
    "# Funcao para converter temperatura Fahrenheit para Celsius\n",
    "def convert_to_celsius(fah):\n",
    "    celsius = (fah - 32) * 5.0/9.0\n",
    "    #print(\"Temperature:\", fah, \"Fahrenheit = \", celsius, \" C\")\n",
    "    return celsius\n",
    "\n",
    "# Funcao para converter as features de data e extrair dia, mes, ano, hora, minuto, segundo\n",
    "def convert_data(data):\n",
    "    #data['PlayerBirthDate'] = pd.to_datetime(data['PlayerBirthDate'], \"%m/%d/%Y\")\n",
    "    data['PlayerBirthDate'] = data['PlayerBirthDate'].apply(lambda x: datetime.datetime.strptime(x, \"%m/%d/%Y\"))\n",
    "    data['PlayerBirthDate_day'] = data['PlayerBirthDate'].dt.day.astype(int)\n",
    "    data['PlayerBirthDate_month'] = data['PlayerBirthDate'].dt.month.astype(int)\n",
    "    data['PlayerBirthDate_year'] = data['PlayerBirthDate'].dt.year.astype(int)\n",
    "\n",
    "    data['TimeSnap'] = data['TimeSnap'].apply(lambda x: datetime.datetime.strptime(x, \"%Y-%m-%dT%H:%M:%S.%fZ\"))\n",
    "    #data['TimeSnap'] = pd.to_datetime(data['TimeSnap'], \"%Y-%m-%dT%H:%M:%S.%fZ\")\n",
    "    data['TimeSnap_min'] = data['TimeSnap'].dt.minute.astype(int)\n",
    "    data['TimeSnap_seg'] = data['TimeSnap'].dt.second.astype(int)\n",
    "    \n",
    "    data['TimeHandoff'] = data['TimeHandoff'].apply(lambda x: datetime.datetime.strptime(x, \"%Y-%m-%dT%H:%M:%S.%fZ\"))\n",
    "    #data['TimeHandoff'] = pd.to_datetime(data['TimeHandoff'], \"%Y-%m-%dT%H:%M:%S.%fZ\")\n",
    "    data['TimeHandoff_min'] = data['TimeHandoff'].dt.minute.astype(int)\n",
    "    data['TimeHandoff_seg'] = data['TimeHandoff'].dt.second.astype(int)\n",
    "    \n",
    "    \n",
    "    \n",
    "# Funcao para converter uma string horario em segundos\n",
    "def str_to_seconds(time):\n",
    "    time = time.split(':')\n",
    "    sec = int(time[0])*60 + int(time[1]) + int(time[2])/60\n",
    "    return sec\n",
    "    \n",
    "# Funcao para criar um plot de distribuicao para cada feature\n",
    "def plot_distribution(dataset, cols=5, width=20, height=25, hspace=0.4, wspace=0.5):\n",
    "    \"\"\"\n",
    "    Plot distributions for each column in a dataset.\n",
    "    Seaborn countplots are used for categorical data and distplots for numerical data\n",
    "\n",
    "    args:\n",
    "    ----\n",
    "    dataset {dataframe} - the data that will be plotted\n",
    "    cols {int} - how many distributions to plot for each row\n",
    "    width {int} - how wide each plot should be\n",
    "    height {int} - how tall each plot should be\n",
    "    hspace {float} - horizontal space between plots\n",
    "    wspace {float} - vertical space between plots \n",
    "    \"\"\"\n",
    "    # plot styling\n",
    "    plt.style.use('fivethirtyeight')\n",
    "    fig = plt.figure(figsize=(width, height))\n",
    "    fig.subplots_adjust(left=None, bottom=None, right=None, top=None, wspace=wspace, hspace=hspace)\n",
    "    # calculate rows needed\n",
    "    rows = math.ceil(float(dataset.shape[1]) / cols)\n",
    "    # create a countplot for top 20 categorical values\n",
    "    # and a distplot for all numerical values\n",
    "    for i, column in enumerate(dataset.columns):\n",
    "        ax = fig.add_subplot(rows, cols, i + 1)\n",
    "        ax.set_title(column)\n",
    "        if dataset.dtypes[column] == np.object:\n",
    "            # grab the top 10 for each countplot\n",
    "            g = sns.countplot(y=column, \n",
    "                              data=dataset,\n",
    "                              order=dataset[column].value_counts().index[:10])\n",
    "            # make labels only 20 characters long and rotate x labels for nicer displays\n",
    "            substrings = [s.get_text()[:20] for s in g.get_yticklabels()]\n",
    "            g.set(yticklabels=substrings)\n",
    "            plt.xticks(rotation=25)\n",
    "        else:\n",
    "            g = sns.distplot(dataset[column])\n",
    "            plt.xticks(rotation=25)"
   ]
  },
  {
   "cell_type": "markdown",
   "metadata": {},
   "source": [
    "# 4. Resolvendo missing values e realizando limpeza das features"
   ]
  },
  {
   "cell_type": "code",
   "execution_count": null,
   "metadata": {},
   "outputs": [],
   "source": [
    "# Primeiro, vou preencher os dados missing e conversao das datas\n",
    "fill_na(eda_df)\n",
    "convert_data(eda_df)\n",
    "\n",
    "# Executar a funcao para converter a altura do jogador em cm\n",
    "eda_df['PlayerHeight'] = eda_df['PlayerHeight'].apply(convert_to_cm)\n",
    "\n",
    "# Executar a funcao para converter a altura do jogador em cm\n",
    "eda_df['PlayerWeight'] = eda_df['PlayerWeight'].apply(convert_to_kg)\n",
    "\n",
    "# Executar a funcao para converter a temperatura em Celsius\n",
    "eda_df['Temperature'] = eda_df['Temperature'].apply(convert_to_celsius)\n",
    "\n",
    "# Executar a funcao para agrupar o nome dos tipos de estadios\n",
    "eda_df['StadiumType'] = eda_df['StadiumType'].apply(agrupar_tipo_estadio)\n",
    "\n",
    "# Executar a funcao de agrupar os nomes dos estadios\n",
    "eda_df['Stadium'] = eda_df['Stadium'].apply(agrupar_estadio)\n",
    "\n",
    "# Executar a funcao de agrupar a descricao dos locais dos jogos\n",
    "eda_df['Location'] = eda_df['Location'].apply(agrupar_local)\n",
    "\n",
    "# Executar a funcao de agrupar a descricao dos locais dos jogos\n",
    "eda_df['Turf'] = eda_df['Turf'].apply(agrupar_gramado)\n",
    "\n",
    "# Executar a funcao de agrupar a descricao da direção do vento\n",
    "eda_df['WindDirection'] = eda_df['WindDirection'].apply(agrupa_wind_direction)\n",
    "\n",
    "# Executar a funcao de converter a velocidade do vento para numerico\n",
    "eda_df['WindSpeed'] = eda_df['WindSpeed'].apply(convert_wind_speed)\n",
    "\n",
    "# Executar a funcao de agrupar a descricao do clima\n",
    "eda_df['GameWeather'] = eda_df['GameWeather'].apply(agrupar_clima)\n",
    "\n",
    "# Executar a funcao para converter o horario do jogo em segundos\n",
    "eda_df['GameClock'] = eda_df['GameClock'].apply(str_to_seconds)"
   ]
  },
  {
   "cell_type": "markdown",
   "metadata": {},
   "source": [
    "# 5. Analisando Correlacoes"
   ]
  },
  {
   "cell_type": "code",
   "execution_count": null,
   "metadata": {},
   "outputs": [],
   "source": [
    "# Correlação de Pearson\n",
    "cor_mat = eda_df.corr(method = 'pearson')\n",
    "\n",
    "# Visualizando o grafico de heatmap\n",
    "f, ax = plt.subplots(figsize=(18, 18))\n",
    "sns.heatmap(cor_mat,linewidths=.1,fmt= '.3f',ax=ax,square=True,cbar=True,annot=True)"
   ]
  },
  {
   "cell_type": "markdown",
   "metadata": {},
   "source": [
    "# 6. Analisando todas as features do dataset\n",
    "- Neste momento as analises serao com base em um novo dataset\n",
    "- Esse dataset será com base no jogador que está jogando\n",
    "- Essa analise foi identificada depois de verificar as features NflId e NflIdRusher\n",
    "- Essas duas features sao vinculadas, onde é possivel obter o jogador participante da jogada e obter a quantidade de jardas ganhas ou perdidas"
   ]
  },
  {
   "cell_type": "code",
   "execution_count": null,
   "metadata": {},
   "outputs": [],
   "source": [
    "# a unique play identifier\n",
    "# Sao 22 registros por jogada\n",
    "# Pois sao 11 jogadores do time da casa e 11 jogadores do time visitante\n",
    "eda_df['PlayId'].value_counts().head()"
   ]
  },
  {
   "cell_type": "code",
   "execution_count": null,
   "metadata": {},
   "outputs": [],
   "source": [
    "# Vinculando o NFLid e NFLidRusher\n",
    "train_jog = eda_df[eda_df['NflId'] == eda_df['NflIdRusher']]\n",
    "print(train_jog.shape)"
   ]
  },
  {
   "cell_type": "code",
   "execution_count": null,
   "metadata": {},
   "outputs": [],
   "source": [
    "# Quando realizado a ligacao entre NflId e NflIdRusher\n",
    "# Verifica que agora cada jogada tem um unico registro\n",
    "# e unica jarda obtida\n",
    "train_jog['PlayId'].value_counts().head()"
   ]
  },
  {
   "cell_type": "code",
   "execution_count": null,
   "metadata": {
    "scrolled": false
   },
   "outputs": [],
   "source": [
    "# Exemplo mostrando a sequencia das jogadas de um jogo que contabilizou mudanca de jardas (+ ou -)\n",
    "# É possivel identificar que essa sequencia é crescente, e registrada em PlayId\n",
    "# Usando o filtro de apenas uma partida de 2017\n",
    "train_jog[train_jog['GameId'] == 2017090700].head(10)"
   ]
  },
  {
   "cell_type": "markdown",
   "metadata": {},
   "source": [
    "### Analisando a variavel target 'Yards'\n",
    "- Extraindo os dados estatisticos, verifica a distribuição está entre -14 à 99\n",
    "- Isso significa que em algumas jogadas existe um ganho de jardas e em outras perda de jardas\n",
    "- Metade dos registros estao em 3 jardas ganhas"
   ]
  },
  {
   "cell_type": "code",
   "execution_count": null,
   "metadata": {},
   "outputs": [],
   "source": [
    "# Descricao: o número de jardas ganha na jogada (variavel a ser prevista)\n",
    "train_jog['Yards'].describe()"
   ]
  },
  {
   "cell_type": "code",
   "execution_count": null,
   "metadata": {},
   "outputs": [],
   "source": [
    "# Analisando a variavel target 'Yards'\n",
    "sns.set_style(\"white\")\n",
    "sns.set_color_codes(palette='deep')\n",
    "f, ax = plt.subplots(figsize=(18, 8))\n",
    "\n",
    "# Fit a normal distribution\n",
    "mu, std = norm.fit(train_jog[\"Yards\"])\n",
    "\n",
    "# Verificando a distribuicao de frequencia da variavel Yards\n",
    "sns.distplot(train_jog[\"Yards\"], color=\"b\", fit = stats.norm)\n",
    "ax.xaxis.grid(False)\n",
    "ax.set(ylabel=\"Frequency\")\n",
    "ax.set(xlabel=\"Yards\")\n",
    "ax.set(title=\"Yards distribution: mu = %.2f,  std = %.2f\" % (mu, std))\n",
    "sns.despine(trim=True, left=True)\n",
    "\n",
    "# Adicionando Skewness e Kurtosis\n",
    "ax.text(x=1.1, y=1, transform=ax.transAxes, s=\"Skewness: %f\" % train_jog[\"Yards\"].skew(),\\\n",
    "        fontweight='demibold', fontsize=10, verticalalignment='top', horizontalalignment='right',\\\n",
    "        backgroundcolor='white', color='xkcd:poo brown')\n",
    "ax.text(x=1.1, y=0.95, transform=ax.transAxes, s=\"Kurtosis: %f\" % train_jog[\"Yards\"].kurt(),\\\n",
    "        fontweight='demibold', fontsize=10, verticalalignment='top', horizontalalignment='right',\\\n",
    "        backgroundcolor='white', color='xkcd:dried blood')\n",
    "\n",
    "plt.show()"
   ]
  },
  {
   "cell_type": "markdown",
   "metadata": {
    "scrolled": true
   },
   "source": [
    "### Analisando as variaveis do JOGADOR\n",
    "- **PlayerHeight:** altura do jogador no formato feet-inches\n",
    "- **PlayerWeight:** peso do jogador no formato lbs\n",
    "- **PlayerBirthDate:** data de nascimento do jogador\n",
    "- **PlayerCollegeName:** faculdade que o jogador frequentou\n",
    "- **Position:** posição principal do jogador\n",
    "- **JerseyNumber:** \n",
    "   - Refere se aos números do uniformes dos jogadores que vai de 1 a 99. Atacantes usam de  50 a 79 e nao tem permissao por exemplo para manipular uma jogada de scrimmage a não ser que reportem ao árbitro que estao jogando fora de posição"
   ]
  },
  {
   "cell_type": "code",
   "execution_count": null,
   "metadata": {},
   "outputs": [],
   "source": [
    "# Visualizando o grafico de distribuicao para cada feature do jogador\n",
    "columns_to_plot = ['PlayerHeight', 'PlayerWeight', 'PlayerBirthDate_year', 'PlayerCollegeName', 'JerseyNumber', 'Position']\n",
    "plot_distribution(train_jog[columns_to_plot], cols=3, width=30, height=20, hspace=0.45, wspace=0.5)"
   ]
  },
  {
   "cell_type": "code",
   "execution_count": null,
   "metadata": {},
   "outputs": [],
   "source": [
    "# Exibe o grafico de scatterPlot com a relacao entre Altura do Jogador e Jardas\n",
    "plt.figure(figsize=(18, 8))\n",
    "sns.regplot(x='PlayerHeight', y='Yards', data=train_jog, color='b', x_jitter=1)\n",
    "plt.xlabel('Altura do Jogador')\n",
    "plt.ylabel('Jardas avancadas')\n",
    "plt.title('Altura do Jogador vs Jardas', fontsize=20)\n",
    "plt.show()"
   ]
  },
  {
   "cell_type": "code",
   "execution_count": null,
   "metadata": {},
   "outputs": [],
   "source": [
    "# Exibe o grafico de scatterPlot com a relacao entre Peso do Jogador e Jardas\n",
    "plt.figure(figsize=(18, 8))\n",
    "sns.regplot(x='PlayerWeight', y='Yards', data=train_jog, color='b', x_jitter=1)\n",
    "plt.xlabel('Peso do Jogador')\n",
    "plt.ylabel('Jardas avancadas')\n",
    "plt.title('Peso do Jogador vs Jardas', fontsize=20)\n",
    "plt.show()"
   ]
  },
  {
   "cell_type": "code",
   "execution_count": null,
   "metadata": {},
   "outputs": [],
   "source": [
    "# Exibe o grafico de scatterPlot com a relacao entre Altura e Peso do jogador\n",
    "# É uma relacao de regressao positiva, onde quanto maais alto, mais pesado o jogador\n",
    "plt.figure(figsize=(18, 8))\n",
    "sns.regplot(x='PlayerHeight', y='PlayerWeight', data=train_jog, color='g', x_jitter=1)\n",
    "plt.xlabel('Altura')\n",
    "plt.ylabel('Peso')\n",
    "plt.title('Altura vs Peso', fontsize=20)\n",
    "plt.show()"
   ]
  },
  {
   "cell_type": "code",
   "execution_count": null,
   "metadata": {},
   "outputs": [],
   "source": [
    "# Verificando jogadores acima de 140kg\n",
    "# Encontrado apenas 1 jogador: Akiem Hicks\n",
    "# A imagem abaixo mostra este jogador\n",
    "train_jog[train_jog['PlayerWeight'] >= 140.00].head()"
   ]
  },
  {
   "cell_type": "code",
   "execution_count": null,
   "metadata": {},
   "outputs": [],
   "source": [
    "from IPython.display import Image\n",
    "Image(url = '../images/Akiem_Hicks.jpg',width=400,height=400)"
   ]
  },
  {
   "cell_type": "code",
   "execution_count": null,
   "metadata": {},
   "outputs": [],
   "source": [
    "# Verificando jogadores com menos de 70kg\n",
    "# Encontrado apenas 1 jogador: JoJo Natson\n",
    "# A imagem abaixo mostra este jogador\n",
    "train_jog[train_jog['PlayerWeight'] <= 70.00].head()"
   ]
  },
  {
   "cell_type": "code",
   "execution_count": null,
   "metadata": {},
   "outputs": [],
   "source": [
    "#from IPython.display import Image\n",
    "#Image(url = '../images/Jojo_Natson.jpg',width=400,height=400)"
   ]
  },
  {
   "cell_type": "code",
   "execution_count": null,
   "metadata": {},
   "outputs": [],
   "source": [
    "# Exibe o grafico de scatterPlot com a relacao entre Ano de nascimento do Jogador e Jardas\n",
    "plt.figure(figsize=(18, 8))\n",
    "sns.regplot(x='PlayerBirthDate_year', y='Yards', data=train_jog, color='b', x_jitter=2)\n",
    "plt.xlabel('Ano')\n",
    "plt.ylabel('Jardas avancadas')\n",
    "plt.title('Ano de Nascimento do Jogador vs Jardas', fontsize=20)\n",
    "plt.show()"
   ]
  },
  {
   "cell_type": "code",
   "execution_count": null,
   "metadata": {},
   "outputs": [],
   "source": [
    "# Exibe o grafico de catPlot com a relacao entre o clima e Jardas\n",
    "g = sns.catplot(x='PlayerCollegeName', y='Yards', hue='Season', data=train_jog, height=8, aspect=2)\n",
    "g.set_xticklabels(rotation=90)"
   ]
  },
  {
   "cell_type": "code",
   "execution_count": null,
   "metadata": {},
   "outputs": [],
   "source": [
    "# Exibe o grafico de scatterPlot com a relacao entre JerseyNumber e Jardas\n",
    "plt.figure(figsize=(18, 8))\n",
    "sns.regplot(x='JerseyNumber', y='Yards', data=train_jog, color='b', x_jitter=2)\n",
    "plt.xlabel('Jersey Number')\n",
    "plt.ylabel('Jardas avancadas')\n",
    "plt.title('Número Jersey vs Jardas', fontsize=20)\n",
    "plt.show()"
   ]
  },
  {
   "cell_type": "code",
   "execution_count": null,
   "metadata": {},
   "outputs": [],
   "source": [
    "train_jog['Position'].value_counts()"
   ]
  },
  {
   "cell_type": "code",
   "execution_count": null,
   "metadata": {},
   "outputs": [],
   "source": [
    "# Exibe o grafico de catPlot com a relacao entre o Posição Principal do Jogador e Jardas\n",
    "g = sns.catplot(x='Position', y='Yards', hue='Season', data=train_jog, kind=\"box\", height=8, aspect=2)\n",
    "g.set_xticklabels(rotation=90)"
   ]
  },
  {
   "cell_type": "code",
   "execution_count": null,
   "metadata": {},
   "outputs": [],
   "source": [
    "# Exibe o grafico linear com a relacao entre Peso, Posição e Jardas\n",
    "g = sns.lmplot(x='PlayerWeight', y='Yards', data=train_jog, \n",
    "               x_jitter=.2, col=\"Position\" , height=6, aspect=1, col_wrap=5)"
   ]
  },
  {
   "cell_type": "markdown",
   "metadata": {},
   "source": [
    "### Analisando as variaveis gerais da PARTIDA\n",
    "- **Season:** ano da temporada\n",
    "- **Week:** semana do jogo\n",
    "- **Team:** detalhes dos times: donos da casa ou visitante (home or away)\n",
    "- **StadiumType:** nome do tipo do estádio de futebol americano\n",
    "- **Stadium:** nome do estádio de futebol americano\n",
    "- **Location:**: localização do estádio\n",
    "- **Turf:** superfície do gramado do estádio\n",
    "- **GameClock:** hora da partida\n",
    "- **HomeTeamAbbr:** abreviação do time da casa\n",
    "- **VisitorTeamAbbr:** abreviação do time visitante"
   ]
  },
  {
   "cell_type": "code",
   "execution_count": null,
   "metadata": {},
   "outputs": [],
   "source": [
    "# Visualizando o grafico de distribuicao para cada feature do jogador\n",
    "columns_to_plot = ['Season', 'Week', 'Team', 'StadiumType', 'Stadium', \n",
    "                   'Location', 'Turf', 'GameClock', 'HomeTeamAbbr', 'VisitorTeamAbbr']\n",
    "plot_distribution(train_jog[columns_to_plot], cols=3, width=30, height=20, hspace=0.45, wspace=0.5)"
   ]
  },
  {
   "cell_type": "code",
   "execution_count": null,
   "metadata": {},
   "outputs": [],
   "source": [
    "# Exibe o grafico linear com a relacao entre Season e Jardas\n",
    "g = sns.lmplot(x='Season', y='Yards', hue='Season', data=train_jog, x_jitter=.2, col=\"Season\" , height=10)"
   ]
  },
  {
   "cell_type": "code",
   "execution_count": null,
   "metadata": {},
   "outputs": [],
   "source": [
    "# Exibe o grafico linear com a relacao entre Season, Semana e Jardas\n",
    "g = sns.lmplot(x='Week', y='Yards', hue='Season', data=train_jog, x_jitter=.2, col=\"Season\" , height=10)"
   ]
  },
  {
   "cell_type": "code",
   "execution_count": null,
   "metadata": {},
   "outputs": [],
   "source": [
    "# Season tem uma correlação de 1.0 com GameId e PlayId. Exemplo abaixo com 2017 e 2018:\n",
    "# GameId e PlayId contem o ano e mais algumas informacoes\n",
    "# Parece ser o mes e o dia e mais um identificador\n",
    "# Talvez seria necessario deixar a variavel GameId e PlayId somente com o indicador individual\n",
    "tmp = train_jog.set_index('Season')\n",
    "print(tmp.loc[[2017], ['GameId','PlayId']].head(1))\n",
    "print(tmp.loc[[2018], ['GameId','PlayId']].head(1))"
   ]
  },
  {
   "cell_type": "raw",
   "metadata": {},
   "source": [
    "# Verificando quais sao os estadios que ficaram com tipo de estadio indefinido\n",
    "# Sao tres estadios\n",
    "# Vou dar uma olhada para saber se tem um tipo definido para eles\n",
    "q1 = \"\"\"SELECT StadiumType, Stadium\n",
    "          FROM train\n",
    "        WHERE StadiumType = 'unknown'\n",
    "        GROUP BY StadiumType, Stadium\"\"\"\n",
    "ps.sqldf(q1, locals())"
   ]
  },
  {
   "cell_type": "raw",
   "metadata": {},
   "source": [
    "# Para o MetLife Stadium\n",
    "# Vou tentar encaixar o tipo indefinido\n",
    "q1 = \"\"\"SELECT StadiumType, Stadium\n",
    "          FROM train\n",
    "        WHERE Stadium IN ('MetLife Stadium', 'StubHub Center', 'TIAA Bank Field')\n",
    "        GROUP BY StadiumType, Stadium\n",
    "        ORDER BY Stadium, StadiumType\"\"\"\n",
    "ps.sqldf(q1, locals())"
   ]
  },
  {
   "cell_type": "code",
   "execution_count": null,
   "metadata": {},
   "outputs": [],
   "source": [
    "# MetLife Stadium só tem OUTDOOR\n",
    "# Vou atribuir o tipo indefinido para outdoor\n",
    "from IPython.display import Image\n",
    "Image(url = '../images/MetLife_Stadium.jpeg',width=400,height=400)"
   ]
  },
  {
   "cell_type": "code",
   "execution_count": null,
   "metadata": {},
   "outputs": [],
   "source": [
    "# StubHub Center so tem OUTDOOR\n",
    "# Vou atribuir o tipo indefinido para outdoor\n",
    "from IPython.display import Image\n",
    "Image(url = '../images/StubHub_center.jpg',width=400,height=400)"
   ]
  },
  {
   "cell_type": "code",
   "execution_count": null,
   "metadata": {},
   "outputs": [],
   "source": [
    "# Corrigindo a feature Stadium\n",
    "train_jog.loc[train_jog['Stadium'] == 'MetLife Stadium', 'StadiumType'] = 'outdoor'\n",
    "train_jog.loc[train_jog['Stadium'] == 'StubHub Center', 'StadiumType'] = 'outdoor'"
   ]
  },
  {
   "cell_type": "code",
   "execution_count": null,
   "metadata": {},
   "outputs": [],
   "source": [
    "# Vista do estadio Mercedes_Benz onde tem varios tipos de modos de jogo\n",
    "from IPython.display import Image\n",
    "Image(url = '../images/Mercedes_Benz Stadium.jpg',width=400,height=400)"
   ]
  },
  {
   "cell_type": "code",
   "execution_count": null,
   "metadata": {},
   "outputs": [],
   "source": [
    "# Exibe o grafico linear com a relacao entre Semana, Tipo de Estadio, Temporada e Jardas\n",
    "g = sns.lmplot(x='Week', y='Yards', hue='Season', data=train_jog, \n",
    "               x_jitter=.2, col=\"StadiumType\" , height=8, col_wrap=3)"
   ]
  },
  {
   "cell_type": "code",
   "execution_count": null,
   "metadata": {},
   "outputs": [],
   "source": [
    "# Exibe o grafico de scatterPlot com a relacao entre Estadio e Jardas\n",
    "g = sns.catplot(x='Stadium', y='Yards', hue='Season', data=train_jog, \n",
    "                kind=\"violin\", split=True, height=8, aspect=2)\n",
    "g.set_xticklabels(rotation=90)"
   ]
  },
  {
   "cell_type": "code",
   "execution_count": null,
   "metadata": {},
   "outputs": [],
   "source": [
    "# Exibe o grafico de scatterPlot com a relacao entre Estadio e Jardas\n",
    "g = sns.catplot(x='Location', y='Yards', hue='Season', data=train_jog, \n",
    "                kind=\"violin\", split=True, height=8, aspect=2)\n",
    "g.set_xticklabels(rotation=90)"
   ]
  },
  {
   "cell_type": "code",
   "execution_count": null,
   "metadata": {
    "scrolled": true
   },
   "outputs": [],
   "source": [
    "# description of the field surface\n",
    "# Tipos de gramados dos estadios\n",
    "train_jog.groupby('Turf').size()"
   ]
  },
  {
   "cell_type": "code",
   "execution_count": null,
   "metadata": {},
   "outputs": [],
   "source": [
    "# Exibe o grafico de catPlot com a relacao entre Estadio e Jardas\n",
    "g = sns.catplot(x='Turf', y='Yards', hue='Season', data=train_jog, kind=\"box\", height=8, aspect=2)\n",
    "g.set_xticklabels(rotation=90)"
   ]
  },
  {
   "cell_type": "code",
   "execution_count": null,
   "metadata": {},
   "outputs": [],
   "source": [
    "# Exibe o grafico de distribuicao da feature GameClock\n",
    "g = sns.distplot(train_jog['GameClock'])"
   ]
  },
  {
   "cell_type": "markdown",
   "metadata": {},
   "source": [
    "### Analisando as variaveis gerais do AMBIENTE\n",
    "- **GameWeather:** clima\n",
    "- **Temperature:** temperatura ambiente (em Fahrenheit)\n",
    "- **Humidity:** umidade do ar\n",
    "- **WindDirection:** direção do vento\n",
    "- **WindSpeed:** velocidade do vento"
   ]
  },
  {
   "cell_type": "code",
   "execution_count": null,
   "metadata": {},
   "outputs": [],
   "source": [
    "# Visualizando o grafico de distribuicao para cada feature do ambiente\n",
    "columns_to_plot = ['GameWeather', 'Temperature', 'Humidity', 'WindDirection', 'WindSpeed']\n",
    "plot_distribution(train_jog[columns_to_plot], cols=3, width=30, height=20, hspace=0.45, wspace=0.5)"
   ]
  },
  {
   "cell_type": "code",
   "execution_count": null,
   "metadata": {},
   "outputs": [],
   "source": [
    "# Exibe o grafico de catPlot com a relacao entre o clima e Jardas\n",
    "g = sns.catplot(x='GameWeather', y='Yards', hue='Season', data=train_jog, kind=\"box\", height=8, aspect=2)\n",
    "g.set_xticklabels(rotation=90)"
   ]
  },
  {
   "cell_type": "code",
   "execution_count": null,
   "metadata": {},
   "outputs": [],
   "source": [
    "# Exibe o grafico de scatterPlot com a relacao entre Temperatura e Jardas\n",
    "plt.figure(figsize=(18, 8))\n",
    "sns.regplot(x='Temperature', y='Yards', data=train_jog, color='b', x_jitter=2)\n",
    "plt.xlabel('Temperatura')\n",
    "plt.ylabel('Jardas avancadas')\n",
    "plt.title('Temperatura(Celsius) vs Jardas', fontsize=20)\n",
    "plt.show()"
   ]
  },
  {
   "cell_type": "code",
   "execution_count": null,
   "metadata": {},
   "outputs": [],
   "source": [
    "# Exibe o grafico linear com a relacao entre Temperatura, Clima e Jardas\n",
    "g = sns.lmplot(x='Temperature', y='Yards', data=train_jog, \n",
    "               x_jitter=.2, col=\"GameWeather\" , height=6, aspect=1)"
   ]
  },
  {
   "cell_type": "code",
   "execution_count": null,
   "metadata": {},
   "outputs": [],
   "source": [
    "# Tem muitos registros com umidade 0\n",
    "# Talvez seja melhor fazer um tratamento\n",
    "train_jog['Humidity'].value_counts().head()"
   ]
  },
  {
   "cell_type": "code",
   "execution_count": null,
   "metadata": {},
   "outputs": [],
   "source": [
    "train_jog['Humidity'].describe()"
   ]
  },
  {
   "cell_type": "code",
   "execution_count": null,
   "metadata": {},
   "outputs": [],
   "source": [
    "# Exibe o grafico de scatterPlot com a relacao entre Temperatura e Jardas\n",
    "plt.figure(figsize=(18, 8))\n",
    "sns.regplot(x='Humidity', y='Yards', data=train_jog, color='b', x_jitter=2)\n",
    "plt.xlabel('Umidade')\n",
    "plt.ylabel('Jardas avancadas')\n",
    "plt.title('Umidade do Ar vs Jardas', fontsize=20)\n",
    "plt.show()"
   ]
  },
  {
   "cell_type": "code",
   "execution_count": null,
   "metadata": {},
   "outputs": [],
   "source": [
    "# Exibe o grafico linear com a relacao entre Umidade, Clima e Jardas\n",
    "# A maioria da umidade 0 está no clima NONE\n",
    "g = sns.lmplot(x='Humidity', y='Yards', data=train_jog, \n",
    "               x_jitter=.2, col=\"GameWeather\" , height=6, aspect=1)"
   ]
  },
  {
   "cell_type": "code",
   "execution_count": null,
   "metadata": {},
   "outputs": [],
   "source": [
    "train_jog['WindDirection'].value_counts()"
   ]
  },
  {
   "cell_type": "code",
   "execution_count": null,
   "metadata": {},
   "outputs": [],
   "source": [
    "# Exibe o grafico linear com a relacao entre Temperatura, Direcao do Vento e Jardas\n",
    "g = sns.lmplot(x='Temperature', y='Yards', data=train_jog, \n",
    "               x_jitter=.2, col=\"WindDirection\" , height=6, aspect=1, col_wrap=3)"
   ]
  },
  {
   "cell_type": "code",
   "execution_count": null,
   "metadata": {},
   "outputs": [],
   "source": [
    "train_jog['WindSpeed'].value_counts().head()"
   ]
  },
  {
   "cell_type": "code",
   "execution_count": null,
   "metadata": {},
   "outputs": [],
   "source": [
    "# Exibe o grafico de scatterPlot com a relacao entre Velocidade do Vento e Jardas\n",
    "plt.figure(figsize=(18, 8))\n",
    "sns.regplot(x='WindSpeed', y='Yards', data=train_jog, color='b', x_jitter=2)\n",
    "plt.xlabel('Velocidade do Vento')\n",
    "plt.ylabel('Jardas avancadas')\n",
    "plt.title('Velocidade do Vento vs Jardas', fontsize=20)\n",
    "plt.show()"
   ]
  },
  {
   "cell_type": "code",
   "execution_count": null,
   "metadata": {},
   "outputs": [],
   "source": [
    "# Exibe o grafico linear com a relacao entre Velocidade do Vento, Clima e Jardas\n",
    "# A maioria da umidade 0 está no clima NONE\n",
    "g = sns.lmplot(x='WindSpeed', y='Yards', data=train_jog, \n",
    "               x_jitter=.2, col=\"GameWeather\" , height=6, aspect=1)"
   ]
  },
  {
   "cell_type": "code",
   "execution_count": null,
   "metadata": {},
   "outputs": [],
   "source": [
    "# Exibe o grafico linear com a relacao entre Velocidade do Vento, Direcao do Vento e Jardas\n",
    "g = sns.lmplot(x='WindSpeed', y='Yards', data=train_jog, \n",
    "               x_jitter=.2, col=\"WindDirection\" , height=6, aspect=1, col_wrap=3)"
   ]
  },
  {
   "cell_type": "markdown",
   "metadata": {},
   "source": [
    "### Analisando as variaveis gerais da JOGADA (PlayId)\n",
    "- **HomeScoreBeforePlay:** score do time da casa antes da jogada iniciar\n",
    "- **VisitorScoreBeforePlay:** score do time visitante antes da jogada iniciar\n",
    "- **PossessionTeam:** time com a posse\n",
    "- **FieldPosition:** de que lado do campo a jogada está acontecendo\n",
    "- **Quarter:** quarter do jogo (1-5, 5 = overtime)\n",
    "- **PlayDirection:** direção da jogada\n",
    "- **OffensePersonnel:** posição de agrupamento da equipe ofensiva\n",
    "- **DefensePersonnel:** posição de agrupamento da equipe defensiva\n",
    "- **OffenseFormation:** formação ofensiva\n",
    "- **DefendersInTheBox:** número de defensores alinhados perto da linha de scrimmage, abrangendo a largura da linha ofensiva\n",
    "- **TimeSnap:** hora (UTC) do momento que é arremessada a bola\n",
    "- **TimeHandoff:** hora (UTC) do momento que o corredor pega a bola lançada\n",
    "- **Down:**\n",
    "- **Distance:** jardas que a equipe precisa para fazer a primeira descida\n",
    "- **Dis:**\n",
    "- **YardLine:** a linha de jarda da linha de scrimmage\n",
    "- **X:** velocidade (em jardas/segundo)\n",
    "- **A:** aceleração (em jardas/segundo^2)"
   ]
  },
  {
   "cell_type": "code",
   "execution_count": null,
   "metadata": {},
   "outputs": [],
   "source": [
    "# Visualizando o grafico de distribuicao para cada feature do ambiente\n",
    "columns_to_plot = ['HomeScoreBeforePlay', 'VisitorScoreBeforePlay', 'PossessionTeam', 'FieldPosition', 'Quarter',\n",
    "                   'PlayDirection','OffensePersonnel','DefensePersonnel','OffenseFormation','DefendersInTheBox',\n",
    "                   'Down','Distance','Dis','YardLine','X','A']\n",
    "plot_distribution(train_jog[columns_to_plot], cols=4, width=30, height=20, hspace=0.8, wspace=0.5)"
   ]
  },
  {
   "cell_type": "code",
   "execution_count": null,
   "metadata": {},
   "outputs": [],
   "source": [
    "fig, (ax1, ax2) = plt.subplots(ncols=2, figsize=(18, 8))\n",
    "\n",
    "ax1.set_title('Score do Visitante antes da Jogada')\n",
    "sns.regplot(x='VisitorScoreBeforePlay', y='Yards', data=train_jog, color='b', x_jitter=2, ax=ax1)\n",
    "\n",
    "ax2.set_title('Score do Time da Casa antes da Jogada')\n",
    "sns.regplot(x='HomeScoreBeforePlay', y='Yards', data=train_jog, color='g', x_jitter=2, ax=ax2)\n",
    "\n",
    "plt.show()"
   ]
  },
  {
   "cell_type": "code",
   "execution_count": null,
   "metadata": {},
   "outputs": [],
   "source": [
    "# Exibe o grafico de catPlot com a relacao entre PossessionTeam e Jardas\n",
    "g = sns.catplot(x='PossessionTeam', y='Yards', data=train_jog, kind=\"box\", height=8, aspect=2)\n",
    "g.set_xticklabels(rotation=90)"
   ]
  },
  {
   "cell_type": "code",
   "execution_count": null,
   "metadata": {},
   "outputs": [],
   "source": [
    "# Exibe o grafico de catPlot com a relacao entre FieldPosition e Jardas\n",
    "g = sns.catplot(x='FieldPosition', y='Yards', data=train_jog, kind=\"box\", height=8, aspect=2)\n",
    "g.set_xticklabels(rotation=90)"
   ]
  },
  {
   "cell_type": "code",
   "execution_count": null,
   "metadata": {},
   "outputs": [],
   "source": [
    "# Exibe o grafico linear com a relacao entre Distancia, Quarter e Jardas\n",
    "g = sns.lmplot(x='Distance', y='Yards', data=train_jog, x_jitter=.2, col=\"Quarter\" , height=6, aspect=1)"
   ]
  },
  {
   "cell_type": "code",
   "execution_count": null,
   "metadata": {},
   "outputs": [],
   "source": [
    "# Exibe o grafico linear com a relacao entre Distancia, Direcao da Jogada e Jardas\n",
    "g = sns.lmplot(x='Distance', y='Yards', data=train_jog, x_jitter=.2, col=\"PlayDirection\" , height=10)"
   ]
  },
  {
   "cell_type": "code",
   "execution_count": null,
   "metadata": {},
   "outputs": [],
   "source": [
    "# Exibe o grafico de catPlot com a relacao entre OffensePersonnel e Jardas\n",
    "g = sns.catplot(x='OffensePersonnel', y='Yards', data=train_jog, kind=\"violin\", height=8, aspect=2)\n",
    "g.set_xticklabels(rotation=90)"
   ]
  },
  {
   "cell_type": "code",
   "execution_count": null,
   "metadata": {},
   "outputs": [],
   "source": [
    "# Exibe o grafico de catPlot com a relacao entre DefensePersonnel e Jardas\n",
    "g = sns.catplot(x='DefensePersonnel', y='Yards', data=train_jog, kind=\"violin\", height=8, aspect=2)\n",
    "g.set_xticklabels(rotation=90)"
   ]
  },
  {
   "cell_type": "code",
   "execution_count": null,
   "metadata": {},
   "outputs": [],
   "source": [
    "# Exibe o grafico de catPlot com a relacao entre OffenseFormation e Jardas\n",
    "g = sns.catplot(x='OffenseFormation', y='Yards', data=train_jog, kind=\"violin\", height=8, aspect=2)\n",
    "g.set_xticklabels(rotation=90)"
   ]
  },
  {
   "cell_type": "code",
   "execution_count": null,
   "metadata": {},
   "outputs": [],
   "source": [
    "# Exibe o grafico de scatterPlot com a relacao entre DefendersInTheBox e Jardas\n",
    "plt.figure(figsize=(18, 8))\n",
    "sns.regplot(x='DefendersInTheBox', y='Yards', data=train_jog, color='b', x_jitter=2)\n",
    "plt.xlabel('Defenders In The Box')\n",
    "plt.ylabel('Jardas avancadas')\n",
    "plt.title('Defenders In The Box vs Jardas', fontsize=20)\n",
    "plt.show()"
   ]
  },
  {
   "cell_type": "code",
   "execution_count": null,
   "metadata": {
    "scrolled": true
   },
   "outputs": [],
   "source": [
    "# UTC time of the snap\n",
    "train_jog['TimeSnap'].value_counts().head()"
   ]
  },
  {
   "cell_type": "code",
   "execution_count": null,
   "metadata": {
    "scrolled": true
   },
   "outputs": [],
   "source": [
    "# UTC time of the handoff\n",
    "train_jog['TimeHandoff'].value_counts().head()"
   ]
  },
  {
   "cell_type": "code",
   "execution_count": null,
   "metadata": {},
   "outputs": [],
   "source": [
    "# Exibe o grafico linear com a relacao entre Distancia, Down e Jardas\n",
    "g = sns.lmplot(x='Distance', y='Yards', data=train_jog, x_jitter=.2, col=\"Down\" , height=6, aspect=1)"
   ]
  },
  {
   "cell_type": "code",
   "execution_count": null,
   "metadata": {},
   "outputs": [],
   "source": [
    "# Exibe o grafico de scatterPlot com a relacao entre Distance e Jardas\n",
    "plt.figure(figsize=(18, 8))\n",
    "sns.regplot(x='Distance', y='Yards', data=train_jog, color='b', x_jitter=2)\n",
    "plt.xlabel('Distance')\n",
    "plt.ylabel('Jardas avancadas')\n",
    "plt.title('Distance vs Jardas', fontsize=20)\n",
    "plt.show()"
   ]
  },
  {
   "cell_type": "code",
   "execution_count": null,
   "metadata": {},
   "outputs": [],
   "source": [
    "# Exibe o grafico de scatterPlot com a relacao entre Dis e Jardas\n",
    "plt.figure(figsize=(18, 8))\n",
    "sns.regplot(x='Dis', y='Yards', data=train_jog, color='b', x_jitter=2)\n",
    "plt.xlabel('Dis')\n",
    "plt.ylabel('Jardas avancadas')\n",
    "plt.title('Dis vs Jardas', fontsize=20)\n",
    "plt.show()"
   ]
  },
  {
   "cell_type": "code",
   "execution_count": null,
   "metadata": {},
   "outputs": [],
   "source": [
    "fig, (ax1, ax2) = plt.subplots(ncols=2, figsize=(18, 8))\n",
    "\n",
    "ax1.set_title('Distance')\n",
    "sns.regplot(x='Distance', y='Yards', data=train_jog, color='b', x_jitter=2, ax=ax1)\n",
    "\n",
    "ax2.set_title('Dis')\n",
    "sns.regplot(x='Dis', y='Yards', data=train_jog, color='g', x_jitter=2, ax=ax2)\n",
    "\n",
    "plt.show()"
   ]
  },
  {
   "cell_type": "code",
   "execution_count": null,
   "metadata": {},
   "outputs": [],
   "source": [
    "fig, (ax1, ax2) = plt.subplots(ncols=2, figsize=(18, 8))\n",
    "\n",
    "ax1.set_title('Aceleração')\n",
    "sns.regplot(x='A', y='Yards', data=train_jog, color='b', x_jitter=2, ax=ax1)\n",
    "\n",
    "ax2.set_title('Velocidade')\n",
    "sns.regplot(x='S', y='Yards', data=train_jog, color='g', x_jitter=2, ax=ax2)\n",
    "\n",
    "plt.show()"
   ]
  },
  {
   "cell_type": "code",
   "execution_count": null,
   "metadata": {},
   "outputs": [],
   "source": [
    "# Exibe o grafico de scatterPlot com a relacao entre Aceleração e Velocidade\n",
    "plt.figure(figsize=(18, 8))\n",
    "sns.regplot(x='A', y='S', data=train_jog, color='b', x_jitter=2)\n",
    "plt.xlabel('Aceleração')\n",
    "plt.ylabel('Velocidade')\n",
    "plt.title('Aceleração vs Velocidade', fontsize=20)\n",
    "plt.show()"
   ]
  },
  {
   "cell_type": "markdown",
   "metadata": {},
   "source": [
    "### Analisando as variaveis de POSICIONAMENTO DO JOGADOR (player)\n",
    "\n",
    "- **X:** posição do jogador ao longo do eixo longo do campo\n",
    "- **Y:** posição do jogador ao longo do eixo curto do campo\n",
    "- **Orientation:** orientação do jogador\n",
    "- **Dir:** anglo do movimento do jogador"
   ]
  },
  {
   "cell_type": "code",
   "execution_count": null,
   "metadata": {},
   "outputs": [],
   "source": [
    "# Visualizando o grafico de distribuicao para cada feature do ambiente\n",
    "columns_to_plot = ['X', 'Y', 'PossessionTeam', 'Orientation', 'Dir']\n",
    "plot_distribution(train_jog[columns_to_plot], cols=3, width=30, height=20, hspace=0.8, wspace=0.5)"
   ]
  },
  {
   "cell_type": "code",
   "execution_count": null,
   "metadata": {},
   "outputs": [],
   "source": [
    "fig, (ax1, ax2) = plt.subplots(ncols=2, figsize=(18, 8))\n",
    "\n",
    "ax1.set_title('Angulo X')\n",
    "sns.regplot(x='X', y='Yards', data=train_jog, color='b', x_jitter=2, ax=ax1)\n",
    "\n",
    "ax2.set_title('Angulo Y')\n",
    "sns.regplot(x='Y', y='Yards', data=train_jog, color='g', x_jitter=2, ax=ax2)\n",
    "\n",
    "plt.show()"
   ]
  },
  {
   "cell_type": "code",
   "execution_count": null,
   "metadata": {},
   "outputs": [],
   "source": [
    "# Exibe o grafico de scatterPlot com a relacao entre o angulo do jogador X e Y\n",
    "plt.figure(figsize=(18, 8))\n",
    "sns.regplot(x='X', y='Y', data=train_jog, color='b', x_jitter=2)\n",
    "plt.xlabel('X')\n",
    "plt.ylabel('Y')\n",
    "plt.title('Angulo do Jogador (X vs Y)', fontsize=20)\n",
    "plt.show()"
   ]
  },
  {
   "cell_type": "code",
   "execution_count": null,
   "metadata": {
    "scrolled": true
   },
   "outputs": [],
   "source": [
    "train_jog['Orientation'].value_counts().head()"
   ]
  },
  {
   "cell_type": "code",
   "execution_count": null,
   "metadata": {},
   "outputs": [],
   "source": [
    "fig, (ax1, ax2) = plt.subplots(ncols=2, figsize=(18, 8))\n",
    "\n",
    "ax1.set_title('Orientation')\n",
    "sns.regplot(x='Orientation', y='Yards', data=train_jog, color='b', x_jitter=2, ax=ax1)\n",
    "\n",
    "ax2.set_title('Dir')\n",
    "sns.regplot(x='Dir', y='Yards', data=train_jog, color='g', x_jitter=2, ax=ax2)\n",
    "\n",
    "plt.show()"
   ]
  },
  {
   "cell_type": "code",
   "execution_count": null,
   "metadata": {},
   "outputs": [],
   "source": [
    "# Exibe o grafico de scatterPlot com a relacao entre Orientation e Dir\n",
    "plt.figure(figsize=(18, 8))\n",
    "sns.regplot(x='Orientation', y='Dir', data=train_jog, color='b', x_jitter=2)\n",
    "plt.xlabel('Orientation')\n",
    "plt.ylabel('Dir')\n",
    "plt.title('Orientation x Dir', fontsize=20)\n",
    "plt.show()"
   ]
  },
  {
   "cell_type": "markdown",
   "metadata": {},
   "source": [
    "# 7. Feature Engineering"
   ]
  },
  {
   "cell_type": "code",
   "execution_count": null,
   "metadata": {},
   "outputs": [],
   "source": [
    "# Criando um novo dataset para criação das novas features\n",
    "all_feat = train.copy()\n",
    "all_feat.head()"
   ]
  },
  {
   "cell_type": "code",
   "execution_count": null,
   "metadata": {},
   "outputs": [],
   "source": [
    "# Funcao para realizar feature engineering no dataset (treino ou teste)\n",
    "def feature_engineering(df): \n",
    "    \n",
    "    # Limpeza e conversao dos dados\n",
    "    fill_na(df)\n",
    "    convert_data(df)\n",
    "    \n",
    "    # Conversao de algumas features\n",
    "    df['PlayerHeight']  = df['PlayerHeight'].apply(convert_to_cm)\n",
    "    df['PlayerWeight']  = df['PlayerWeight'].apply(convert_to_kg)\n",
    "    df['Temperature']   = df['Temperature'].apply(convert_to_celsius)\n",
    "    df['StadiumType']   = df['StadiumType'].apply(agrupar_tipo_estadio)\n",
    "    df['Stadium']       = df['Stadium'].apply(agrupar_estadio)\n",
    "    df['Location']      = df['Location'].apply(agrupar_local)\n",
    "    df['Turf']          = df['Turf'].apply(agrupar_gramado)\n",
    "    df['WindDirection'] = df['WindDirection'].apply(agrupa_wind_direction)\n",
    "    df['WindSpeed']     = df['WindSpeed'].apply(convert_wind_speed)\n",
    "    df['GameWeather']   = df['GameWeather'].apply(agrupar_clima)\n",
    "    df['GameClock']     = df['GameClock'].apply(str_to_seconds)\n",
    "\n",
    "    # Corrigindo a feature Stadium\n",
    "    df.loc[df['Stadium'] == 'MetLife Stadium', 'StadiumType'] = 'outdoor'\n",
    "    df.loc[df['Stadium'] == 'StubHub Center', 'StadiumType'] = 'outdoor'    \n",
    "    \n",
    "    # Nova feature com a diferença entre o tempo de lançamento da bola até quando o jogador captura\n",
    "    df['TimeDifer'] = df.apply(lambda row: (row['TimeHandoff'] - row['TimeSnap']).total_seconds(), axis=1)            \n",
    "         \n",
    "    # Nova feature para indicar se é o jogador que esta realizando a jogada (corredor)\n",
    "    df['IsRusher'] = df['NflId'] == df['NflIdRusher']\n",
    "    \n",
    "    # Cria um label encoder object\n",
    "    le = preprocessing.LabelEncoder()\n",
    "\n",
    "    # Iteracao para cada coluna do dataset de treino\n",
    "    for col in df:\n",
    "        if df[col].dtype == 'object':\n",
    "            le.fit_transform(df[col].astype(str))\n",
    "            df[col] = le.transform(df[col])      \n",
    "\n",
    "\n",
    "    # Ordenacao do dataset e renovando o index\n",
    "    df = df.sort_values(by=['PlayId', 'Team', 'IsRusher']).reset_index()\n",
    "    \n",
    "    # Removendo colunas que não serão utilizadas\n",
    "    df = df.drop(['index','Yards','GameId','PlayId','NflId', 'DisplayName','NflIdRusher', 'TimeHandoff', 'TimeSnap', 'PlayerBirthDate'], axis=1)\n",
    "\n",
    "    # Atribuindo -999 para os demais dados missing\n",
    "    df.fillna(-999, inplace=True)\n",
    "    \n",
    "    return df"
   ]
  },
  {
   "cell_type": "raw",
   "metadata": {},
   "source": [
    "# Aplicando One_hot_encoding na feature 'OffenseFormation'\n",
    "all_feat = pd.concat([all_feat.drop(['OffenseFormation'], axis=1), \n",
    "                      pd.get_dummies(all_feat['OffenseFormation'], prefix='Formation')], axis=1)\n",
    "\n",
    "# Aplicando One_hot_encoding na feature 'WindDirection'\n",
    "all_feat = pd.concat([all_feat.drop(['WindDirection'], axis=1), \n",
    "                      pd.get_dummies(all_feat['WindDirection'], prefix='WindDirection')], axis=1)\n",
    "\n",
    "# Aplicando One_hot_encoding na feature 'GameWeather'\n",
    "all_feat = pd.concat([all_feat.drop(['GameWeather'], axis=1), \n",
    "                      pd.get_dummies(all_feat['GameWeather'], prefix='GameWeather')], axis=1)\n"
   ]
  },
  {
   "cell_type": "code",
   "execution_count": null,
   "metadata": {},
   "outputs": [],
   "source": [
    "# Criando um novo dataset aplicando Feature Engineering\n",
    "all_feat = train.copy()\n",
    "train_df = feature_engineering(all_feat)"
   ]
  },
  {
   "cell_type": "markdown",
   "metadata": {},
   "source": [
    "# 8. Criação e Validação dos Modelos de ML"
   ]
  },
  {
   "cell_type": "markdown",
   "metadata": {},
   "source": [
    "## Algumas considerações deste processo:\n",
    "- **Cross Validation:** Estou usando 5-fold cross-validation\n",
    "- **Models:** LightGBM Regression"
   ]
  },
  {
   "cell_type": "code",
   "execution_count": null,
   "metadata": {},
   "outputs": [],
   "source": [
    "# Fazendo uma limpeza na memoria\n",
    "gc.collect()"
   ]
  },
  {
   "cell_type": "code",
   "execution_count": null,
   "metadata": {},
   "outputs": [],
   "source": [
    "# Setup cross validation folds\n",
    "kf = 5\n",
    "folds = KFold(n_splits=kf, shuffle=False, random_state=42)\n",
    "print(str(kf) + ' Folds para treino...')"
   ]
  },
  {
   "cell_type": "code",
   "execution_count": null,
   "metadata": {},
   "outputs": [],
   "source": [
    "# Identificando as features para o modelo\n",
    "features = list(train_df.columns)\n",
    "X = all_feat[features]\n",
    "print(len(features),' features')\n",
    "np.array(features)"
   ]
  },
  {
   "cell_type": "code",
   "execution_count": null,
   "metadata": {},
   "outputs": [],
   "source": [
    "# Criando matrix de treino\n",
    "train_data = np.zeros((509762//22,len(features))) \n",
    "\n",
    "for i in tqdm.tqdm(range(0,509762,22)):\n",
    "    count=0\n",
    "    for c in features:\n",
    "        train_data[i//22][count] = train_df[c][i]\n",
    "        count+=1"
   ]
  },
  {
   "cell_type": "code",
   "execution_count": null,
   "metadata": {},
   "outputs": [],
   "source": [
    "# Split de dados e label\n",
    "X_train = pd.DataFrame(data=train_data,columns=features)\n",
    "y_train_ = np.array([all_feat[\"Yards\"][i] for i in range(0,509762,22)])"
   ]
  },
  {
   "cell_type": "code",
   "execution_count": null,
   "metadata": {},
   "outputs": [],
   "source": [
    "# Normalizacao das features \n",
    "y_tr = np.zeros(len(y_train_),dtype=np.float)\n",
    "for i in range(len(y_tr)):\n",
    "    y_tr[i]=(y_train_[i])\n",
    "\n",
    "scaler = preprocessing.StandardScaler()\n",
    "scaler.fit([[y] for y in y_tr])\n",
    "y_tr = np.array([y[0] for y in scaler.transform([[y] for y in y_tr])])\n",
    "data = [0 for i in range(199)]\n",
    "for y in y_tr:\n",
    "    data[int(y+99)]+=1\n",
    "plt.plot([i-99 for i in range(199)],data)"
   ]
  },
  {
   "cell_type": "markdown",
   "metadata": {},
   "source": [
    "## Validação\n",
    "Continuous Ranked Probability Score (CRPS) is derived based on the predicted scalar value.\n",
    "The CRPS is computed as follows:\n",
    "$$\n",
    "C=\\frac{1}{199N}\\sum_{m=1}^N\\sum_{n=-99}^{99}(P(y\\geq n)-H(n-Y_m))^2\n",
    "$$\n",
    "$H(x)=1$ if $x\\geq 0$ else $0$"
   ]
  },
  {
   "cell_type": "code",
   "execution_count": null,
   "metadata": {},
   "outputs": [],
   "source": [
    "def funcao_crps(labels,predictions) :\n",
    "    y_pred = np.zeros((len(labels),199))\n",
    "    y_ans = np.zeros((len(labels),199))\n",
    "    j = np.array(range(199))\n",
    "    for i,(p,t) in enumerate(zip(np.round(scaler.inverse_transform(predictions)),labels)) :\n",
    "        k2 = j[j>=p-10]\n",
    "        y_pred[i][k2]=(k2+10-p)*0.05\n",
    "        k1 = j[j>=p+10]\n",
    "        y_pred[i][k1]= 1.0\n",
    "        k3 = j[j>=t]\n",
    "        y_ans[i][k3]= 1.0\n",
    "                           \n",
    "    return 'CRPS: ', np.sum((y_pred-y_ans)**2)/(199*y_pred.shape[0]), False"
   ]
  },
  {
   "cell_type": "code",
   "execution_count": null,
   "metadata": {},
   "outputs": [],
   "source": [
    "best_params_lgb = {\n",
    "    \"boosting\": \"gbdt\",\n",
    "    \"verbosity\": -1,\n",
    "    \"num_leaves\":3,\n",
    "    \"min_data_in_leaf\": 10,\n",
    "    \"max_depth\": -1,\n",
    "    \"learning_rate\": 0.0005,\n",
    "    \"bagging_freq\": 4,\n",
    "    \"bagging_fraction\": 0.1,\n",
    "    \"bagging_seed\": 11,\n",
    "    \"feature_fraction\" : 1,\n",
    "    \"random_seed\": 19,\n",
    "    \"metric\": \"rmse\",\n",
    "    \"boost_from_average\" : False\n",
    "}"
   ]
  },
  {
   "cell_type": "code",
   "execution_count": null,
   "metadata": {},
   "outputs": [],
   "source": [
    "oof = np.zeros(len(X_train))\n",
    "feature_importance_df = pd.DataFrame()\n",
    "\n",
    "tr_rmse  = []\n",
    "val_rmse = []\n",
    "models   = []\n",
    "\n",
    "for fold_, (trn_idx, val_idx) in enumerate(folds.split(X_train,y_tr)):\n",
    "    strLog = \"fold {}\".format(fold_)\n",
    "    print(strLog)\n",
    "    \n",
    "    X_tr, X_val = train_df.iloc[trn_idx][features], train_df.iloc[val_idx][features]\n",
    "    train_y, y_val = y_tr[trn_idx], y_tr[val_idx]\n",
    "\n",
    "    model = lgb.LGBMRegressor(**best_params_lgb, n_estimators = 100, n_jobs = -1)\n",
    "    model.fit(X_tr, \n",
    "              train_y, \n",
    "              eval_set=[(X_tr, train_y), (X_val, y_val)], \n",
    "              eval_metric=funcao_crps,\n",
    "              verbose=10, \n",
    "              early_stopping_rounds=99)\n",
    "    \n",
    "    oof[val_idx] = model.predict(X_val)\n",
    "    \n",
    "    val_score = mean_squared_error(y_val, oof[val_idx])\n",
    "    val_rmse.append(val_score)\n",
    "    \n",
    "    tr_score = mean_squared_error(train_y, model.predict(X_tr))\n",
    "    tr_rmse.append(tr_score)\n",
    "    \n",
    "    models.append(model)\n",
    "    \n",
    "    \n",
    "    # Feature importance\n",
    "    fold_importance_df = pd.DataFrame()\n",
    "    fold_importance_df[\"Feature\"] = X_tr.columns\n",
    "    fold_importance_df[\"importance\"] = model.feature_importances_[:len(X_tr.columns)]\n",
    "    fold_importance_df[\"fold\"] = fold_ + 1\n",
    "    feature_importance_df = pd.concat([feature_importance_df, fold_importance_df], axis=0)"
   ]
  },
  {
   "cell_type": "code",
   "execution_count": null,
   "metadata": {},
   "outputs": [],
   "source": [
    "cols = (feature_importance_df[[\"Feature\", \"importance\"]]\n",
    "        .groupby(\"Feature\")\n",
    "        .mean()\n",
    "        .sort_values(by=\"importance\", ascending=False)[:50].index)\n",
    "best_features = feature_importance_df.loc[feature_importance_df.Feature.isin(cols)]\n",
    "\n",
    "plt.figure(figsize=(18,18))\n",
    "sns.barplot(x=\"importance\", y=\"Feature\", data=best_features.sort_values(by=\"importance\",ascending=False))\n",
    "plt.title('LightGBM Features Importance (media dos folds)')\n",
    "plt.tight_layout()"
   ]
  },
  {
   "cell_type": "code",
   "execution_count": null,
   "metadata": {},
   "outputs": [],
   "source": [
    "# Validacao do modelo\n",
    "# Imprimir o score de treino e teste\n",
    "\n",
    "mean_rmse_tr = np.mean(tr_rmse)\n",
    "std_rmse_tr =  np.std(tr_rmse)\n",
    "\n",
    "mean_rmse_val =  np.mean(val_rmse)\n",
    "std_rmse_val =  np.std(val_rmse)\n",
    "\n",
    "all_rmse = mean_squared_error(oof,y_tr)\n",
    "\n",
    "print(\"Score de Treino\")\n",
    "print(\"Média RMSE: %.5f, std: %.5f.\" % (mean_rmse_tr, std_rmse_tr),'\\n')\n",
    "\n",
    "print(\"Score de Validação\")\n",
    "print(\"Média RMSE: %.5f, std: %.5f.\" % (mean_rmse_val, std_rmse_val),'\\n')\n",
    "\n",
    "print(\"Geral: %.5f.\" % (all_rmse),'\\n')\n",
    "\n",
    "print(\"CRPS: %.5f.\" % (funcao_crps(y_tr,oof)[1]))"
   ]
  },
  {
   "cell_type": "markdown",
   "metadata": {},
   "source": [
    "# REALIZANDO A SUBMISSAO"
   ]
  },
  {
   "cell_type": "raw",
   "metadata": {},
   "source": [
    "# Funcao para realizar feature engineering no dataset de teste\n",
    "def feature_engineering_test(df): \n",
    "    \n",
    "    # Limpeza e conversao dos dados\n",
    "    fill_na(df)\n",
    "    convert_data(df)\n",
    "    \n",
    "    # Conversao de algumas features\n",
    "    df['PlayerHeight']  = df['PlayerHeight'].apply(convert_to_cm)\n",
    "    df['PlayerWeight']  = df['PlayerWeight'].apply(convert_to_kg)\n",
    "    df['Temperature']   = df['Temperature'].apply(convert_to_celsius)\n",
    "    df['StadiumType']   = df['StadiumType'].apply(agrupar_tipo_estadio)\n",
    "    df['Stadium']       = df['Stadium'].apply(agrupar_estadio)\n",
    "    df['Location']      = df['Location'].apply(agrupar_local)\n",
    "    df['Turf']          = df['Turf'].apply(agrupar_gramado)\n",
    "    df['WindDirection'] = df['WindDirection'].apply(agrupa_wind_direction)\n",
    "    df['WindSpeed']     = df['WindSpeed'].apply(convert_wind_speed)\n",
    "    df['GameWeather']   = df['GameWeather'].apply(agrupar_clima)\n",
    "    df['GameClock']     = df['GameClock'].apply(str_to_seconds)\n",
    "\n",
    "    # Corrigindo a feature Stadium\n",
    "    df.loc[df['Stadium'] == 'MetLife Stadium', 'StadiumType'] = 'outdoor'\n",
    "    df.loc[df['Stadium'] == 'StubHub Center', 'StadiumType'] = 'outdoor'    \n",
    "    \n",
    "    # Nova feature com a diferença entre o tempo de lançamento da bola até quando o jogador captura\n",
    "    df['TimeDifer'] = df.apply(lambda row: (row['TimeHandoff'] - row['TimeSnap']).total_seconds(), axis=1)            \n",
    "         \n",
    "    # Nova feature para indicar se é o jogador que esta realizando a jogada (corredor)\n",
    "    df['IsRusher'] = df['NflId'] == df['NflIdRusher']\n",
    "    \n",
    "    # Cria um label encoder object\n",
    "    le = preprocessing.LabelEncoder()\n",
    "\n",
    "    # Iteracao para cada coluna do dataset de treino\n",
    "    for col in df:\n",
    "        if df[col].dtype == 'object':\n",
    "            le.fit_transform(df[col].astype(str))\n",
    "            df[col] = le.transform(df[col])      \n",
    "\n",
    "    # Ordenacao do dataset e renovando o index\n",
    "    df = df.sort_values(by=['PlayId', 'Team', 'IsRusher']).reset_index()\n",
    "    \n",
    "    # Removendo colunas que não serão utilizadas\n",
    "    df = df.drop(['index','GameId','PlayId','NflId', 'DisplayName','NflIdRusher', 'TimeHandoff', 'TimeSnap', 'PlayerBirthDate'], axis=1)\n",
    "\n",
    "    # Atribuindo -999 para os demais dados missing\n",
    "    df.fillna(-999, inplace=True)\n",
    "    \n",
    "    return df"
   ]
  },
  {
   "cell_type": "raw",
   "metadata": {},
   "source": [
    "from kaggle.competitions import nflrush\n",
    "\n",
    "pd.options.mode.chained_assignment = None\n",
    "index = 0\n",
    "\n",
    "env = nflrush.make_env()\n",
    "\n",
    "for (df_test, sample_prediction_df) in tqdm.tqdm(env.iter_test()):\n",
    "    df_test = feature_engineering_test(df_test)\n",
    "    \n",
    "    count=0\n",
    "    test_data = np.zeros((1,len(features)))\n",
    "\n",
    "    for c in features:\n",
    "        if c in df_test:\n",
    "            try:\n",
    "                test_data[0][count] = df_test[c][index]\n",
    "            except:\n",
    "                test_data[0][count] = np.nan\n",
    "            count+=1\n",
    "    \n",
    "    y_pred = np.zeros(199)        \n",
    "    y_pred_p = np.sum(np.round(scaler.inverse_transform([model.predict(test_data)[0] for model in models])))/kf\n",
    "    y_pred_p += 99\n",
    "    \n",
    "    for j in range(199):\n",
    "        if j>=y_pred_p+10:\n",
    "            y_pred[j]=1.0\n",
    "        elif j>=y_pred_p-10:\n",
    "            y_pred[j]=(j+10-y_pred_p)*0.05\n",
    "    \n",
    "    env.predict(pd.DataFrame(data=[y_pred],columns=sample_prediction_df.columns))\n",
    "    \n",
    "    index += 22\n",
    "    \n",
    "env.write_submission_file()\n",
    "\n",
    "print([filename for filename in os.listdir('/kaggle/working') if '.csv' in filename])"
   ]
  }
 ],
 "metadata": {
  "kernelspec": {
   "display_name": "Python 3",
   "language": "python",
   "name": "python3"
  },
  "language_info": {
   "codemirror_mode": {
    "name": "ipython",
    "version": 3
   },
   "file_extension": ".py",
   "mimetype": "text/x-python",
   "name": "python",
   "nbconvert_exporter": "python",
   "pygments_lexer": "ipython3",
   "version": "3.7.3"
  }
 },
 "nbformat": 4,
 "nbformat_minor": 1
}
